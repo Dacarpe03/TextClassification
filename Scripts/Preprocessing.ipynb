{
 "cells": [
  {
   "cell_type": "markdown",
   "metadata": {},
   "source": [
    "# PRÁCTICA 2: Clasificador de noticias\n",
    "\n",
    "### Nombres:\n",
    "Introduce en esta celda los nombres de los dos integrantes del grupo:\n",
    "- *Alumno 1:* DANIEL CARMONA PEDRAJAS\n",
    "- *Alumno 2:* JOEL PARDO FERRERA"
   ]
  },
  {
   "cell_type": "markdown",
   "metadata": {},
   "source": [
    "Objetivo: Implementar un clasificador usando el conjunto de datos recopilado de varias fuentes de internet como:\n",
    "\n",
    "- Google News que toma noticias de varios repositorios dedicados a la información\n",
    "- Periódicos:\n",
    "    - El País\n",
    "    - ABC\n",
    "    - El Confidencial\n",
    "    - 20minutos\n",
    "    - El Diario\n",
    "\n",
    "Este repositorio incluye tanto las noticias en formato '.txt' donde se almacenan los cuerpos de noticia y sus correspondientes títulos, como un '.csv' donde se contiene un registro de todas las noticias donde se refleja el número de noticias, la clase a la que pertenece (deportes, salud, ciencia y politica), el número de noticia dentro de la clase correspondiente, el título de noticia, la ruta donde está almacenada esa noticia, y por último la URL de donde se ha sacado la noticia. \n",
    "\n",
    "La fechas tanto de publicación como de obtención e datos se ubican en Noviembre de 2022. \n",
    "\n",
    "La clase a predecir es el tipo de noticia (columna 'category' de la base de datos), a partir de los archivos '.txt'. "
   ]
  },
  {
   "cell_type": "markdown",
   "metadata": {},
   "source": [
    "## 1. IMPORTACIÓN DE LIBRERÍAS"
   ]
  },
  {
   "cell_type": "code",
   "execution_count": 1,
   "metadata": {},
   "outputs": [],
   "source": [
    "# git config --global user.email \"jpardo0824@gmail.com\"\n",
    "# git config --global user.name \"JPardo08\""
   ]
  },
  {
   "cell_type": "code",
   "execution_count": 2,
   "metadata": {},
   "outputs": [],
   "source": [
    "# !pip3 install pandas\n",
    "# !pip3 install spacy\n",
    "# !pip3 install scikit-learn"
   ]
  },
  {
   "cell_type": "code",
   "execution_count": 3,
   "metadata": {},
   "outputs": [],
   "source": [
    "import pandas as pd\n",
    "import numpy as np\n",
    "import spacy\n",
    "import unicodedata\n",
    "import os\n",
    "#from spellchecker import SpellChecker \n",
    "#from textblob import TextBlob \n",
    "#import contractions\n",
    "import re\n",
    "import random\n",
    "from sklearn.feature_extraction.text import CountVectorizer, TfidfTransformer\n",
    "from sklearn.utils import resample\n",
    "from sklearn.model_selection import train_test_split\n",
    "from sklearn import metrics\n",
    "from sklearn.naive_bayes import GaussianNB\n",
    "from sklearn.linear_model import SGDClassifier, LogisticRegression\n",
    "from sklearn.svm import SVC"
   ]
  },
  {
   "cell_type": "markdown",
   "metadata": {},
   "source": [
    "## 2. CARGA DE DATOS\n",
    "Cargamos los datos en dos formatos:\n",
    "* DataFrame de pandas\n",
    "* Generador\n",
    "\n",
    "Para cargar los datos utilizamos la librería pandas. \n",
    "La funcion implementada recibe la ruta del archivo .csv que queramos cargar y devuelve los textos en una variable generador."
   ]
  },
  {
   "cell_type": "code",
   "execution_count": 4,
   "metadata": {},
   "outputs": [],
   "source": [
    "ruta = \"..\" ## CAMBIAR"
   ]
  },
  {
   "cell_type": "code",
   "execution_count": 5,
   "metadata": {},
   "outputs": [],
   "source": [
    "def cargar_txts(dataframe):\n",
    "    \"\"\" \n",
    "    Función para coger los documentos '.txt' de las noticias\n",
    "    \"\"\"\n",
    "    paths = dataframe[\"path\"].tolist()\n",
    "    clases = dataframe[\"category\"].unique().tolist()\n",
    "\n",
    "    documentos = []\n",
    "\n",
    "    for p in paths:\n",
    "        t = p.replace(\".\", ruta, 1) \n",
    "        s = t.replace(\"/\", \"//\")\n",
    "        print(s)\n",
    "\n",
    "        with open(s, \"r\", encoding=\"latin-1\", errors='ignore') as f:\n",
    "            lineas = f.readlines()\n",
    "            txt1 = ''.join(lineas)\n",
    "            documentos.append(txt1)\n",
    "            \n",
    "    return clases, documentos"
   ]
  },
  {
   "cell_type": "code",
   "execution_count": 6,
   "metadata": {},
   "outputs": [
    {
     "name": "stdout",
     "output_type": "stream",
     "text": [
      "..//Datos//urls1.csv\n"
     ]
    },
    {
     "name": "stderr",
     "output_type": "stream",
     "text": [
      "C:\\Users\\Daniel\\AppData\\Local\\Temp\\ipykernel_2296\\2303741000.py:9: FutureWarning: In a future version of pandas all arguments of read_csv except for the argument 'filepath_or_buffer' will be keyword-only.\n",
      "  noticias_dataframe = pd.read_csv(path_urls_dataframe,',')\n"
     ]
    },
    {
     "data": {
      "text/html": [
       "<div>\n",
       "<style scoped>\n",
       "    .dataframe tbody tr th:only-of-type {\n",
       "        vertical-align: middle;\n",
       "    }\n",
       "\n",
       "    .dataframe tbody tr th {\n",
       "        vertical-align: top;\n",
       "    }\n",
       "\n",
       "    .dataframe thead th {\n",
       "        text-align: right;\n",
       "    }\n",
       "</style>\n",
       "<table border=\"1\" class=\"dataframe\">\n",
       "  <thead>\n",
       "    <tr style=\"text-align: right;\">\n",
       "      <th></th>\n",
       "      <th>index</th>\n",
       "      <th>category</th>\n",
       "      <th>n_doc</th>\n",
       "      <th>title</th>\n",
       "      <th>path</th>\n",
       "      <th>link</th>\n",
       "    </tr>\n",
       "  </thead>\n",
       "  <tbody>\n",
       "    <tr>\n",
       "      <th>0</th>\n",
       "      <td>0</td>\n",
       "      <td>sports</td>\n",
       "      <td>1</td>\n",
       "      <td>Memphis y Dumfries certifican que el 'soccer' ...</td>\n",
       "      <td>./Datos/Raw_data/sports/1.txt</td>\n",
       "      <td>https://news.google.com/__i/rss/rd/articles/CB...</td>\n",
       "    </tr>\n",
       "    <tr>\n",
       "      <th>1</th>\n",
       "      <td>1</td>\n",
       "      <td>sports</td>\n",
       "      <td>2</td>\n",
       "      <td>Con el dinero no basta en el fútbol - AS</td>\n",
       "      <td>./Datos/Raw_data/sports/2.txt</td>\n",
       "      <td>https://news.google.com/__i/rss/rd/articles/CB...</td>\n",
       "    </tr>\n",
       "    <tr>\n",
       "      <th>2</th>\n",
       "      <td>2</td>\n",
       "      <td>sports</td>\n",
       "      <td>3</td>\n",
       "      <td>El fútbol es un cuento - La Voz de Galicia</td>\n",
       "      <td>./Datos/Raw_data/sports/3.txt</td>\n",
       "      <td>https://news.google.com/__i/rss/rd/articles/CB...</td>\n",
       "    </tr>\n",
       "    <tr>\n",
       "      <th>3</th>\n",
       "      <td>3</td>\n",
       "      <td>sports</td>\n",
       "      <td>4</td>\n",
       "      <td>Cavani y Giménez serán sancionados pero no con...</td>\n",
       "      <td>./Datos/Raw_data/sports/4.txt</td>\n",
       "      <td>https://news.google.com/__i/rss/rd/articles/CB...</td>\n",
       "    </tr>\n",
       "    <tr>\n",
       "      <th>4</th>\n",
       "      <td>4</td>\n",
       "      <td>sports</td>\n",
       "      <td>5</td>\n",
       "      <td>Suspendido por una tangana a puñetazos el Alme...</td>\n",
       "      <td>./Datos/Raw_data/sports/5.txt</td>\n",
       "      <td>https://news.google.com/__i/rss/rd/articles/CB...</td>\n",
       "    </tr>\n",
       "  </tbody>\n",
       "</table>\n",
       "</div>"
      ],
      "text/plain": [
       "   index category  n_doc                                              title  \\\n",
       "0      0   sports      1  Memphis y Dumfries certifican que el 'soccer' ...   \n",
       "1      1   sports      2          Con el dinero no basta en el fútbol - AS    \n",
       "2      2   sports      3         El fútbol es un cuento - La Voz de Galicia   \n",
       "3      3   sports      4  Cavani y Giménez serán sancionados pero no con...   \n",
       "4      4   sports      5  Suspendido por una tangana a puñetazos el Alme...   \n",
       "\n",
       "                            path  \\\n",
       "0  ./Datos/Raw_data/sports/1.txt   \n",
       "1  ./Datos/Raw_data/sports/2.txt   \n",
       "2  ./Datos/Raw_data/sports/3.txt   \n",
       "3  ./Datos/Raw_data/sports/4.txt   \n",
       "4  ./Datos/Raw_data/sports/5.txt   \n",
       "\n",
       "                                                link  \n",
       "0  https://news.google.com/__i/rss/rd/articles/CB...  \n",
       "1  https://news.google.com/__i/rss/rd/articles/CB...  \n",
       "2  https://news.google.com/__i/rss/rd/articles/CB...  \n",
       "3  https://news.google.com/__i/rss/rd/articles/CB...  \n",
       "4  https://news.google.com/__i/rss/rd/articles/CB...  "
      ]
     },
     "execution_count": 6,
     "metadata": {},
     "output_type": "execute_result"
    }
   ],
   "source": [
    "urls_dataframe = ruta + \"/Datos/urls1.csv\"\n",
    "path_urls_dataframe = urls_dataframe.replace(\"/\", \"//\")\n",
    "print(path_urls_dataframe)\n",
    "\n",
    "# df_gen = parse(r'/Users/joelpardo/Desktop/TextClassification/Datos/urls1.csv')\n",
    "\n",
    "\n",
    "\n",
    "noticias_dataframe = pd.read_csv(path_urls_dataframe,',')\n",
    "\n",
    "#Visualizamos los datos\n",
    "noticias_dataframe.head()"
   ]
  },
  {
   "cell_type": "code",
   "execution_count": 7,
   "metadata": {},
   "outputs": [
    {
     "name": "stdout",
     "output_type": "stream",
     "text": [
      "..//Datos//Raw_data//sports//1.txt\n",
      "..//Datos//Raw_data//sports//2.txt\n",
      "..//Datos//Raw_data//sports//3.txt\n",
      "..//Datos//Raw_data//sports//4.txt\n",
      "..//Datos//Raw_data//sports//5.txt\n",
      "..//Datos//Raw_data//sports//6.txt\n",
      "..//Datos//Raw_data//sports//7.txt\n",
      "..//Datos//Raw_data//sports//8.txt\n",
      "..//Datos//Raw_data//sports//9.txt\n",
      "..//Datos//Raw_data//sports//10.txt\n",
      "..//Datos//Raw_data//sports//11.txt\n",
      "..//Datos//Raw_data//sports//12.txt\n",
      "..//Datos//Raw_data//sports//13.txt\n",
      "..//Datos//Raw_data//sports//14.txt\n",
      "..//Datos//Raw_data//sports//15.txt\n",
      "..//Datos//Raw_data//sports//16.txt\n",
      "..//Datos//Raw_data//sports//17.txt\n",
      "..//Datos//Raw_data//sports//18.txt\n",
      "..//Datos//Raw_data//sports//19.txt\n",
      "..//Datos//Raw_data//sports//20.txt\n",
      "..//Datos//Raw_data//sports//21.txt\n",
      "..//Datos//Raw_data//sports//22.txt\n",
      "..//Datos//Raw_data//sports//23.txt\n",
      "..//Datos//Raw_data//sports//24.txt\n",
      "..//Datos//Raw_data//sports//25.txt\n",
      "..//Datos//Raw_data//sports//26.txt\n",
      "..//Datos//Raw_data//sports//27.txt\n",
      "..//Datos//Raw_data//sports//28.txt\n",
      "..//Datos//Raw_data//sports//29.txt\n",
      "..//Datos//Raw_data//sports//30.txt\n",
      "..//Datos//Raw_data//sports//31.txt\n",
      "..//Datos//Raw_data//sports//32.txt\n",
      "..//Datos//Raw_data//sports//33.txt\n",
      "..//Datos//Raw_data//sports//34.txt\n",
      "..//Datos//Raw_data//sports//35.txt\n",
      "..//Datos//Raw_data//sports//36.txt\n",
      "..//Datos//Raw_data//sports//37.txt\n",
      "..//Datos//Raw_data//sports//38.txt\n",
      "..//Datos//Raw_data//sports//39.txt\n",
      "..//Datos//Raw_data//sports//40.txt\n",
      "..//Datos//Raw_data//sports//41.txt\n",
      "..//Datos//Raw_data//sports//42.txt\n",
      "..//Datos//Raw_data//sports//43.txt\n",
      "..//Datos//Raw_data//sports//44.txt\n",
      "..//Datos//Raw_data//sports//45.txt\n",
      "..//Datos//Raw_data//sports//46.txt\n",
      "..//Datos//Raw_data//sports//47.txt\n",
      "..//Datos//Raw_data//sports//48.txt\n",
      "..//Datos//Raw_data//sports//49.txt\n",
      "..//Datos//Raw_data//sports//50.txt\n",
      "..//Datos//Raw_data//sports//51.txt\n",
      "..//Datos//Raw_data//sports//52.txt\n",
      "..//Datos//Raw_data//sports//53.txt\n",
      "..//Datos//Raw_data//sports//54.txt\n",
      "..//Datos//Raw_data//sports//55.txt\n",
      "..//Datos//Raw_data//sports//56.txt\n",
      "..//Datos//Raw_data//sports//57.txt\n",
      "..//Datos//Raw_data//sports//58.txt\n",
      "..//Datos//Raw_data//sports//59.txt\n",
      "..//Datos//Raw_data//sports//60.txt\n",
      "..//Datos//Raw_data//health//1.txt\n",
      "..//Datos//Raw_data//health//2.txt\n",
      "..//Datos//Raw_data//health//3.txt\n",
      "..//Datos//Raw_data//health//4.txt\n",
      "..//Datos//Raw_data//health//5.txt\n",
      "..//Datos//Raw_data//health//6.txt\n",
      "..//Datos//Raw_data//health//7.txt\n",
      "..//Datos//Raw_data//health//8.txt\n",
      "..//Datos//Raw_data//health//9.txt\n",
      "..//Datos//Raw_data//health//10.txt\n",
      "..//Datos//Raw_data//health//11.txt\n",
      "..//Datos//Raw_data//health//12.txt\n",
      "..//Datos//Raw_data//health//13.txt\n",
      "..//Datos//Raw_data//health//14.txt\n",
      "..//Datos//Raw_data//health//15.txt\n",
      "..//Datos//Raw_data//health//16.txt\n",
      "..//Datos//Raw_data//health//17.txt\n",
      "..//Datos//Raw_data//health//18.txt\n",
      "..//Datos//Raw_data//health//19.txt\n",
      "..//Datos//Raw_data//health//20.txt\n",
      "..//Datos//Raw_data//health//21.txt\n",
      "..//Datos//Raw_data//health//22.txt\n",
      "..//Datos//Raw_data//health//23.txt\n",
      "..//Datos//Raw_data//health//24.txt\n",
      "..//Datos//Raw_data//health//25.txt\n",
      "..//Datos//Raw_data//health//26.txt\n",
      "..//Datos//Raw_data//health//27.txt\n",
      "..//Datos//Raw_data//health//28.txt\n",
      "..//Datos//Raw_data//health//29.txt\n",
      "..//Datos//Raw_data//health//30.txt\n",
      "..//Datos//Raw_data//health//31.txt\n",
      "..//Datos//Raw_data//health//32.txt\n",
      "..//Datos//Raw_data//health//33.txt\n",
      "..//Datos//Raw_data//health//34.txt\n",
      "..//Datos//Raw_data//health//35.txt\n",
      "..//Datos//Raw_data//health//36.txt\n",
      "..//Datos//Raw_data//health//37.txt\n",
      "..//Datos//Raw_data//health//38.txt\n",
      "..//Datos//Raw_data//health//39.txt\n",
      "..//Datos//Raw_data//health//40.txt\n",
      "..//Datos//Raw_data//health//41.txt\n",
      "..//Datos//Raw_data//health//42.txt\n",
      "..//Datos//Raw_data//health//43.txt\n",
      "..//Datos//Raw_data//health//44.txt\n",
      "..//Datos//Raw_data//health//45.txt\n",
      "..//Datos//Raw_data//health//46.txt\n",
      "..//Datos//Raw_data//health//47.txt\n",
      "..//Datos//Raw_data//health//48.txt\n",
      "..//Datos//Raw_data//health//49.txt\n",
      "..//Datos//Raw_data//health//50.txt\n",
      "..//Datos//Raw_data//health//51.txt\n",
      "..//Datos//Raw_data//health//52.txt\n",
      "..//Datos//Raw_data//health//53.txt\n",
      "..//Datos//Raw_data//health//54.txt\n",
      "..//Datos//Raw_data//health//55.txt\n",
      "..//Datos//Raw_data//health//56.txt\n",
      "..//Datos//Raw_data//health//57.txt\n",
      "..//Datos//Raw_data//health//58.txt\n",
      "..//Datos//Raw_data//health//59.txt\n",
      "..//Datos//Raw_data//health//60.txt\n",
      "..//Datos//Raw_data//science//1.txt\n",
      "..//Datos//Raw_data//science//2.txt\n",
      "..//Datos//Raw_data//science//3.txt\n",
      "..//Datos//Raw_data//science//4.txt\n",
      "..//Datos//Raw_data//science//5.txt\n",
      "..//Datos//Raw_data//science//6.txt\n",
      "..//Datos//Raw_data//science//7.txt\n",
      "..//Datos//Raw_data//science//8.txt\n",
      "..//Datos//Raw_data//science//9.txt\n",
      "..//Datos//Raw_data//science//10.txt\n",
      "..//Datos//Raw_data//science//11.txt\n",
      "..//Datos//Raw_data//science//12.txt\n",
      "..//Datos//Raw_data//science//13.txt\n",
      "..//Datos//Raw_data//science//14.txt\n",
      "..//Datos//Raw_data//science//15.txt\n",
      "..//Datos//Raw_data//science//16.txt\n",
      "..//Datos//Raw_data//science//17.txt\n",
      "..//Datos//Raw_data//science//18.txt\n",
      "..//Datos//Raw_data//science//19.txt\n",
      "..//Datos//Raw_data//science//20.txt\n",
      "..//Datos//Raw_data//science//21.txt\n",
      "..//Datos//Raw_data//science//22.txt\n",
      "..//Datos//Raw_data//science//23.txt\n",
      "..//Datos//Raw_data//science//24.txt\n",
      "..//Datos//Raw_data//science//25.txt\n",
      "..//Datos//Raw_data//science//26.txt\n",
      "..//Datos//Raw_data//science//27.txt\n",
      "..//Datos//Raw_data//science//28.txt\n",
      "..//Datos//Raw_data//science//29.txt\n",
      "..//Datos//Raw_data//science//30.txt\n",
      "..//Datos//Raw_data//science//31.txt\n",
      "..//Datos//Raw_data//science//32.txt\n",
      "..//Datos//Raw_data//science//33.txt\n",
      "..//Datos//Raw_data//science//34.txt\n",
      "..//Datos//Raw_data//science//35.txt\n",
      "..//Datos//Raw_data//science//36.txt\n",
      "..//Datos//Raw_data//science//37.txt\n",
      "..//Datos//Raw_data//science//38.txt\n",
      "..//Datos//Raw_data//science//39.txt\n",
      "..//Datos//Raw_data//science//40.txt\n",
      "..//Datos//Raw_data//science//41.txt\n",
      "..//Datos//Raw_data//science//42.txt\n",
      "..//Datos//Raw_data//science//43.txt\n",
      "..//Datos//Raw_data//science//44.txt\n",
      "..//Datos//Raw_data//science//45.txt\n",
      "..//Datos//Raw_data//science//46.txt\n",
      "..//Datos//Raw_data//science//47.txt\n",
      "..//Datos//Raw_data//science//48.txt\n",
      "..//Datos//Raw_data//science//49.txt\n",
      "..//Datos//Raw_data//science//50.txt\n",
      "..//Datos//Raw_data//science//51.txt\n",
      "..//Datos//Raw_data//science//52.txt\n",
      "..//Datos//Raw_data//science//53.txt\n",
      "..//Datos//Raw_data//science//54.txt\n",
      "..//Datos//Raw_data//science//55.txt\n",
      "..//Datos//Raw_data//science//56.txt\n",
      "..//Datos//Raw_data//science//57.txt\n",
      "..//Datos//Raw_data//science//58.txt\n",
      "..//Datos//Raw_data//science//59.txt\n",
      "..//Datos//Raw_data//science//60.txt\n",
      "..//Datos//Raw_data//politics//1.txt\n",
      "..//Datos//Raw_data//politics//2.txt\n",
      "..//Datos//Raw_data//politics//3.txt\n",
      "..//Datos//Raw_data//politics//4.txt\n",
      "..//Datos//Raw_data//politics//5.txt\n",
      "..//Datos//Raw_data//politics//6.txt\n",
      "..//Datos//Raw_data//politics//7.txt\n",
      "..//Datos//Raw_data//politics//8.txt\n",
      "..//Datos//Raw_data//politics//9.txt\n",
      "..//Datos//Raw_data//politics//10.txt\n",
      "..//Datos//Raw_data//politics//11.txt\n",
      "..//Datos//Raw_data//politics//12.txt\n",
      "..//Datos//Raw_data//politics//13.txt\n",
      "..//Datos//Raw_data//politics//14.txt\n",
      "..//Datos//Raw_data//politics//15.txt\n",
      "..//Datos//Raw_data//politics//16.txt\n",
      "..//Datos//Raw_data//politics//17.txt\n",
      "..//Datos//Raw_data//politics//18.txt\n",
      "..//Datos//Raw_data//politics//19.txt\n",
      "..//Datos//Raw_data//politics//20.txt\n",
      "..//Datos//Raw_data//politics//21.txt\n",
      "..//Datos//Raw_data//politics//22.txt\n",
      "..//Datos//Raw_data//politics//23.txt\n",
      "..//Datos//Raw_data//politics//24.txt\n",
      "..//Datos//Raw_data//politics//25.txt\n",
      "..//Datos//Raw_data//politics//26.txt\n",
      "..//Datos//Raw_data//politics//27.txt\n",
      "..//Datos//Raw_data//politics//28.txt\n",
      "..//Datos//Raw_data//politics//29.txt\n",
      "..//Datos//Raw_data//politics//30.txt\n",
      "..//Datos//Raw_data//politics//31.txt\n",
      "..//Datos//Raw_data//politics//32.txt\n",
      "..//Datos//Raw_data//politics//33.txt\n",
      "..//Datos//Raw_data//politics//34.txt\n",
      "..//Datos//Raw_data//politics//35.txt\n",
      "..//Datos//Raw_data//politics//36.txt\n",
      "..//Datos//Raw_data//politics//37.txt\n",
      "..//Datos//Raw_data//politics//38.txt\n",
      "..//Datos//Raw_data//politics//39.txt\n",
      "..//Datos//Raw_data//politics//40.txt\n",
      "..//Datos//Raw_data//politics//41.txt\n",
      "..//Datos//Raw_data//politics//42.txt\n",
      "..//Datos//Raw_data//politics//43.txt\n",
      "..//Datos//Raw_data//politics//44.txt\n",
      "..//Datos//Raw_data//politics//45.txt\n",
      "..//Datos//Raw_data//politics//46.txt\n",
      "..//Datos//Raw_data//politics//47.txt\n",
      "..//Datos//Raw_data//politics//48.txt\n",
      "..//Datos//Raw_data//politics//49.txt\n",
      "..//Datos//Raw_data//politics//50.txt\n",
      "..//Datos//Raw_data//politics//51.txt\n",
      "..//Datos//Raw_data//politics//52.txt\n",
      "..//Datos//Raw_data//politics//53.txt\n",
      "..//Datos//Raw_data//politics//54.txt\n",
      "..//Datos//Raw_data//politics//55.txt\n",
      "..//Datos//Raw_data//politics//56.txt\n",
      "..//Datos//Raw_data//politics//57.txt\n",
      "..//Datos//Raw_data//politics//58.txt\n",
      "..//Datos//Raw_data//politics//59.txt\n",
      "..//Datos//Raw_data//politics//60.txt\n",
      "4\n",
      "240\n"
     ]
    }
   ],
   "source": [
    "clases, documentos = cargar_txts(noticias_dataframe)\n",
    "print(len(clases))\n",
    "print(len(documentos))"
   ]
  },
  {
   "cell_type": "markdown",
   "metadata": {},
   "source": [
    "Comprobamos los tipos de datos de las columnas de nuestro dataframe"
   ]
  },
  {
   "cell_type": "code",
   "execution_count": 8,
   "metadata": {},
   "outputs": [
    {
     "name": "stdout",
     "output_type": "stream",
     "text": [
      "<class 'pandas.core.frame.DataFrame'>\n"
     ]
    }
   ],
   "source": [
    "print(type(noticias_dataframe))\n",
    "# print(type(df_gen))"
   ]
  },
  {
   "cell_type": "code",
   "execution_count": 9,
   "metadata": {},
   "outputs": [
    {
     "name": "stdout",
     "output_type": "stream",
     "text": [
      "El lateral neerlandés regaló dos asistencias, marcó el 1-3... y el delantero azulgrana bailó con la defensa estadounidense para clasificar a la Oranje a los cuartos de final del Mundial\n",
      "\"En Países Bajos aprendí mucho, tomé muchos conceptos de fútbol\". Gregg Berhalter, seleccionador de Estados Unidos, aseguró en la previa del partido que se inspiró en el fútbol neerlandés para fijar las bases de su ideario como entrenador. Unos conceptos futbolísticos que se dejaron ver en los primeros compases del partido, hasta que Memphis Depay decidió romper el espejismo impuesto por la caballería yankee.\n",
      "Averiguaron la forma en la que tenían que atacar a Países Bajos para desarmar su entramado defensivo pero Pulisic, que no tuvo su día, no consiguió mandar al fondo de la red ni una de las dos ocasiones que tuvo en la primera parte. Una de ellas tardará mucho tiempo en olvidarla. \n",
      "Instaurados en el bloque bajo, los hombres de Louis van Gaal dieron una auténtica lección de cómo un equipo tiene que atacar el espacio con sus contras. El '10' bajaba a recibir, 'liberaba' de sus funciones a los centrocampistas... e incluso era capaz de llegar al área para generar todo el peligro del conjunto neerlandés. Y en la primera que cazó dentro del área, Depay no perdonó para certifican que el 'soccer' todavía está lejos del modelo de fútbol de Países Bajos.\n",
      "Dos cabalgadas de Dumfries fueron más que suficientes para romper a toda la defensa de Estados Unidos: la primera la mandó Depay al fondo de la red y en el tercer pase de la muerte del lateral en la primera parte, el segundo lo cortó Adams con muchos problemas, apareció Blind para firmar el 2-0 justo antes del descanso. Dos acciones calcadas que ponían a la Oranje con pie y medio en los cuartos de final del Mundial de Qatar 2022.\n",
      "Memphis aprovechaba con su tanto para deshacer el empate con Klass-Jan Huntelaar y convertirse así en el segundo máximo goleador de la selección neerlandesa, solo superado por Robin Van Persie (50). \n",
      "Y cuando Países Bajos disfrutaba de la segunda parte, apareció Wright para ponerle un poco de emoción al partido con una acción de ilusionista. El delantero estadounidense se inventó un escorzo de película para mandar el balón al fondo de la red con un taconazo brillante. El 'Capitán América' colgaba el balón en el área pequeña y el '19' tiraba de imaginación para firmar el 1-2. \n",
      "Sin embargo, la rebelión en la que Estados Unidos parecía buscar la independencia duró tan sólo 5 minutos. Dumfries, MVP del partido, apareció primero en su área sacando un disparo de Wright  en la línea de gol y sorprendía en la jugada siguiente para finiquitar el partido con el 3-1. Balón colgado de Blind al segundo palo y el lateral, completamente sólo, empalaba a la perfección el esférico para cerrar la clasificación de la la Oranje a los cuartos de final del Mundial. El show terminó siendo naranja. \n"
     ]
    }
   ],
   "source": [
    "print(documentos[0])"
   ]
  },
  {
   "cell_type": "code",
   "execution_count": 10,
   "metadata": {},
   "outputs": [],
   "source": [
    "noticias_dataframe[\"docs\"] = documentos"
   ]
  },
  {
   "cell_type": "code",
   "execution_count": 11,
   "metadata": {},
   "outputs": [
    {
     "data": {
      "text/plain": [
       "Index(['index', 'category', 'n_doc', 'title', 'path', 'link', 'docs'], dtype='object')"
      ]
     },
     "execution_count": 11,
     "metadata": {},
     "output_type": "execute_result"
    }
   ],
   "source": [
    "#Miramos los nombres\n",
    "noticias_dataframe.columns"
   ]
  },
  {
   "cell_type": "markdown",
   "metadata": {},
   "source": [
    "Eliminamos las filas vacías, en este caso no tenemos ninguna."
   ]
  },
  {
   "cell_type": "code",
   "execution_count": 12,
   "metadata": {},
   "outputs": [],
   "source": [
    "noticias_dataframe=noticias_dataframe.dropna()"
   ]
  },
  {
   "cell_type": "markdown",
   "metadata": {},
   "source": [
    "Comprobamos que el número de instancias sigue siendo el mismo"
   ]
  },
  {
   "cell_type": "code",
   "execution_count": 13,
   "metadata": {},
   "outputs": [
    {
     "name": "stdout",
     "output_type": "stream",
     "text": [
      "(240, 7)\n"
     ]
    }
   ],
   "source": [
    "print(noticias_dataframe.shape)"
   ]
  },
  {
   "cell_type": "markdown",
   "metadata": {},
   "source": [
    "Mostramos las posibles categorías de nuestros textos"
   ]
  },
  {
   "cell_type": "code",
   "execution_count": 14,
   "metadata": {},
   "outputs": [
    {
     "name": "stdout",
     "output_type": "stream",
     "text": [
      "['sports', 'health', 'science', 'politics']\n"
     ]
    }
   ],
   "source": [
    "clases = pd.unique(noticias_dataframe['category']).tolist()\n",
    "print(clases)\n"
   ]
  },
  {
   "cell_type": "markdown",
   "metadata": {},
   "source": [
    "Y comprobamos si las categorías están balanceadas en cuanto a peso."
   ]
  },
  {
   "cell_type": "code",
   "execution_count": 15,
   "metadata": {},
   "outputs": [
    {
     "data": {
      "text/html": [
       "<div>\n",
       "<style scoped>\n",
       "    .dataframe tbody tr th:only-of-type {\n",
       "        vertical-align: middle;\n",
       "    }\n",
       "\n",
       "    .dataframe tbody tr th {\n",
       "        vertical-align: top;\n",
       "    }\n",
       "\n",
       "    .dataframe thead th {\n",
       "        text-align: right;\n",
       "    }\n",
       "</style>\n",
       "<table border=\"1\" class=\"dataframe\">\n",
       "  <thead>\n",
       "    <tr style=\"text-align: right;\">\n",
       "      <th></th>\n",
       "      <th>index</th>\n",
       "      <th>n_doc</th>\n",
       "      <th>title</th>\n",
       "      <th>path</th>\n",
       "      <th>link</th>\n",
       "      <th>docs</th>\n",
       "    </tr>\n",
       "    <tr>\n",
       "      <th>category</th>\n",
       "      <th></th>\n",
       "      <th></th>\n",
       "      <th></th>\n",
       "      <th></th>\n",
       "      <th></th>\n",
       "      <th></th>\n",
       "    </tr>\n",
       "  </thead>\n",
       "  <tbody>\n",
       "    <tr>\n",
       "      <th>health</th>\n",
       "      <td>60</td>\n",
       "      <td>60</td>\n",
       "      <td>60</td>\n",
       "      <td>60</td>\n",
       "      <td>60</td>\n",
       "      <td>60</td>\n",
       "    </tr>\n",
       "    <tr>\n",
       "      <th>politics</th>\n",
       "      <td>60</td>\n",
       "      <td>60</td>\n",
       "      <td>60</td>\n",
       "      <td>60</td>\n",
       "      <td>60</td>\n",
       "      <td>60</td>\n",
       "    </tr>\n",
       "    <tr>\n",
       "      <th>science</th>\n",
       "      <td>60</td>\n",
       "      <td>60</td>\n",
       "      <td>60</td>\n",
       "      <td>60</td>\n",
       "      <td>60</td>\n",
       "      <td>60</td>\n",
       "    </tr>\n",
       "    <tr>\n",
       "      <th>sports</th>\n",
       "      <td>60</td>\n",
       "      <td>60</td>\n",
       "      <td>60</td>\n",
       "      <td>60</td>\n",
       "      <td>60</td>\n",
       "      <td>60</td>\n",
       "    </tr>\n",
       "  </tbody>\n",
       "</table>\n",
       "</div>"
      ],
      "text/plain": [
       "          index  n_doc  title  path  link  docs\n",
       "category                                       \n",
       "health       60     60     60    60    60    60\n",
       "politics     60     60     60    60    60    60\n",
       "science      60     60     60    60    60    60\n",
       "sports       60     60     60    60    60    60"
      ]
     },
     "execution_count": 15,
     "metadata": {},
     "output_type": "execute_result"
    }
   ],
   "source": [
    "frecuencias = noticias_dataframe.groupby('category').count()\n",
    "frecuencias = frecuencias.sort_values('title',ascending=False)\n",
    "\n",
    "frecuencias.head()"
   ]
  },
  {
   "cell_type": "markdown",
   "metadata": {},
   "source": [
    "Como podemos observar, todas las clases tienen el mismo peso, es decir, tienen el mismo numero de noticas. Tenemos un conjunto de datos homogeneo para el cual hacer la prediccion."
   ]
  },
  {
   "cell_type": "markdown",
   "metadata": {},
   "source": [
    "## 3. PRE-PROCESADO\n",
    "Realizaremos el siguiente procesado:\n",
    "- Separar el texto en *tokens*\n",
    "- Eliminar los *tokens* de tipo *stop-word*, signos de puntuación, signos especiales o espacios\n",
    "- Lematizar el texto\n",
    "- Introducimos un espacio después de determinados signos de puntuación (\".\", \"?\", \"%\") para que el tokenizado sea correcto\n",
    "- Filtramos los *tokens* con una longitud de 1"
   ]
  },
  {
   "cell_type": "code",
   "execution_count": 16,
   "metadata": {},
   "outputs": [],
   "source": [
    "# !python -m spacy download es_core_news_lg"
   ]
  },
  {
   "cell_type": "code",
   "execution_count": 17,
   "metadata": {},
   "outputs": [],
   "source": [
    "# https://spacy.io/models/es\n",
    "nlp = spacy.load(\"es_core_news_lg\") #Mejor modelo optimizado para la CPU`\n",
    "# Definimos función de normalizado\n",
    "def normaliza(texto):\n",
    "    texto = re.sub(r\"(\\.)|(\\?)|(\\%)\", r\"\\1 |\\2 |\\3 \", texto) #añadimos un espacio después de \".\" y \"?\"\n",
    "    doc = nlp(texto)\n",
    "    print(doc)\n",
    "    tokens = [t for t in doc if\n",
    "                       len(t.text)>1 and\n",
    "                       not t.is_stop and\n",
    "                       not t.is_space and\n",
    "                       not t.is_punct]#filtramos los tokens que nos interesan\n",
    "    palabras = []\n",
    "    for t in tokens:\n",
    "        palabras.append(t.lemma_) #añadimos lema\n",
    "    salida = ' '.join(palabras)#junta todos los tokens en un string\n",
    "    \n",
    "    return salida\n",
    "\n",
    "# Función para quitar acentos y caracteres no ASCII:\n",
    "def remove_accents(input_str):     \n",
    "    nfkd_form = unicodedata.normalize('NFKD', input_str)     \n",
    "    only_ascii = nfkd_form.encode('ASCII', 'ignore')     \n",
    "    return only_ascii.decode(\"utf-8\", 'ignore')\n"
   ]
  },
  {
   "cell_type": "code",
   "execution_count": 32,
   "metadata": {},
   "outputs": [
    {
     "data": {
      "text/plain": [
       "'a, acuerdo, adelante, ademas, además, afirmó, agregó, ahi, ahora, ahí, al, algo, alguna, algunas, alguno, algunos, algún, alli, allí, alrededor, ambos, ante, anterior, antes, apenas, aproximadamente, aquel, aquella, aquellas, aquello, aquellos, aqui, aquél, aquélla, aquéllas, aquéllos, aquí, arriba, aseguró, asi, así, atras, aun, aunque, añadió, aún, bajo, bastante, bien, breve, buen, buena, buenas, bueno, buenos, cada, casi, cierta, ciertas, cierto, ciertos, cinco, claro, comentó, como, con, conmigo, conocer, conseguimos, conseguir, considera, consideró, consigo, consigue, consiguen, consigues, contigo, contra, creo, cual, cuales, cualquier, cuando, cuanta, cuantas, cuanto, cuantos, cuatro, cuenta, cuál, cuáles, cuándo, cuánta, cuántas, cuánto, cuántos, cómo, da, dado, dan, dar, de, debajo, debe, deben, debido, decir, dejó, del, delante, demasiado, demás, dentro, deprisa, desde, despacio, despues, después, detras, detrás, dia, dias, dice, dicen, dicho, dieron, diez, diferente, diferentes, dijeron, dijo, dio, doce, donde, dos, durante, día, días, dónde, e, el, ella, ellas, ello, ellos, embargo, en, encima, encuentra, enfrente, enseguida, entonces, entre, era, eramos, eran, eras, eres, es, esa, esas, ese, eso, esos, esta, estaba, estaban, estado, estados, estais, estamos, estan, estar, estará, estas, este, esto, estos, estoy, estuvo, está, están, excepto, existe, existen, explicó, expresó, fin, final, fue, fuera, fueron, fui, fuimos, gran, grande, grandes, ha, haber, habia, habla, hablan, habrá, había, habían, hace, haceis, hacemos, hacen, hacer, hacerlo, haces, hacia, haciendo, hago, han, hasta, hay, haya, he, hecho, hemos, hicieron, hizo, hoy, hubo, igual, incluso, indicó, informo, informó, ir, junto, la, lado, largo, las, le, les, llegó, lleva, llevar, lo, los, luego, mal, manera, manifestó, mas, mayor, me, mediante, medio, mejor, mencionó, menos, menudo, mi, mia, mias, mientras, mio, mios, mis, misma, mismas, mismo, mismos, modo, mucha, muchas, mucho, muchos, muy, más, mí, mía, mías, mío, míos, nada, nadie, ni, ninguna, ningunas, ninguno, ningunos, ningún, no, nos, nosotras, nosotros, nuestra, nuestras, nuestro, nuestros, nueva, nuevas, nueve, nuevo, nuevos, nunca, o, ocho, once, os, otra, otras, otro, otros, para, parece, parte, partir, pasada, pasado, paìs, peor, pero, pesar, poca, pocas, poco, pocos, podeis, podemos, poder, podria, podriais, podriamos, podrian, podrias, podrá, podrán, podría, podrían, poner, por, porque, posible, primer, primera, primero, primeros, pronto, propia, propias, propio, propios, proximo, próximo, próximos, pudo, pueda, puede, pueden, puedo, pues, qeu, que, quedó, queremos, quien, quienes, quiere, quiza, quizas, quizá, quizás, quién, quiénes, qué, realizado, realizar, realizó, repente, respecto, sabe, sabeis, sabemos, saben, saber, sabes, salvo, se, sea, sean, segun, segunda, segundo, según, seis, ser, sera, será, serán, sería, señaló, si, sido, siempre, siendo, siete, sigue, siguiente, sin, sino, sobre, sois, sola, solamente, solas, solo, solos, somos, son, soy, su, supuesto, sus, suya, suyas, suyo, suyos, sé, sí, sólo, tal, tambien, también, tampoco, tan, tanto, tarde, te, temprano, tendrá, tendrán, teneis, tenemos, tener, tenga, tengo, tenido, tenía, tercera, tercero, ti, tiene, tienen, toda, todas, todavia, todavía, todo, todos, total, tras, trata, través, tres, tu, tus, tuvo, tuya, tuyas, tuyo, tuyos, tú, u, ultimo, un, una, unas, uno, unos, usa, usais, usamos, usan, usar, usas, uso, usted, ustedes, va, vais, vamos, van, varias, varios, vaya, veces, ver, verdad, verdadera, verdadero, vez, vosotras, vosotros, voy, vuestra, vuestras, vuestro, vuestros, y, ya, yo, él, ésa, ésas, ése, ésos, ésta, éstas, éste, éstos, última, últimas, último, últimos'"
      ]
     },
     "execution_count": 32,
     "metadata": {},
     "output_type": "execute_result"
    }
   ],
   "source": [
    "(', ').join(sorted(list(nlp.Defaults.stop_words)))"
   ]
  },
  {
   "cell_type": "markdown",
   "metadata": {},
   "source": [
    "Comprobamos que funciona con el elemento 0 de docs, es decir, el cuerpo de una noticia"
   ]
  },
  {
   "cell_type": "code",
   "execution_count": 18,
   "metadata": {},
   "outputs": [
    {
     "name": "stdout",
     "output_type": "stream",
     "text": [
      "Chicago está sufriendo. Pese a contar únicamente con la ausencia de Lonzo Ball (baja de larga duración), los de Illinois están siendo incapaces de encontrar su juego y anoche cayeron por 119-111 ante Golden State. Estuvo lejos de ser el peor partido de los chicos de Billy Donovan, que incluso apretaron el marcador cuando más difícil lo tenían, pero ello no evitó la que es su novena derrota en los últimos 13 encuentros.\n",
      "Como decíamos, en San Francisco pelearon. Aunque los Warriors llegaron a estar hasta 18 puntos arriba al principio del último cuarto, Chicago demostró orgullo y remontó para poner un apretadísimo 110-109 a dos minutos y medio para la conclusión del choque. Hasta ahí les llegó la gasolina. Encajaron seguidamente un parcial de 7-0 que cerró definitivamente el encuentro.\n",
      "En el escenario individual, el mejor de Chicago fue Nikola Vucevic, quien concluyó con un doble-doble de 23 puntos y 11 rebotes. Zach LaVine por su parte alcanzó los 21 tantos y un desconocido DeMar DeRozan se quedó en solo 16 puntos con un 4 de 15 en tiros de campo.\n",
      "La derrota deja a los Bulls en la duodécima plaza de la Conferencia Este con 9-13. Aún queda mucha temporada por delante, pero tras disputarse un cuarto de la misma hay preocupación en Chicago, tanta como para que ya se esté hablando de posibles traspasos para darle un cambio importante a la plantilla.\n",
      "Así es. Tras un turbulento inicio de curso, Steve Kerr acometió algunos ajustes en la rotación que se están mostrando muy positivos en cuanto a resultados, ya que han ganado siete de sus últimos diez compromisos. Jordan Poole, el mejor anoche con 30 puntos y un excelente 7 de 13 en triples desde el banquillo, habla sobre ello.\n",
      "«Las rotaciones cambiaron un poco hace algunos partidos. Comenzamos a tener química y a formar una buena rotación. Ahora estamos jugando nuestro baloncesto. Se siente realmente bien ganar en química. Solo tenemos que mantenerlo en marcha», expresa.\n",
      "Junto a Poole también brilló Draymond Green, quien se acercó al triple-doble al concluir con 13 puntos, 9 rebotes y 10 asistencias. Klay Thompson aportó 26 puntos y Stephen Curry 19.\n",
      "\n",
      "--------------------------------------------------------------------------------------------------------------------------------------------\n",
      "Chicago está sufriendo. | |  Pese a contar únicamente con la ausencia de Lonzo Ball (baja de larga duración), los de Illinois están siendo incapaces de encontrar su juego y anoche cayeron por 119-111 ante Golden State. | |  Estuvo lejos de ser el peor partido de los chicos de Billy Donovan, que incluso apretaron el marcador cuando más difícil lo tenían, pero ello no evitó la que es su novena derrota en los últimos 13 encuentros. | | \n",
      "Como decíamos, en San Francisco pelearon. | |  Aunque los Warriors llegaron a estar hasta 18 puntos arriba al principio del último cuarto, Chicago demostró orgullo y remontó para poner un apretadísimo 110-109 a dos minutos y medio para la conclusión del choque. | |  Hasta ahí les llegó la gasolina. | |  Encajaron seguidamente un parcial de 7-0 que cerró definitivamente el encuentro. | | \n",
      "En el escenario individual, el mejor de Chicago fue Nikola Vucevic, quien concluyó con un doble-doble de 23 puntos y 11 rebotes. | |  Zach LaVine por su parte alcanzó los 21 tantos y un desconocido DeMar DeRozan se quedó en solo 16 puntos con un 4 de 15 en tiros de campo. | | \n",
      "La derrota deja a los Bulls en la duodécima plaza de la Conferencia Este con 9-13. | |  Aún queda mucha temporada por delante, pero tras disputarse un cuarto de la misma hay preocupación en Chicago, tanta como para que ya se esté hablando de posibles traspasos para darle un cambio importante a la plantilla. | | \n",
      "Así es. | |  Tras un turbulento inicio de curso, Steve Kerr acometió algunos ajustes en la rotación que se están mostrando muy positivos en cuanto a resultados, ya que han ganado siete de sus últimos diez compromisos. | |  Jordan Poole, el mejor anoche con 30 puntos y un excelente 7 de 13 en triples desde el banquillo, habla sobre ello. | | \n",
      "«Las rotaciones cambiaron un poco hace algunos partidos. | |  Comenzamos a tener química y a formar una buena rotación. | |  Ahora estamos jugando nuestro baloncesto. | |  Se siente realmente bien ganar en química. | |  Solo tenemos que mantenerlo en marcha», expresa. | | \n",
      "Junto a Poole también brilló Draymond Green, quien se acercó al triple-doble al concluir con 13 puntos, 9 rebotes y 10 asistencias. | |  Klay Thompson aportó 26 puntos y Stephen Curry 19. | | \n",
      "\n"
     ]
    },
    {
     "data": {
      "text/plain": [
       "'Chicago sufrir pese contar unicamente ausencia Lonzo Ball baja largo duracion Illinois incapaz encontrar juego anoche caer 119-111 Golden State lejos partido chico Billy Donovan apretar marcador dificil tener evitar noveno derrota 13 encuentro decir San Francisco pelear Warriors llegar 18 punto principio cuarto Chicago demostrar orgullo remontar apretadisimo 110-109 minuto conclusion choque gasolina encajar seguidamente parcial 7-0 cerrar definitivamente encuentro escenario individual Chicago Nikola Vucevic concluir doble-doble 23 punto 11 rebote Zach LaVine alcanzar 21 tanto desconocido DeMar DeRozan 16 punto 15 tiro campo derrota dejar Bulls duodecimo plaza Conferencia 9-13 quedar temporada disputar el cuarto preocupacion Chicago tanto estar hablar posible traspaso dar el cambio importante plantilla turbulento inicio curso Steve Kerr acometer ajuste rotacion mostrar positivo resultado ganar compromiso Jordan Poole anoche 30 punto excelente 13 triple banquillo rotacion cambiar partido comenzar quimica formar rotacion jugar baloncesto sentir realmente ganar quimica mantener el marcha expresar Poole brillar Draymond Green acercar triple-doble concluir 13 punto rebote 10 asistencia Klay Thompson aportar 26 punto Stephen Curry 19'"
      ]
     },
     "execution_count": 18,
     "metadata": {},
     "output_type": "execute_result"
    }
   ],
   "source": [
    "#Comprobamos que funciona con el elemento 0 de noticia (\"noticia\")\n",
    "print(noticias_dataframe['docs'][20])\n",
    "print(\"-\"*140)\n",
    "remove_accents(normaliza(noticias_dataframe['docs'][20]))"
   ]
  },
  {
   "cell_type": "code",
   "execution_count": 19,
   "metadata": {},
   "outputs": [
    {
     "name": "stdout",
     "output_type": "stream",
     "text": [
      "El fútbol es un cuento. Ya lo dijo ese Shakespeare futbolístico que es Gary Lineker, buen goleador y estrella de la tele: «El fútbol es un juego muy simple. 22 hombres persiguen un balón durante 90 minutos y al final siempre ganan los alemanes». La frase ha envejecido mal. Las mujeres también corren detrás de la pelota y arbitran (aunque sea a cuentagotas). Los alemanes ya no le ganan ni a Japón (nosotros tampoco). Y ese juego simple puede ser un tostón. Más que el fútbol, nos gusta el negocio del fútbol, esa fábrica de millonarios, algunos por lo civil y otros por lo criminal, como diría Luis Aragonés. Nos gustan su cultura, sus batallas, el cuento del fútbol.\n",
      "No está tan mal un Mundial en Navidad, al margen de la tropelía de la FIFA y Catar. Con las mil y una noches persas y las luces del desierto y de las calles de Vigo. Las jóvenes iraníes jugando a tirarles el turbante a los ayatolás. Los vecinos de la calle Príncipe contando ovejas viendo pasar el carricoche de la montaña rusa por la ventana.\n",
      "Infantino es Gargamel. Cristiano es la madrastra que se mira en el espejo. Luis Enrique es el principito arrogante. Blatter es el Doctor Claw, el malo sin rostro del inspector Gadget que acariciaba su gatito. Messi es Messi. Luis Suárez llora por el otro paisito gallego. Y el seleccionador de Camerún se ha ido a casa dejando para la posteridad la teoría del peligro: «Cuando sabes que estás en peligro, en realidad ya no estás en peligro. Cuando no sabes que estás en peligro, es cuando realmente estás en peligro». La Navidad este año no la ha inaugurado el Black Friday de Caballero, sino el Catar-Ecuador de Doha. Mucho cuento.\n",
      "--------------------------------------------------------------------------------------------------------------------------------------------\n"
     ]
    },
    {
     "data": {
      "text/plain": [
       "'futbol cuento Shakespeare futbolistico Gary Lineker goleador estrella tele futbol juego simple 22 hombre perseguir balon 90 minuto ganar aleman frase envejecer mujer correr pelota arbitrar cuentagotas aleman ganar Japon juego simple toston futbol gustar negocio futbol fabrica millonario civil criminal decir Luis Aragones gustar cultura batalla cuento futbol Mundial Navidad margen tropelia FIFA Catar mil noche persa luz desierto calle Vigo joven irani jugar tirar el turbante ayatola vecino calle Principe contar oveja ver pasar carricoche montana ruso ventana Infantino Gargamel Cristiano madrastra mirar espejo Luis Enrique principito arrogante Blatter Doctor Claw malo rostro inspector Gadget acariciar gatito Messi Messi Luis Suarez llorar paisito gallego seleccionador Camerun ir casa dejar posteridad teoria peligro estar peligro realidad estar peligro estar peligro realmente estar peligro Navidad ano inaugurar Black Friday Caballero Catar-Ecuador Doha cuento'"
      ]
     },
     "execution_count": 19,
     "metadata": {},
     "output_type": "execute_result"
    }
   ],
   "source": [
    "#Comprobamos que funciona con el elemento 2 de noticia (\"docs\")\n",
    "print(noticias_dataframe['docs'][2])\n",
    "print(\"-\"*140)\n",
    "remove_accents(normaliza(noticias_dataframe['docs'][2]))"
   ]
  },
  {
   "cell_type": "markdown",
   "metadata": {},
   "source": [
    "Creamos los corpus de los textos, normalizandolos y quitando acentos"
   ]
  },
  {
   "cell_type": "code",
   "execution_count": 20,
   "metadata": {},
   "outputs": [],
   "source": [
    "noticias_dataframe[\"corpus\"] = noticias_dataframe['docs'] + noticias_dataframe['title']\n",
    "corpus = noticias_dataframe[\"corpus\"].tolist()"
   ]
  },
  {
   "cell_type": "code",
   "execution_count": 21,
   "metadata": {},
   "outputs": [],
   "source": [
    "noticias_dataframe[\"corpus\"] = noticias_dataframe[\"corpus\"].apply(normaliza)"
   ]
  },
  {
   "cell_type": "code",
   "execution_count": 22,
   "metadata": {},
   "outputs": [],
   "source": [
    "noticias_dataframe[\"corpus\"] = noticias_dataframe[\"corpus\"].apply(remove_accents)"
   ]
  },
  {
   "cell_type": "markdown",
   "metadata": {},
   "source": [
    "Dividimos las noticias en train y test"
   ]
  },
  {
   "cell_type": "code",
   "execution_count": 23,
   "metadata": {},
   "outputs": [
    {
     "name": "stdout",
     "output_type": "stream",
     "text": [
      "<class 'pandas.core.frame.DataFrame'>\n",
      "RangeIndex: 240 entries, 0 to 239\n",
      "Data columns (total 8 columns):\n",
      " #   Column    Non-Null Count  Dtype \n",
      "---  ------    --------------  ----- \n",
      " 0   index     240 non-null    int64 \n",
      " 1   category  240 non-null    object\n",
      " 2   n_doc     240 non-null    int64 \n",
      " 3   title     240 non-null    object\n",
      " 4   path      240 non-null    object\n",
      " 5   link      240 non-null    object\n",
      " 6   docs      240 non-null    object\n",
      " 7   corpus    240 non-null    object\n",
      "dtypes: int64(2), object(6)\n",
      "memory usage: 15.1+ KB\n"
     ]
    }
   ],
   "source": [
    "noticias_dataframe.to_csv(\"../Datos/noticias.csv\")\n",
    "noticias_dataframe.info()"
   ]
  },
  {
   "cell_type": "code",
   "execution_count": 66,
   "metadata": {},
   "outputs": [],
   "source": [
    "noticias_train = pd.DataFrame()\n",
    "noticias_test = pd.DataFrame()\n",
    "\n",
    "clases = noticias_dataframe[\"category\"].unique().tolist()\n",
    "p_train = 0.5\n",
    "\n",
    "for c in clases:\n",
    "    subclase = noticias_dataframe[noticias_dataframe['category'] == c]\n",
    "    subclase = subclase.sample(frac = 1)\n",
    "\n",
    "    train = subclase[:int(len(subclase)*p_train)] \n",
    "\n",
    "    test = subclase[int(len(subclase)*p_train):]\n",
    "\n",
    "    noticias_train = pd.concat([noticias_train,train])\n",
    "    noticias_test = pd.concat([noticias_test,test])"
   ]
  },
  {
   "cell_type": "code",
   "execution_count": 68,
   "metadata": {},
   "outputs": [],
   "source": [
    "noticias_train.to_csv('../Datos/noticias_train.csv', index=False)\n",
    "noticias_test.to_csv('../Datos/noticias_test.csv', index=False)"
   ]
  },
  {
   "cell_type": "code",
   "execution_count": null,
   "metadata": {},
   "outputs": [],
   "source": []
  }
 ],
 "metadata": {
  "kernelspec": {
   "display_name": "Python 3 (ipykernel)",
   "language": "python",
   "name": "python3"
  },
  "language_info": {
   "codemirror_mode": {
    "name": "ipython",
    "version": 3
   },
   "file_extension": ".py",
   "mimetype": "text/x-python",
   "name": "python",
   "nbconvert_exporter": "python",
   "pygments_lexer": "ipython3",
   "version": "3.10.4"
  },
  "vscode": {
   "interpreter": {
    "hash": "a821d265b19b8e474c372894184ad502aefb1f7882947607cd0ea5f074b097d2"
   }
  }
 },
 "nbformat": 4,
 "nbformat_minor": 4
}
