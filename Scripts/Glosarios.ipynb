{
 "cells": [
  {
   "cell_type": "markdown",
   "id": "31feba14",
   "metadata": {},
   "source": [
    "## EXTRACCIÓN DE CARACTERÍSTICAS\n",
    "Este notebook extrae glosarios para las distintas categorías de texto utilizando la librería gensim."
   ]
  },
  {
   "cell_type": "code",
   "execution_count": 1,
   "id": "db383644",
   "metadata": {},
   "outputs": [],
   "source": [
    "import pandas as pd\n",
    "import gensim\n",
    "from gensim import corpora\n",
    "from gensim import models\n",
    "from gensim.utils import simple_preprocess"
   ]
  },
  {
   "cell_type": "markdown",
   "id": "f7fddd5b",
   "metadata": {},
   "source": [
    "Cargamos nuestro dataframe de noticias"
   ]
  },
  {
   "cell_type": "code",
   "execution_count": 2,
   "id": "b5634003",
   "metadata": {},
   "outputs": [],
   "source": [
    "noticias_dataframe = pd.read_csv('../Datos/noticias.csv')"
   ]
  },
  {
   "cell_type": "markdown",
   "id": "2f33268c",
   "metadata": {},
   "source": [
    "Separamos nuestras noticias por categoría"
   ]
  },
  {
   "cell_type": "code",
   "execution_count": 3,
   "id": "05bc268c",
   "metadata": {},
   "outputs": [
    {
     "name": "stdout",
     "output_type": "stream",
     "text": [
      "<class 'pandas.core.frame.DataFrame'>\n",
      "Int64Index: 60 entries, 0 to 59\n",
      "Data columns (total 9 columns):\n",
      " #   Column      Non-Null Count  Dtype \n",
      "---  ------      --------------  ----- \n",
      " 0   Unnamed: 0  60 non-null     int64 \n",
      " 1   index       60 non-null     int64 \n",
      " 2   category    60 non-null     object\n",
      " 3   n_doc       60 non-null     int64 \n",
      " 4   title       60 non-null     object\n",
      " 5   path        60 non-null     object\n",
      " 6   link        60 non-null     object\n",
      " 7   docs        60 non-null     object\n",
      " 8   corpus      60 non-null     object\n",
      "dtypes: int64(3), object(6)\n",
      "memory usage: 4.7+ KB\n"
     ]
    }
   ],
   "source": [
    "deportes_dataframe = noticias_dataframe[noticias_dataframe[\"category\"]==\"sports\"]\n",
    "deportes_dataframe.info()"
   ]
  },
  {
   "cell_type": "code",
   "execution_count": 4,
   "id": "abee01d9",
   "metadata": {},
   "outputs": [
    {
     "name": "stdout",
     "output_type": "stream",
     "text": [
      "<class 'pandas.core.frame.DataFrame'>\n",
      "Int64Index: 60 entries, 60 to 119\n",
      "Data columns (total 9 columns):\n",
      " #   Column      Non-Null Count  Dtype \n",
      "---  ------      --------------  ----- \n",
      " 0   Unnamed: 0  60 non-null     int64 \n",
      " 1   index       60 non-null     int64 \n",
      " 2   category    60 non-null     object\n",
      " 3   n_doc       60 non-null     int64 \n",
      " 4   title       60 non-null     object\n",
      " 5   path        60 non-null     object\n",
      " 6   link        60 non-null     object\n",
      " 7   docs        60 non-null     object\n",
      " 8   corpus      60 non-null     object\n",
      "dtypes: int64(3), object(6)\n",
      "memory usage: 4.7+ KB\n"
     ]
    }
   ],
   "source": [
    "salud_dataframe = noticias_dataframe[noticias_dataframe[\"category\"]==\"health\"]\n",
    "salud_dataframe.info()"
   ]
  },
  {
   "cell_type": "code",
   "execution_count": 5,
   "id": "b9a44ee0",
   "metadata": {},
   "outputs": [
    {
     "name": "stdout",
     "output_type": "stream",
     "text": [
      "<class 'pandas.core.frame.DataFrame'>\n",
      "Int64Index: 60 entries, 0 to 59\n",
      "Data columns (total 9 columns):\n",
      " #   Column      Non-Null Count  Dtype \n",
      "---  ------      --------------  ----- \n",
      " 0   Unnamed: 0  60 non-null     int64 \n",
      " 1   index       60 non-null     int64 \n",
      " 2   category    60 non-null     object\n",
      " 3   n_doc       60 non-null     int64 \n",
      " 4   title       60 non-null     object\n",
      " 5   path        60 non-null     object\n",
      " 6   link        60 non-null     object\n",
      " 7   docs        60 non-null     object\n",
      " 8   corpus      60 non-null     object\n",
      "dtypes: int64(3), object(6)\n",
      "memory usage: 4.7+ KB\n"
     ]
    }
   ],
   "source": [
    "ciencia_dataframe = noticias_dataframe[noticias_dataframe[\"category\"]==\"science\"]\n",
    "deportes_dataframe.info()"
   ]
  },
  {
   "cell_type": "code",
   "execution_count": 6,
   "id": "05358c3e",
   "metadata": {},
   "outputs": [
    {
     "name": "stdout",
     "output_type": "stream",
     "text": [
      "<class 'pandas.core.frame.DataFrame'>\n",
      "Int64Index: 60 entries, 180 to 239\n",
      "Data columns (total 9 columns):\n",
      " #   Column      Non-Null Count  Dtype \n",
      "---  ------      --------------  ----- \n",
      " 0   Unnamed: 0  60 non-null     int64 \n",
      " 1   index       60 non-null     int64 \n",
      " 2   category    60 non-null     object\n",
      " 3   n_doc       60 non-null     int64 \n",
      " 4   title       60 non-null     object\n",
      " 5   path        60 non-null     object\n",
      " 6   link        60 non-null     object\n",
      " 7   docs        60 non-null     object\n",
      " 8   corpus      60 non-null     object\n",
      "dtypes: int64(3), object(6)\n",
      "memory usage: 4.7+ KB\n"
     ]
    }
   ],
   "source": [
    "politica_dataframe = noticias_dataframe[noticias_dataframe[\"category\"]==\"politics\"]\n",
    "politica_dataframe.info()"
   ]
  },
  {
   "cell_type": "markdown",
   "id": "e9d5506d",
   "metadata": {},
   "source": [
    "### Extracción de glosario mediante TFIDF\n"
   ]
  },
  {
   "cell_type": "markdown",
   "id": "c4c99452",
   "metadata": {},
   "source": [
    "La forma más sencilla para obtener nuestro glosario es mediante el esquema *tf-idf*"
   ]
  },
  {
   "cell_type": "code",
   "execution_count": 35,
   "id": "e311e87b",
   "metadata": {},
   "outputs": [],
   "source": [
    "def extrae_glosario_tf_idf(categoria_dataframe, size):\n",
    "    doc_tokens = [simple_preprocess(corpus) for corpus in categoria_dataframe[\"corpus\"]]\n",
    "    dictionary = corpora.Dictionary(doc_tokens)\n",
    "    bow_corpus = [dictionary.doc2bow(doc, allow_update=True) for doc in doc_tokens]\n",
    "    tfidf = models.TfidfModel(bow_corpus)\n",
    "    bow_tfidf = tfidf[bow_corpus]\n",
    "    tfidf_dic = {dictionary.get(id): value for doc in bow_tfidf for id, value in doc}\n",
    "    tfidf_list = [k for k, v in sorted(tfidf_dic.items(), key=lambda item: item[1], reverse = True)]\n",
    "    return tfidf_list[:size]\n",
    "    "
   ]
  },
  {
   "cell_type": "code",
   "execution_count": 36,
   "id": "c1f42803",
   "metadata": {},
   "outputs": [
    {
     "data": {
      "text/plain": [
       "['arterial',\n",
       " 'cafa',\n",
       " 'epilepsia',\n",
       " 'cabello',\n",
       " 'folcodina',\n",
       " 'cannabis',\n",
       " 'antidepresivo',\n",
       " 'zumo',\n",
       " 'genital',\n",
       " 'strep',\n",
       " 'dash',\n",
       " 'entrenar',\n",
       " 'olor',\n",
       " 'verruga',\n",
       " 'huevo',\n",
       " 'carbohidrato',\n",
       " 'creatividad',\n",
       " 'marfan',\n",
       " 'presion',\n",
       " 'vision',\n",
       " 'vih',\n",
       " 'pulmonar',\n",
       " 'espacial',\n",
       " 'mascarilla',\n",
       " 'lobo',\n",
       " 'memoria',\n",
       " 'alga',\n",
       " 'wakame',\n",
       " 'pet',\n",
       " 'persistente']"
      ]
     },
     "execution_count": 36,
     "metadata": {},
     "output_type": "execute_result"
    }
   ],
   "source": [
    "extrae_glosario_tf_idf(salud_dataframe, 30)"
   ]
  },
  {
   "cell_type": "code",
   "execution_count": 37,
   "id": "3fb14a36",
   "metadata": {},
   "outputs": [
    {
     "data": {
      "text/plain": [
       "['kyrgios',\n",
       " 'mbappe',\n",
       " 'exencion',\n",
       " 'warren',\n",
       " 'stakhovsky',\n",
       " 'falso',\n",
       " 'jamas',\n",
       " 'smash',\n",
       " 'tenerife',\n",
       " 'nets',\n",
       " 'reserva',\n",
       " 'gaal',\n",
       " 'formato',\n",
       " 'campazzo',\n",
       " 'ferrero',\n",
       " 'lebron',\n",
       " 'hernanga',\n",
       " 'mez',\n",
       " 'magnussen',\n",
       " 'steiner',\n",
       " 'horford',\n",
       " 'domenicali',\n",
       " 'marko',\n",
       " 'seguidor',\n",
       " 'gasto',\n",
       " 'cuento',\n",
       " 'gonzalez',\n",
       " 'gonzalo',\n",
       " 'pts',\n",
       " 'reb']"
      ]
     },
     "execution_count": 37,
     "metadata": {},
     "output_type": "execute_result"
    }
   ],
   "source": [
    "extrae_glosario_tf_idf(deportes_dataframe, 30)"
   ]
  },
  {
   "cell_type": "code",
   "execution_count": 38,
   "id": "a5d888a1",
   "metadata": {},
   "outputs": [
    {
     "data": {
      "text/plain": [
       "['silva',\n",
       " 'larsen',\n",
       " 'ucraniano',\n",
       " 'ex',\n",
       " 'secreto',\n",
       " 'sinema',\n",
       " 'mexicano',\n",
       " 'torra',\n",
       " 'esparza',\n",
       " 'insulto',\n",
       " 'benito',\n",
       " 'mocia',\n",
       " 'almeida',\n",
       " 'cni',\n",
       " 'nicolas',\n",
       " 'profesional',\n",
       " 'disponible',\n",
       " 'bolaaos',\n",
       " 'feija',\n",
       " 'demarcacia',\n",
       " 'juarez',\n",
       " 'obrador',\n",
       " 'autoritariaa',\n",
       " 'maximo',\n",
       " 'carlos',\n",
       " 'junts',\n",
       " 'rufian',\n",
       " 'escuchas',\n",
       " 'mitsotakis',\n",
       " 'juan']"
      ]
     },
     "execution_count": 38,
     "metadata": {},
     "output_type": "execute_result"
    }
   ],
   "source": [
    "extrae_glosario_tf_idf(politica_dataframe, 30)"
   ]
  },
  {
   "cell_type": "code",
   "execution_count": 39,
   "id": "1e4d79ba",
   "metadata": {},
   "outputs": [
    {
     "data": {
      "text/plain": [
       "['sal',\n",
       " 'vacuna',\n",
       " 'llama',\n",
       " 'meteoro',\n",
       " 'apple',\n",
       " 'honor',\n",
       " 'gripe',\n",
       " 'llnl',\n",
       " 'quipus',\n",
       " 'ska',\n",
       " 'lluvia',\n",
       " 'hidra',\n",
       " 'navidad',\n",
       " 'banyoles',\n",
       " 'neandertal',\n",
       " 'programador',\n",
       " 'bankman',\n",
       " 'fried',\n",
       " 'tv',\n",
       " 'mental',\n",
       " 'trastorno',\n",
       " 'gemanidas',\n",
       " 'mutacion',\n",
       " 'fusia',\n",
       " 'captura',\n",
       " 'geno',\n",
       " 'izquierdo',\n",
       " 'leo',\n",
       " 'regalo',\n",
       " 'congelacia']"
      ]
     },
     "execution_count": 39,
     "metadata": {},
     "output_type": "execute_result"
    }
   ],
   "source": [
    "extrae_glosario_tf_idf(ciencia_dataframe, 30)"
   ]
  },
  {
   "cell_type": "code",
   "execution_count": null,
   "id": "078ebf8f",
   "metadata": {},
   "outputs": [],
   "source": []
  }
 ],
 "metadata": {
  "kernelspec": {
   "display_name": "Python 3 (ipykernel)",
   "language": "python",
   "name": "python3"
  },
  "language_info": {
   "codemirror_mode": {
    "name": "ipython",
    "version": 3
   },
   "file_extension": ".py",
   "mimetype": "text/x-python",
   "name": "python",
   "nbconvert_exporter": "python",
   "pygments_lexer": "ipython3",
   "version": "3.10.4"
  }
 },
 "nbformat": 4,
 "nbformat_minor": 5
}
