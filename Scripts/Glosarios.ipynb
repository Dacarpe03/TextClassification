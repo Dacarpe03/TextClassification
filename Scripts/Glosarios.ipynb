{
 "cells": [
  {
   "cell_type": "markdown",
   "id": "24179095",
   "metadata": {},
   "source": [
    "## EXTRACCIÓN DE CARACTERÍSTICAS\n",
    "Este notebook extrae glosarios para las distintas categorías de texto utilizando la librería gensim."
   ]
  },
  {
   "cell_type": "code",
   "execution_count": 1,
   "id": "4d01c602",
   "metadata": {},
   "outputs": [],
   "source": [
    "import pandas as pd\n",
    "import gensim\n",
    "from gensim import corpora\n",
    "from gensim import models\n",
    "from gensim.utils import simple_preprocess"
   ]
  },
  {
   "cell_type": "markdown",
   "id": "625b4ae0",
   "metadata": {},
   "source": [
    "Cargamos nuestro dataframe de noticias"
   ]
  },
  {
   "cell_type": "code",
   "execution_count": 2,
   "id": "48ec0d2d",
   "metadata": {},
   "outputs": [],
   "source": [
    "noticias_dataframe = pd.read_csv('../Datos/noticias_train.csv')"
   ]
  },
  {
   "cell_type": "markdown",
   "id": "2ea64daf",
   "metadata": {},
   "source": [
    "Separamos nuestras noticias por categoría"
   ]
  },
  {
   "cell_type": "code",
   "execution_count": 3,
   "id": "3c2901bb",
   "metadata": {},
   "outputs": [
    {
     "name": "stdout",
     "output_type": "stream",
     "text": [
      "<class 'pandas.core.frame.DataFrame'>\n",
      "Int64Index: 30 entries, 0 to 29\n",
      "Data columns (total 8 columns):\n",
      " #   Column    Non-Null Count  Dtype \n",
      "---  ------    --------------  ----- \n",
      " 0   index     30 non-null     int64 \n",
      " 1   category  30 non-null     object\n",
      " 2   n_doc     30 non-null     int64 \n",
      " 3   title     30 non-null     object\n",
      " 4   path      30 non-null     object\n",
      " 5   link      30 non-null     object\n",
      " 6   docs      30 non-null     object\n",
      " 7   corpus    30 non-null     object\n",
      "dtypes: int64(2), object(6)\n",
      "memory usage: 2.1+ KB\n"
     ]
    }
   ],
   "source": [
    "deportes_dataframe = noticias_dataframe[noticias_dataframe[\"category\"]==\"sports\"]\n",
    "deportes_dataframe.info()"
   ]
  },
  {
   "cell_type": "code",
   "execution_count": 4,
   "id": "050b4d73",
   "metadata": {},
   "outputs": [
    {
     "name": "stdout",
     "output_type": "stream",
     "text": [
      "<class 'pandas.core.frame.DataFrame'>\n",
      "Int64Index: 30 entries, 30 to 59\n",
      "Data columns (total 8 columns):\n",
      " #   Column    Non-Null Count  Dtype \n",
      "---  ------    --------------  ----- \n",
      " 0   index     30 non-null     int64 \n",
      " 1   category  30 non-null     object\n",
      " 2   n_doc     30 non-null     int64 \n",
      " 3   title     30 non-null     object\n",
      " 4   path      30 non-null     object\n",
      " 5   link      30 non-null     object\n",
      " 6   docs      30 non-null     object\n",
      " 7   corpus    30 non-null     object\n",
      "dtypes: int64(2), object(6)\n",
      "memory usage: 2.1+ KB\n"
     ]
    }
   ],
   "source": [
    "salud_dataframe = noticias_dataframe[noticias_dataframe[\"category\"]==\"health\"]\n",
    "salud_dataframe.info()"
   ]
  },
  {
   "cell_type": "code",
   "execution_count": 5,
   "id": "a1c5bf0f",
   "metadata": {},
   "outputs": [
    {
     "name": "stdout",
     "output_type": "stream",
     "text": [
      "<class 'pandas.core.frame.DataFrame'>\n",
      "Int64Index: 30 entries, 0 to 29\n",
      "Data columns (total 8 columns):\n",
      " #   Column    Non-Null Count  Dtype \n",
      "---  ------    --------------  ----- \n",
      " 0   index     30 non-null     int64 \n",
      " 1   category  30 non-null     object\n",
      " 2   n_doc     30 non-null     int64 \n",
      " 3   title     30 non-null     object\n",
      " 4   path      30 non-null     object\n",
      " 5   link      30 non-null     object\n",
      " 6   docs      30 non-null     object\n",
      " 7   corpus    30 non-null     object\n",
      "dtypes: int64(2), object(6)\n",
      "memory usage: 2.1+ KB\n"
     ]
    }
   ],
   "source": [
    "ciencia_dataframe = noticias_dataframe[noticias_dataframe[\"category\"]==\"science\"]\n",
    "deportes_dataframe.info()"
   ]
  },
  {
   "cell_type": "code",
   "execution_count": 6,
   "id": "b553a6ff",
   "metadata": {},
   "outputs": [
    {
     "name": "stdout",
     "output_type": "stream",
     "text": [
      "<class 'pandas.core.frame.DataFrame'>\n",
      "Int64Index: 30 entries, 90 to 119\n",
      "Data columns (total 8 columns):\n",
      " #   Column    Non-Null Count  Dtype \n",
      "---  ------    --------------  ----- \n",
      " 0   index     30 non-null     int64 \n",
      " 1   category  30 non-null     object\n",
      " 2   n_doc     30 non-null     int64 \n",
      " 3   title     30 non-null     object\n",
      " 4   path      30 non-null     object\n",
      " 5   link      30 non-null     object\n",
      " 6   docs      30 non-null     object\n",
      " 7   corpus    30 non-null     object\n",
      "dtypes: int64(2), object(6)\n",
      "memory usage: 2.1+ KB\n"
     ]
    }
   ],
   "source": [
    "politica_dataframe = noticias_dataframe[noticias_dataframe[\"category\"]==\"politics\"]\n",
    "politica_dataframe.info()"
   ]
  },
  {
   "cell_type": "markdown",
   "id": "5f0f17d1",
   "metadata": {},
   "source": [
    "### Extracción de glosario mediante TFIDF\n"
   ]
  },
  {
   "cell_type": "markdown",
   "id": "4ec0eaff",
   "metadata": {},
   "source": [
    "La forma más sencilla para obtener nuestro glosario es mediante el esquema *tf-idf*"
   ]
  },
  {
   "cell_type": "code",
   "execution_count": 26,
   "id": "03939ae3",
   "metadata": {},
   "outputs": [],
   "source": [
    "def extrae_glosario_tf_idf(categoria_dataframe, size):\n",
    "    doc_tokens = [simple_preprocess(corpus) for corpus in categoria_dataframe[\"corpus\"]]\n",
    "    dictionary = corpora.Dictionary(doc_tokens)\n",
    "    bow_corpus = [dictionary.doc2bow(doc, allow_update=True) for doc in doc_tokens]\n",
    "    tfidf = models.TfidfModel(bow_corpus, smartirs=\"lfc\")\n",
    "    bow_tfidf = tfidf[bow_corpus]\n",
    "    tfidf_dic = {dictionary.get(id): value for doc in bow_tfidf for id, value in doc}\n",
    "    tfidf_list = [k for k, v in sorted(tfidf_dic.items(), key=lambda item: item[1], reverse = True)]\n",
    "    return tfidf_list[:size]\n",
    "    "
   ]
  },
  {
   "cell_type": "code",
   "execution_count": 13,
   "id": "528f54a0",
   "metadata": {},
   "outputs": [],
   "source": [
    "\n",
    "glosarios = {'deportes': [],\n",
    "             'salud': [],\n",
    "             'ciencia': [],\n",
    "             'salud': []}"
   ]
  },
  {
   "cell_type": "code",
   "execution_count": 27,
   "id": "0449acea",
   "metadata": {},
   "outputs": [
    {
     "name": "stdout",
     "output_type": "stream",
     "text": [
      "['seguidor', 'mbappe', 'correr', 'suarez', 'resto', 'mans', 'boston', 'estabilidad', 'horford', 'cristiano', 'exencion', 'enrique', 'booker', 'tatum', 'cambio', 'formato', 'club', 'juventus', 'ronaldo', 'wiggins', 'gonzalez', 'gonzalo', 'colombia', 'magnussen', 'steiner', 'gasto', 'resistencia', 'lakers', 'pts', 'reb']\n"
     ]
    }
   ],
   "source": [
    "glosarios['deportes'] = extrae_glosario_tf_idf(deportes_dataframe, 30)\n",
    "print(glosarios['deportes'])"
   ]
  },
  {
   "cell_type": "code",
   "execution_count": 28,
   "id": "d85b18a0",
   "metadata": {},
   "outputs": [
    {
     "name": "stdout",
     "output_type": "stream",
     "text": [
      "['estigma', 'atras', 'cancer', 'anemia', 'cafa', 'aceite', 'oliva', 'mascarilla', 'pulmonar', 'unicef', 'cannabis', 'pet', 'bronquiolitis', 'requerir', 'congelado', 'fisioterapia', 'quiraorgica', 'creatividad', 'tc', 'rehabilitacia', 'research', 'signo', 'uk', 'vejiga', 'marfan', 'sindrome', 'deberiar', 'oxigeno', 'lobo', 'manada']\n"
     ]
    }
   ],
   "source": [
    "glosarios['salud'] = extrae_glosario_tf_idf(salud_dataframe, 30)\n",
    "print(glosarios['salud'])"
   ]
  },
  {
   "cell_type": "code",
   "execution_count": 29,
   "id": "60200217",
   "metadata": {},
   "outputs": [
    {
     "name": "stdout",
     "output_type": "stream",
     "text": [
      "['silva', 'rosell', 'vuelo', 'precio', 'torra', 'reyes', 'plataforma', 'anunciara', 'perao', 'sinema', 'baron', 'turismo', 'ayres', 'animal', 'versia', 'podem', 'unilateral', 'junts', 'aborto', 'juventud', 'adjudicacia', 'procesado', 'ex', 'dema', 'magistrado', 'abascal', 'cgp', 'arizona', 'desbloqueo', 'perro']\n"
     ]
    }
   ],
   "source": [
    "glosarios['politica'] = extrae_glosario_tf_idf(politica_dataframe, 30)\n",
    "print(glosarios['politica'])"
   ]
  },
  {
   "cell_type": "code",
   "execution_count": 30,
   "id": "31afbeca",
   "metadata": {},
   "outputs": [
    {
     "name": "stdout",
     "output_type": "stream",
     "text": [
      "['sal', 'cola', 'meteoro', 'agujero', 'llama', 'gemanidas', 'banyoles', 'neandertal', 'congelacia', 'leo', 'latigo', 'supersa', 'cernan', 'quipus', 'congelar', 'nudo', 'fuego', 'estampido', 'sonido', 'menta', 'supermasivo', 'observacia', 'perseidas', 'inca', 'matematica', 'alcoholismo', 'fumador', 'fumar', 'izquierdo', 'mutacion']\n"
     ]
    }
   ],
   "source": [
    "glosarios['ciencia'] = extrae_glosario_tf_idf(ciencia_dataframe, 30)\n",
    "print(glosarios['ciencia'])"
   ]
  },
  {
   "cell_type": "markdown",
   "id": "1efe6820",
   "metadata": {},
   "source": [
    "Guardamos los glosarios en .txt"
   ]
  },
  {
   "cell_type": "code",
   "execution_count": 32,
   "id": "934e25c1",
   "metadata": {},
   "outputs": [],
   "source": [
    "inicial = \"../Datos/glosario\"\n",
    "for g in glosarios.items():\n",
    "    tipo = g[0]\n",
    "    fname = f\"{inicial}_{tipo}.txt\"\n",
    "    with open(fname, 'w') as f:\n",
    "        for termino in g[1]:\n",
    "            f.write(termino)\n",
    "            f.write('\\n')\n",
    "        "
   ]
  }
 ],
 "metadata": {
  "kernelspec": {
   "display_name": "Python 3 (ipykernel)",
   "language": "python",
   "name": "python3"
  },
  "language_info": {
   "codemirror_mode": {
    "name": "ipython",
    "version": 3
   },
   "file_extension": ".py",
   "mimetype": "text/x-python",
   "name": "python",
   "nbconvert_exporter": "python",
   "pygments_lexer": "ipython3",
   "version": "3.10.4"
  }
 },
 "nbformat": 4,
 "nbformat_minor": 5
}
