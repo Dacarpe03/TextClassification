{
 "cells": [
  {
   "cell_type": "markdown",
   "id": "758f6cd6",
   "metadata": {},
   "source": [
    "## EXTRACCIÓN DE CARACTERÍSTICAS\n",
    "Este notebook extrae glosarios para las distintas categorías de texto utilizando la librería gensim."
   ]
  },
  {
   "cell_type": "code",
   "execution_count": 1,
   "id": "366cd66b",
   "metadata": {},
   "outputs": [],
   "source": [
    "import pandas as pd\n",
    "import gensim\n",
    "from gensim import corpora\n",
    "from gensim import models\n",
    "from gensim.utils import simple_preprocess"
   ]
  },
  {
   "cell_type": "markdown",
   "id": "784efb62",
   "metadata": {},
   "source": [
    "Cargamos nuestro dataframe de noticias"
   ]
  },
  {
   "cell_type": "code",
   "execution_count": 2,
   "id": "c96eebe7",
   "metadata": {},
   "outputs": [],
   "source": [
    "noticias_dataframe = pd.read_csv('../Datos/noticias_train.csv')"
   ]
  },
  {
   "cell_type": "markdown",
   "id": "1fa2ffab",
   "metadata": {},
   "source": [
    "Separamos nuestras noticias por categoría"
   ]
  },
  {
   "cell_type": "code",
   "execution_count": 3,
   "id": "0414cf57",
   "metadata": {},
   "outputs": [
    {
     "name": "stdout",
     "output_type": "stream",
     "text": [
      "<class 'pandas.core.frame.DataFrame'>\n",
      "Int64Index: 30 entries, 0 to 29\n",
      "Data columns (total 8 columns):\n",
      " #   Column    Non-Null Count  Dtype \n",
      "---  ------    --------------  ----- \n",
      " 0   index     30 non-null     int64 \n",
      " 1   category  30 non-null     object\n",
      " 2   n_doc     30 non-null     int64 \n",
      " 3   title     30 non-null     object\n",
      " 4   path      30 non-null     object\n",
      " 5   link      30 non-null     object\n",
      " 6   docs      30 non-null     object\n",
      " 7   corpus    30 non-null     object\n",
      "dtypes: int64(2), object(6)\n",
      "memory usage: 2.1+ KB\n"
     ]
    }
   ],
   "source": [
    "deportes_dataframe = noticias_dataframe[noticias_dataframe[\"category\"]==\"sports\"]\n",
    "deportes_dataframe.info()"
   ]
  },
  {
   "cell_type": "code",
   "execution_count": 4,
   "id": "49b1d40e",
   "metadata": {},
   "outputs": [
    {
     "name": "stdout",
     "output_type": "stream",
     "text": [
      "<class 'pandas.core.frame.DataFrame'>\n",
      "Int64Index: 30 entries, 30 to 59\n",
      "Data columns (total 8 columns):\n",
      " #   Column    Non-Null Count  Dtype \n",
      "---  ------    --------------  ----- \n",
      " 0   index     30 non-null     int64 \n",
      " 1   category  30 non-null     object\n",
      " 2   n_doc     30 non-null     int64 \n",
      " 3   title     30 non-null     object\n",
      " 4   path      30 non-null     object\n",
      " 5   link      30 non-null     object\n",
      " 6   docs      30 non-null     object\n",
      " 7   corpus    30 non-null     object\n",
      "dtypes: int64(2), object(6)\n",
      "memory usage: 2.1+ KB\n"
     ]
    }
   ],
   "source": [
    "salud_dataframe = noticias_dataframe[noticias_dataframe[\"category\"]==\"health\"]\n",
    "salud_dataframe.info()"
   ]
  },
  {
   "cell_type": "code",
   "execution_count": 5,
   "id": "49e40cab",
   "metadata": {},
   "outputs": [
    {
     "name": "stdout",
     "output_type": "stream",
     "text": [
      "<class 'pandas.core.frame.DataFrame'>\n",
      "Int64Index: 30 entries, 0 to 29\n",
      "Data columns (total 8 columns):\n",
      " #   Column    Non-Null Count  Dtype \n",
      "---  ------    --------------  ----- \n",
      " 0   index     30 non-null     int64 \n",
      " 1   category  30 non-null     object\n",
      " 2   n_doc     30 non-null     int64 \n",
      " 3   title     30 non-null     object\n",
      " 4   path      30 non-null     object\n",
      " 5   link      30 non-null     object\n",
      " 6   docs      30 non-null     object\n",
      " 7   corpus    30 non-null     object\n",
      "dtypes: int64(2), object(6)\n",
      "memory usage: 2.1+ KB\n"
     ]
    }
   ],
   "source": [
    "ciencia_dataframe = noticias_dataframe[noticias_dataframe[\"category\"]==\"science\"]\n",
    "deportes_dataframe.info()"
   ]
  },
  {
   "cell_type": "code",
   "execution_count": 6,
   "id": "1eda60c3",
   "metadata": {},
   "outputs": [
    {
     "name": "stdout",
     "output_type": "stream",
     "text": [
      "<class 'pandas.core.frame.DataFrame'>\n",
      "Int64Index: 30 entries, 90 to 119\n",
      "Data columns (total 8 columns):\n",
      " #   Column    Non-Null Count  Dtype \n",
      "---  ------    --------------  ----- \n",
      " 0   index     30 non-null     int64 \n",
      " 1   category  30 non-null     object\n",
      " 2   n_doc     30 non-null     int64 \n",
      " 3   title     30 non-null     object\n",
      " 4   path      30 non-null     object\n",
      " 5   link      30 non-null     object\n",
      " 6   docs      30 non-null     object\n",
      " 7   corpus    30 non-null     object\n",
      "dtypes: int64(2), object(6)\n",
      "memory usage: 2.1+ KB\n"
     ]
    }
   ],
   "source": [
    "politica_dataframe = noticias_dataframe[noticias_dataframe[\"category\"]==\"politics\"]\n",
    "politica_dataframe.info()"
   ]
  },
  {
   "cell_type": "markdown",
   "id": "30bfbf77",
   "metadata": {},
   "source": [
    "### Extracción de glosario mediante TFIDF\n"
   ]
  },
  {
   "cell_type": "markdown",
   "id": "7cb9bd71",
   "metadata": {},
   "source": [
    "La forma más sencilla para obtener nuestro glosario es mediante el esquema *tf-idf*"
   ]
  },
  {
   "cell_type": "code",
   "execution_count": 7,
   "id": "1d6c6ee5",
   "metadata": {},
   "outputs": [],
   "source": [
    "def extrae_glosario_tf_idf(categoria_dataframe, size):\n",
    "    doc_tokens = [simple_preprocess(corpus) for corpus in categoria_dataframe[\"corpus\"]]\n",
    "    dictionary = corpora.Dictionary(doc_tokens)\n",
    "    bow_corpus = [dictionary.doc2bow(doc, allow_update=True) for doc in doc_tokens]\n",
    "    tfidf = models.TfidfModel(bow_corpus)\n",
    "    bow_tfidf = tfidf[bow_corpus]\n",
    "    tfidf_dic = {dictionary.get(id): value for doc in bow_tfidf for id, value in doc}\n",
    "    tfidf_list = [k for k, v in sorted(tfidf_dic.items(), key=lambda item: item[1], reverse = True)]\n",
    "    return tfidf_list[:size]\n",
    "    "
   ]
  },
  {
   "cell_type": "code",
   "execution_count": 13,
   "id": "9f228072",
   "metadata": {},
   "outputs": [],
   "source": [
    "glosarios = {'deportes': [],\n",
    "             'salud': [],\n",
    "             'ciencia': [],\n",
    "             'salud': []}"
   ]
  },
  {
   "cell_type": "code",
   "execution_count": 14,
   "id": "77c0cf7b",
   "metadata": {},
   "outputs": [],
   "source": [
    "glosarios['deportes'] = extrae_glosario_tf_idf(deportes_dataframe, 30)"
   ]
  },
  {
   "cell_type": "code",
   "execution_count": 15,
   "id": "458ff315",
   "metadata": {},
   "outputs": [],
   "source": [
    "glosarios['salud'] = extrae_glosario_tf_idf(salud_dataframe, 30)"
   ]
  },
  {
   "cell_type": "code",
   "execution_count": 16,
   "id": "05d0d39b",
   "metadata": {},
   "outputs": [],
   "source": [
    "glosarios['politica'] = extrae_glosario_tf_idf(politica_dataframe, 30)"
   ]
  },
  {
   "cell_type": "code",
   "execution_count": 17,
   "id": "4b4b796d",
   "metadata": {},
   "outputs": [],
   "source": [
    "glosarios['ciencia'] = extrae_glosario_tf_idf(ciencia_dataframe, 30)"
   ]
  },
  {
   "cell_type": "code",
   "execution_count": null,
   "id": "4dd99d31",
   "metadata": {},
   "outputs": [],
   "source": [
    "Guardamos los glosarios en .txt"
   ]
  },
  {
   "cell_type": "code",
   "execution_count": 21,
   "id": "261a3d1e",
   "metadata": {},
   "outputs": [],
   "source": [
    "inicial = \"../Datos/glosario\"\n",
    "for g in glosarios.items():\n",
    "    tipo = g[0]\n",
    "    fname = f\"{inicial}_{tipo}.txt\"\n",
    "    with open(fname, 'w') as f:\n",
    "        for termino in g[1]:\n",
    "            f.write(termino)\n",
    "            f.write('\\n')\n",
    "        "
   ]
  },
  {
   "cell_type": "code",
   "execution_count": 24,
   "id": "cc614d36",
   "metadata": {},
   "outputs": [],
   "source": [
    "glosario_tokens = simple_preprocess(''.join(str(glosarios['deportes'])))"
   ]
  },
  {
   "cell_type": "code",
   "execution_count": 25,
   "id": "6045d7c0",
   "metadata": {},
   "outputs": [
    {
     "name": "stdout",
     "output_type": "stream",
     "text": [
      "['mbappe', 'correr', 'exencion', 'seguidor', 'mans', 'resto', 'gaal', 'var', 'magnussen', 'steiner', 'gasto', 'cristiano', 'club', 'cambio', 'formato', 'gonzalez', 'gonzalo', 'marko', 'suarez', 'ktm', 'moto', 'boston', 'estabilidad', 'horford', 'lakers', 'pts', 'reb', 'wiggins', 'colombia', 'alpine']\n"
     ]
    }
   ],
   "source": [
    "print(glosario_tokens)"
   ]
  },
  {
   "cell_type": "code",
   "execution_count": null,
   "id": "967604c5",
   "metadata": {},
   "outputs": [],
   "source": [
    "def similaridad_tf_idf(glosario, texto):\n",
    "    tokens = simple_preprocess(''.join(str(glosarios['deportes'])))\n",
    "    "
   ]
  }
 ],
 "metadata": {
  "kernelspec": {
   "display_name": "Python 3 (ipykernel)",
   "language": "python",
   "name": "python3"
  },
  "language_info": {
   "codemirror_mode": {
    "name": "ipython",
    "version": 3
   },
   "file_extension": ".py",
   "mimetype": "text/x-python",
   "name": "python",
   "nbconvert_exporter": "python",
   "pygments_lexer": "ipython3",
   "version": "3.10.4"
  }
 },
 "nbformat": 4,
 "nbformat_minor": 5
}
