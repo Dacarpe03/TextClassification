{
 "cells": [
  {
   "cell_type": "markdown",
   "id": "af1c0b4c",
   "metadata": {},
   "source": [
    "Este notebook ordena los documentos por similaridad y los coloca en su carpeta correspondiente"
   ]
  },
  {
   "cell_type": "code",
   "execution_count": 31,
   "id": "67286b11",
   "metadata": {},
   "outputs": [],
   "source": [
    "import pandas as pd\n",
    "import shutil\n",
    "import os"
   ]
  },
  {
   "cell_type": "code",
   "execution_count": 32,
   "id": "70bd14d8",
   "metadata": {},
   "outputs": [],
   "source": [
    "preds_df = pd.read_csv(\"../Prediccion/predicciones_noticias.csv\")\n",
    "preds_df = preds_df.sort_values('similarity', ascending=False)"
   ]
  },
  {
   "cell_type": "code",
   "execution_count": 33,
   "id": "633c7ade",
   "metadata": {},
   "outputs": [],
   "source": [
    "if os.path.exists('../Datos/Predicciones/health'):\n",
    "    shutil.rmtree('../Datos/Predicciones/health')\n",
    "os.mkdir('../Datos/Predicciones/health')\n",
    "\n",
    "if os.path.exists('../Datos/Predicciones/sports'):\n",
    "    shutil.rmtree('../Datos/Predicciones/sports')\n",
    "os.mkdir('../Datos/Predicciones/sports')\n",
    "\n",
    "if os.path.exists('../Datos/Predicciones/science'):\n",
    "    shutil.rmtree('../Datos/Predicciones/science')\n",
    "os.mkdir('../Datos/Predicciones/science')\n",
    "\n",
    "if os.path.exists('../Datos/Predicciones/politics'):\n",
    "    shutil.rmtree('../Datos/Predicciones/politics')\n",
    "os.mkdir('../Datos/Predicciones/politics')\n",
    "\n",
    "if os.path.exists('../Datos/Predicciones/No clasificado'):\n",
    "    shutil.rmtree('../Datos/Predicciones/No clasificado')\n",
    "os.mkdir('../Datos/Predicciones/No clasificado')"
   ]
  },
  {
   "cell_type": "code",
   "execution_count": 34,
   "id": "82581076",
   "metadata": {},
   "outputs": [],
   "source": [
    "for i, row in preds_df.iterrows():\n",
    "    category = row[\"category\"]\n",
    "    pred = row[\"preds\"]\n",
    "    previous_path = '.'+row[\"path\"]\n",
    "    new_path = previous_path.replace(\"Raw_data\", \"Predicciones\")\n",
    "    new_path = new_path.replace(category, pred)\n",
    "    new_path = new_path.replace(\".txt\", category) + \".txt\"\n",
    "    shutil.copy(previous_path, new_path)"
   ]
  },
  {
   "cell_type": "code",
   "execution_count": null,
   "id": "69627579",
   "metadata": {},
   "outputs": [],
   "source": []
  }
 ],
 "metadata": {
  "kernelspec": {
   "display_name": "Python 3 (ipykernel)",
   "language": "python",
   "name": "python3"
  },
  "language_info": {
   "codemirror_mode": {
    "name": "ipython",
    "version": 3
   },
   "file_extension": ".py",
   "mimetype": "text/x-python",
   "name": "python",
   "nbconvert_exporter": "python",
   "pygments_lexer": "ipython3",
   "version": "3.10.4"
  }
 },
 "nbformat": 4,
 "nbformat_minor": 5
}
