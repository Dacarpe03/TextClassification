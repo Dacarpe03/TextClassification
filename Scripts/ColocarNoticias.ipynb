{
 "cells": [
  {
   "cell_type": "code",
   "execution_count": 15,
   "id": "2dc11e3c",
   "metadata": {},
   "outputs": [],
   "source": [
    "import pandas as pd\n",
    "import shutil"
   ]
  },
  {
   "cell_type": "code",
   "execution_count": 16,
   "id": "d464d1c2",
   "metadata": {},
   "outputs": [],
   "source": [
    "preds_df = pd.read_csv(\"../Prediccion/predicciones_noticias.csv\")"
   ]
  },
  {
   "cell_type": "code",
   "execution_count": 17,
   "id": "b449ca90",
   "metadata": {},
   "outputs": [],
   "source": [
    "for i, row in preds_df.iterrows():\n",
    "    category = row[\"category\"]\n",
    "    pred = row[\"preds\"]\n",
    "    previous_path = '.'+row[\"path\"]\n",
    "    new_path = previous_path.replace(\"Raw_data\", \"Predicciones\")\n",
    "    new_path = new_path.replace(category, pred)\n",
    "    new_path = new_path.replace(\".txt\", category) + \".txt\"\n",
    "    preds_df ="
   ]
  },
  {
   "cell_type": "code",
   "execution_count": null,
   "id": "01a05c0d",
   "metadata": {},
   "outputs": [],
   "source": []
  }
 ],
 "metadata": {
  "kernelspec": {
   "display_name": "Python 3 (ipykernel)",
   "language": "python",
   "name": "python3"
  },
  "language_info": {
   "codemirror_mode": {
    "name": "ipython",
    "version": 3
   },
   "file_extension": ".py",
   "mimetype": "text/x-python",
   "name": "python",
   "nbconvert_exporter": "python",
   "pygments_lexer": "ipython3",
   "version": "3.10.4"
  }
 },
 "nbformat": 4,
 "nbformat_minor": 5
}
