{
 "cells": [
  {
   "attachments": {},
   "cell_type": "markdown",
   "id": "11239500",
   "metadata": {},
   "source": [
    "## Clasificación TF-IDF "
   ]
  },
  {
   "cell_type": "code",
   "execution_count": 39,
   "id": "d823c7ab",
   "metadata": {},
   "outputs": [],
   "source": [
    "import pandas as pd\n",
    "from gensim import corpora, models, similarities\n",
    "from gensim.utils import simple_preprocess"
   ]
  },
  {
   "cell_type": "markdown",
   "id": "7bb78b1e",
   "metadata": {},
   "source": [
    "Lo primero que necesitamos es cargar nuestros glosarios de términos para crear nuestro diccionario"
   ]
  },
  {
   "cell_type": "code",
   "execution_count": 42,
   "id": "11c42a89",
   "metadata": {},
   "outputs": [],
   "source": [
    "def cargar_glosario(categoria):\n",
    "    fname = f\"../Datos/glosario_{categoria}.txt\"\n",
    "    glosario = []\n",
    "    with open(fname, 'r') as f:\n",
    "        glosario = [termino.rstrip('\\n') for termino in f.readlines()]\n",
    "    return glosario"
   ]
  },
  {
   "cell_type": "code",
   "execution_count": null,
   "id": "84825994",
   "metadata": {},
   "outputs": [],
   "source": [
    "categorias = [\"deportes\", \"salud\", \"ciencia\", \"politica\"]\n",
    "glosarios = {}\n",
    "for categoria in categorias:\n",
    "    glosarios[categoria] = cargar_glosario(categoria)\n",
    "glosarios"
   ]
  },
  {
   "attachments": {},
   "cell_type": "markdown",
   "id": "d790efb0",
   "metadata": {},
   "source": [
    "Creamos nuestro diccionario de palabras en base a los terminos de todos los glosarios"
   ]
  },
  {
   "cell_type": "code",
   "execution_count": null,
   "id": "f0a4cfac",
   "metadata": {},
   "outputs": [],
   "source": [
    "def create_dictionary(glosarios):\n",
    "    doc_tokens = [[termino for termino in glosario] for glosario in glosarios.values()]\n",
    "    dictionary = corpora.Dictionary(doc_tokens)\n",
    "    return dictionary"
   ]
  },
  {
   "cell_type": "code",
   "execution_count": null,
   "id": "c9eae608",
   "metadata": {},
   "outputs": [
    {
     "name": "stdout",
     "output_type": "stream",
     "text": [
      "Dictionary<140 unique tokens: ['arabia', 'booker', 'butler', 'campazzo', 'carpena']...>\n"
     ]
    }
   ],
   "source": [
    "glosarios_dict = create_dictionary(glosarios)\n",
    "print(glosarios_dict)"
   ]
  },
  {
   "cell_type": "markdown",
   "id": "9fccfd6f",
   "metadata": {},
   "source": [
    "Cargamos nuestras noticias de test y las convertimos a un bag of words utilizando nuestro diccionario"
   ]
  },
  {
   "cell_type": "code",
   "execution_count": null,
   "id": "e1cfad72",
   "metadata": {},
   "outputs": [],
   "source": [
    "noticias_test_dataframe = pd.read_csv(\"../Datos/noticias_test.csv\")"
   ]
  },
  {
   "cell_type": "code",
   "execution_count": null,
   "id": "91b58db8",
   "metadata": {},
   "outputs": [],
   "source": [
    "def create_bag_of_words(docs_list, dictionary):\n",
    "    doc_tokens = [simple_preprocess(corpus) for corpus in docs_list]\n",
    "    docs_bow = [dictionary.doc2bow(doc) for doc in doc_tokens]\n",
    "    return docs_bow"
   ]
  },
  {
   "cell_type": "code",
   "execution_count": null,
   "id": "3702b1f1",
   "metadata": {},
   "outputs": [],
   "source": [
    "def create_tfidf(docs_bow):\n",
    "    docs_tfidf = models.TfidfModel(docs_bow, smartirs=\"lfc\")\n",
    "    return docs_tfidf"
   ]
  },
  {
   "cell_type": "markdown",
   "id": "325a645a",
   "metadata": {},
   "source": [
    "Ahora es momento de crear una bag of words para cada noticia en base a nuestro diccionario"
   ]
  },
  {
   "cell_type": "code",
   "execution_count": null,
   "id": "f1026623",
   "metadata": {},
   "outputs": [
    {
     "name": "stdout",
     "output_type": "stream",
     "text": [
      "[(93, 2)]\n"
     ]
    }
   ],
   "source": [
    "docs_bow = create_bag_of_words(noticias_test_dataframe[\"corpus\"].values, glosarios_dict)\n",
    "print(docs_bow[19])"
   ]
  },
  {
   "cell_type": "markdown",
   "id": "e13bb63a",
   "metadata": {},
   "source": [
    "Y con el bag of words podemos crear nuestro modelo tfidf"
   ]
  },
  {
   "cell_type": "code",
   "execution_count": null,
   "id": "38b3ebfc",
   "metadata": {},
   "outputs": [
    {
     "data": {
      "text/plain": [
       "[(44, 0.6103543701830407), (137, 0.7921284888188681)]"
      ]
     },
     "execution_count": 28,
     "metadata": {},
     "output_type": "execute_result"
    }
   ],
   "source": [
    "tfidf_model = create_tfidf(docs_bow)\n",
    "tfidf_model[docs_bow[0]]"
   ]
  },
  {
   "cell_type": "markdown",
   "id": "3adf0e21",
   "metadata": {},
   "source": [
    "Representamos nuestros glosarios en tfidf"
   ]
  },
  {
   "cell_type": "code",
   "execution_count": null,
   "id": "56a32b18",
   "metadata": {},
   "outputs": [],
   "source": [
    "deportes_bow = glosarios_dict.doc2bow(glosarios[\"deportes\"])\n",
    "deportes_tfidf = tfidf_model[deportes_bow]\n",
    "\n",
    "salud_bow = glosarios_dict.doc2bow(glosarios[\"salud\"])\n",
    "salud_tfidf = tfidf_model[salud_bow]\n",
    "\n",
    "ciencia_bow = glosarios_dict.doc2bow(glosarios[\"ciencia\"])\n",
    "ciencia_tfidf = tfidf_model[ciencia_bow]\n",
    "\n",
    "politica_bow = glosarios_dict.doc2bow(glosarios[\"politica\"])\n",
    "politica_tfidf = tfidf_model[politica_bow]"
   ]
  },
  {
   "cell_type": "markdown",
   "id": "6e1d4707",
   "metadata": {},
   "source": [
    "Ahora clasificamos"
   ]
  },
  {
   "cell_type": "code",
   "execution_count": null,
   "id": "9cd64a65",
   "metadata": {},
   "outputs": [],
   "source": [
    "index = similarities.MatrixSimilarity(tfidf_model[docs_bow])\n",
    "similarities_deportes = index[deportes_tfidf]\n",
    "similarities_salud = index[salud_tfidf]\n",
    "similarities_ciencia = index[ciencia_tfidf]\n",
    "similarities_politica = index[politica_tfidf]"
   ]
  },
  {
   "cell_type": "code",
   "execution_count": null,
   "id": "f4f0faa0",
   "metadata": {},
   "outputs": [],
   "source": [
    "def get_prediction(index, \n",
    "                   similarities_deportes,       \n",
    "                   similarities_salud,                       \n",
    "                   similarities_ciencia,\n",
    "                   similarities_politica):\n",
    "    mejor_match = 0\n",
    "    mejor = \"No clasificado\"\n",
    "    if (similarities_deportes[index] > mejor_match):\n",
    "        mejor_match = similarities_deportes[index]\n",
    "        mejor = \"sports\"\n",
    "    if (similarities_salud[index] > mejor_match):\n",
    "        mejor_match = similarities_salud[index]\n",
    "        mejor = \"health\"\n",
    "    if (similarities_ciencia[index] > mejor_match):\n",
    "        mejor_match = similarities_ciencia[index]\n",
    "        mejor = \"science\"\n",
    "    if (similarities_politica[index] > mejor_match):\n",
    "        mejor_match = similarities_politica[index]\n",
    "        mejor = \"politics\"\n",
    "    return mejor\n",
    "    "
   ]
  },
  {
   "cell_type": "code",
   "execution_count": null,
   "id": "38f7dc29",
   "metadata": {},
   "outputs": [],
   "source": [
    "predictions = []\n",
    "for i in range(len(docs_bow)):\n",
    "    pred = get_prediction(i, \n",
    "                          similarities_deportes,\n",
    "                          similarities_salud,\n",
    "                          similarities_ciencia,\n",
    "                          similarities_politica)\n",
    "    predictions.append(pred)"
   ]
  },
  {
   "cell_type": "code",
   "execution_count": null,
   "id": "72d92357",
   "metadata": {},
   "outputs": [],
   "source": [
    "noticias_test_dataframe.insert(2, \"labels\", predictions)"
   ]
  },
  {
   "cell_type": "code",
   "execution_count": null,
   "id": "04c47b76",
   "metadata": {},
   "outputs": [],
   "source": [
    "noticias_test_dataframe.to_csv('../Prediccion/predicciones.csv')"
   ]
  },
  {
   "cell_type": "code",
   "execution_count": null,
   "id": "b9aeabbd",
   "metadata": {},
   "outputs": [
    {
     "data": {
      "text/html": [
       "<div>\n",
       "<style scoped>\n",
       "    .dataframe tbody tr th:only-of-type {\n",
       "        vertical-align: middle;\n",
       "    }\n",
       "\n",
       "    .dataframe tbody tr th {\n",
       "        vertical-align: top;\n",
       "    }\n",
       "\n",
       "    .dataframe thead th {\n",
       "        text-align: right;\n",
       "    }\n",
       "</style>\n",
       "<table border=\"1\" class=\"dataframe\">\n",
       "  <thead>\n",
       "    <tr style=\"text-align: right;\">\n",
       "      <th></th>\n",
       "      <th>index</th>\n",
       "      <th>category</th>\n",
       "      <th>labels</th>\n",
       "      <th>n_doc</th>\n",
       "      <th>title</th>\n",
       "      <th>path</th>\n",
       "      <th>link</th>\n",
       "      <th>docs</th>\n",
       "      <th>corpus</th>\n",
       "    </tr>\n",
       "  </thead>\n",
       "  <tbody>\n",
       "    <tr>\n",
       "      <th>0</th>\n",
       "      <td>32</td>\n",
       "      <td>sports</td>\n",
       "      <td>politics</td>\n",
       "      <td>33</td>\n",
       "      <td>Stakhovsky carga contra los tenistas serbios p...</td>\n",
       "      <td>./Datos/Raw_data/sports/33.txt</td>\n",
       "      <td>https://news.google.com/__i/rss/rd/articles/CB...</td>\n",
       "      <td>El extenista ucraniano Sergiy Stakhovsky sigue...</td>\n",
       "      <td>extenista ucraniano Sergiy Stakhovsky cruzada ...</td>\n",
       "    </tr>\n",
       "    <tr>\n",
       "      <th>1</th>\n",
       "      <td>6</td>\n",
       "      <td>sports</td>\n",
       "      <td>politics</td>\n",
       "      <td>7</td>\n",
       "      <td>El último baile del invicto Van Gaal: \"Luchamo...</td>\n",
       "      <td>./Datos/Raw_data/sports/7.txt</td>\n",
       "      <td>https://news.google.com/__i/rss/rd/articles/CB...</td>\n",
       "      <td>El seleccionador de Países Bajos, que encadena...</td>\n",
       "      <td>seleccionador Paises Bajos encadenar 19 partid...</td>\n",
       "    </tr>\n",
       "    <tr>\n",
       "      <th>2</th>\n",
       "      <td>44</td>\n",
       "      <td>sports</td>\n",
       "      <td>sports</td>\n",
       "      <td>45</td>\n",
       "      <td>El olor caro de Nadal - Noticias de Gipuzkoa</td>\n",
       "      <td>./Datos/Raw_data/sports/45.txt</td>\n",
       "      <td>https://news.google.com/__i/rss/rd/articles/CB...</td>\n",
       "      <td>Lo ha ganado absolutamente todo dentro de las ...</td>\n",
       "      <td>ganar absolutamente pista tenis Abiertos Austr...</td>\n",
       "    </tr>\n",
       "    <tr>\n",
       "      <th>3</th>\n",
       "      <td>19</td>\n",
       "      <td>sports</td>\n",
       "      <td>sports</td>\n",
       "      <td>20</td>\n",
       "      <td>T.J. Warren vuelve vuelve a las canchas tras 7...</td>\n",
       "      <td>./Datos/Raw_data/sports/20.txt</td>\n",
       "      <td>https://news.google.com/__i/rss/rd/articles/CB...</td>\n",
       "      <td>La pesadilla de T.J. Warren tuvo anoche su fin...</td>\n",
       "      <td>pesadilla T. J. Warren anoche feliz 24 mes pis...</td>\n",
       "    </tr>\n",
       "    <tr>\n",
       "      <th>4</th>\n",
       "      <td>59</td>\n",
       "      <td>sports</td>\n",
       "      <td>sports</td>\n",
       "      <td>60</td>\n",
       "      <td>Ferrari aclara las teorías sobre su degradació...</td>\n",
       "      <td>./Datos/Raw_data/sports/60.txt</td>\n",
       "      <td>https://news.google.com/__i/rss/rd/articles/CB...</td>\n",
       "      <td>El equipo de Maranello comenzÃ³ el aÃ±o siendo...</td>\n",
       "      <td>equipo Maranello comenzA3 aAo rival batir Char...</td>\n",
       "    </tr>\n",
       "    <tr>\n",
       "      <th>...</th>\n",
       "      <td>...</td>\n",
       "      <td>...</td>\n",
       "      <td>...</td>\n",
       "      <td>...</td>\n",
       "      <td>...</td>\n",
       "      <td>...</td>\n",
       "      <td>...</td>\n",
       "      <td>...</td>\n",
       "      <td>...</td>\n",
       "    </tr>\n",
       "    <tr>\n",
       "      <th>115</th>\n",
       "      <td>185</td>\n",
       "      <td>politics</td>\n",
       "      <td>sports</td>\n",
       "      <td>6</td>\n",
       "      <td>Que el ruido no ensordezca lo importante</td>\n",
       "      <td>./Datos/Raw_data/politics/6.txt</td>\n",
       "      <td>https://www.20minutos.es/noticia/5083175/0/pso...</td>\n",
       "      <td>e Quienes ganen mÃ¡s de 250.000 euros extraord...</td>\n",
       "      <td>ganar mas 250 000 euros extraordinario justifi...</td>\n",
       "    </tr>\n",
       "    <tr>\n",
       "      <th>116</th>\n",
       "      <td>228</td>\n",
       "      <td>politics</td>\n",
       "      <td>sports</td>\n",
       "      <td>49</td>\n",
       "      <td>Sandro Rosell anunciará tras Reyes si sepresen...</td>\n",
       "      <td>./Datos/Raw_data/politics/49.txt</td>\n",
       "      <td>https://elpais.com/espana/madrid/2022-12-12/al...</td>\n",
       "      <td>Javier Ortega Smith lleva un tatuaje en un bra...</td>\n",
       "      <td>Javier Ortega Smith tatuaje brazo poner COE 13...</td>\n",
       "    </tr>\n",
       "    <tr>\n",
       "      <th>117</th>\n",
       "      <td>218</td>\n",
       "      <td>politics</td>\n",
       "      <td>sports</td>\n",
       "      <td>39</td>\n",
       "      <td>Feijóo rechaza la moción de censura deVox, per...</td>\n",
       "      <td>./Datos/Raw_data/politics/39.txt</td>\n",
       "      <td>https://www.20minutos.es/noticia/5084012/0/num...</td>\n",
       "      <td>e TransiciÃ³n EcolÃ³gica se pone en contacto c...</td>\n",
       "      <td>TransiciA3n ecola3gica poner contacto administ...</td>\n",
       "    </tr>\n",
       "    <tr>\n",
       "      <th>118</th>\n",
       "      <td>230</td>\n",
       "      <td>politics</td>\n",
       "      <td>politics</td>\n",
       "      <td>51</td>\n",
       "      <td>El H2Med costará 2.500 millones para llevarun ...</td>\n",
       "      <td>./Datos/Raw_data/politics/51.txt</td>\n",
       "      <td>https://www.eldiario.es/politica/gobierno-aseg...</td>\n",
       "      <td>âLa agenda polÃ­tica de ERC es la suya y es ...</td>\n",
       "      <td>ala agenda polatico ERC contrario ConstituciA3...</td>\n",
       "    </tr>\n",
       "    <tr>\n",
       "      <th>119</th>\n",
       "      <td>195</td>\n",
       "      <td>politics</td>\n",
       "      <td>politics</td>\n",
       "      <td>16</td>\n",
       "      <td>El número de hogares acogidos a la tarifaregul...</td>\n",
       "      <td>./Datos/Raw_data/politics/16.txt</td>\n",
       "      <td>https://elpais.com/ideas/2022-12-09/la-subjeti...</td>\n",
       "      <td>Porque ambos exabruptos tienen defensa subjeti...</td>\n",
       "      <td>exabrupto defensa subjetivo partidario cultura...</td>\n",
       "    </tr>\n",
       "  </tbody>\n",
       "</table>\n",
       "<p>120 rows × 9 columns</p>\n",
       "</div>"
      ],
      "text/plain": [
       "     index  category    labels  n_doc  \\\n",
       "0       32    sports  politics     33   \n",
       "1        6    sports  politics      7   \n",
       "2       44    sports    sports     45   \n",
       "3       19    sports    sports     20   \n",
       "4       59    sports    sports     60   \n",
       "..     ...       ...       ...    ...   \n",
       "115    185  politics    sports      6   \n",
       "116    228  politics    sports     49   \n",
       "117    218  politics    sports     39   \n",
       "118    230  politics  politics     51   \n",
       "119    195  politics  politics     16   \n",
       "\n",
       "                                                 title  \\\n",
       "0    Stakhovsky carga contra los tenistas serbios p...   \n",
       "1    El último baile del invicto Van Gaal: \"Luchamo...   \n",
       "2         El olor caro de Nadal - Noticias de Gipuzkoa   \n",
       "3    T.J. Warren vuelve vuelve a las canchas tras 7...   \n",
       "4    Ferrari aclara las teorías sobre su degradació...   \n",
       "..                                                 ...   \n",
       "115           Que el ruido no ensordezca lo importante   \n",
       "116  Sandro Rosell anunciará tras Reyes si sepresen...   \n",
       "117  Feijóo rechaza la moción de censura deVox, per...   \n",
       "118  El H2Med costará 2.500 millones para llevarun ...   \n",
       "119  El número de hogares acogidos a la tarifaregul...   \n",
       "\n",
       "                                 path  \\\n",
       "0      ./Datos/Raw_data/sports/33.txt   \n",
       "1       ./Datos/Raw_data/sports/7.txt   \n",
       "2      ./Datos/Raw_data/sports/45.txt   \n",
       "3      ./Datos/Raw_data/sports/20.txt   \n",
       "4      ./Datos/Raw_data/sports/60.txt   \n",
       "..                                ...   \n",
       "115   ./Datos/Raw_data/politics/6.txt   \n",
       "116  ./Datos/Raw_data/politics/49.txt   \n",
       "117  ./Datos/Raw_data/politics/39.txt   \n",
       "118  ./Datos/Raw_data/politics/51.txt   \n",
       "119  ./Datos/Raw_data/politics/16.txt   \n",
       "\n",
       "                                                  link  \\\n",
       "0    https://news.google.com/__i/rss/rd/articles/CB...   \n",
       "1    https://news.google.com/__i/rss/rd/articles/CB...   \n",
       "2    https://news.google.com/__i/rss/rd/articles/CB...   \n",
       "3    https://news.google.com/__i/rss/rd/articles/CB...   \n",
       "4    https://news.google.com/__i/rss/rd/articles/CB...   \n",
       "..                                                 ...   \n",
       "115  https://www.20minutos.es/noticia/5083175/0/pso...   \n",
       "116  https://elpais.com/espana/madrid/2022-12-12/al...   \n",
       "117  https://www.20minutos.es/noticia/5084012/0/num...   \n",
       "118  https://www.eldiario.es/politica/gobierno-aseg...   \n",
       "119  https://elpais.com/ideas/2022-12-09/la-subjeti...   \n",
       "\n",
       "                                                  docs  \\\n",
       "0    El extenista ucraniano Sergiy Stakhovsky sigue...   \n",
       "1    El seleccionador de Países Bajos, que encadena...   \n",
       "2    Lo ha ganado absolutamente todo dentro de las ...   \n",
       "3    La pesadilla de T.J. Warren tuvo anoche su fin...   \n",
       "4    El equipo de Maranello comenzÃ³ el aÃ±o siendo...   \n",
       "..                                                 ...   \n",
       "115  e Quienes ganen mÃ¡s de 250.000 euros extraord...   \n",
       "116  Javier Ortega Smith lleva un tatuaje en un bra...   \n",
       "117  e TransiciÃ³n EcolÃ³gica se pone en contacto c...   \n",
       "118  âLa agenda polÃ­tica de ERC es la suya y es ...   \n",
       "119  Porque ambos exabruptos tienen defensa subjeti...   \n",
       "\n",
       "                                                corpus  \n",
       "0    extenista ucraniano Sergiy Stakhovsky cruzada ...  \n",
       "1    seleccionador Paises Bajos encadenar 19 partid...  \n",
       "2    ganar absolutamente pista tenis Abiertos Austr...  \n",
       "3    pesadilla T. J. Warren anoche feliz 24 mes pis...  \n",
       "4    equipo Maranello comenzA3 aAo rival batir Char...  \n",
       "..                                                 ...  \n",
       "115  ganar mas 250 000 euros extraordinario justifi...  \n",
       "116  Javier Ortega Smith tatuaje brazo poner COE 13...  \n",
       "117  TransiciA3n ecola3gica poner contacto administ...  \n",
       "118  ala agenda polatico ERC contrario ConstituciA3...  \n",
       "119  exabrupto defensa subjetivo partidario cultura...  \n",
       "\n",
       "[120 rows x 9 columns]"
      ]
     },
     "metadata": {},
     "output_type": "display_data"
    }
   ],
   "source": [
    "display(noticias_test_dataframe)"
   ]
  }
 ],
 "metadata": {
  "kernelspec": {
   "display_name": "Python 3",
   "language": "python",
   "name": "python3"
  },
  "language_info": {
   "codemirror_mode": {
    "name": "ipython",
    "version": 3
   },
   "file_extension": ".py",
   "mimetype": "text/x-python",
   "name": "python",
   "nbconvert_exporter": "python",
   "pygments_lexer": "ipython3",
   "version": "3.9.6 (default, Oct 18 2022, 12:41:40) \n[Clang 14.0.0 (clang-1400.0.29.202)]"
  },
  "vscode": {
   "interpreter": {
    "hash": "31f2aee4e71d21fbe5cf8b01ff0e069b9275f58929596ceb00d14d90e3e16cd6"
   }
  }
 },
 "nbformat": 4,
 "nbformat_minor": 5
}
