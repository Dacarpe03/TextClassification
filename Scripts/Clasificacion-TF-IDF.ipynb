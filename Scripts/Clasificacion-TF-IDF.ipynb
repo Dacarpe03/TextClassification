{
 "cells": [
  {
   "cell_type": "markdown",
   "id": "5e55627a",
   "metadata": {},
   "source": [
    "## Clasificación TF-IDF"
   ]
  },
  {
   "cell_type": "code",
   "execution_count": 1,
   "id": "97e3e185",
   "metadata": {},
   "outputs": [],
   "source": [
    "import pandas as pd\n",
    "from gensim import corpora, models, similarities\n",
    "from gensim.utils import simple_preprocess"
   ]
  },
  {
   "cell_type": "markdown",
   "id": "bca4c20e",
   "metadata": {},
   "source": [
    "Lo primero que necesitamos es cargar nuestros glosarios de términos para crear nuestro diccionario"
   ]
  },
  {
   "cell_type": "code",
   "execution_count": 2,
   "id": "53210baf",
   "metadata": {},
   "outputs": [],
   "source": [
    "def cargar_glosario(categoria):\n",
    "    fname = f\"../Datos/glosario_{categoria}.txt\"\n",
    "    glosario = []\n",
    "    with open(fname, 'r') as f:\n",
    "        glosario = [termino.rstrip('\\n') for termino in f.readlines()]\n",
    "    return glosario"
   ]
  },
  {
   "cell_type": "code",
   "execution_count": 3,
   "id": "cc61f677",
   "metadata": {},
   "outputs": [],
   "source": [
    "categorias = [\"deportes\", \"salud\", \"ciencia\", \"politica\"]\n",
    "glosarios = {}\n",
    "for categoria in categorias:\n",
    "    glosarios[categoria] = cargar_glosario(categoria)"
   ]
  },
  {
   "cell_type": "markdown",
   "id": "058d5091",
   "metadata": {},
   "source": [
    "Creamos nuestro diccionario de palabras en base a los terminos del glosario"
   ]
  },
  {
   "cell_type": "code",
   "execution_count": 4,
   "id": "4d5d6000",
   "metadata": {},
   "outputs": [],
   "source": [
    "def create_dictionary(glosarios):\n",
    "    doc_tokens = [[termino for termino in glosario] for glosario in glosarios.values()]\n",
    "    dictionary = corpora.Dictionary(doc_tokens)\n",
    "    return dictionary"
   ]
  },
  {
   "cell_type": "code",
   "execution_count": 5,
   "id": "805e38ab",
   "metadata": {},
   "outputs": [
    {
     "name": "stdout",
     "output_type": "stream",
     "text": [
      "Dictionary<200 unique tokens: ['aerodinamico', 'atletico', 'booker', 'boston', 'cambio']...>\n"
     ]
    }
   ],
   "source": [
    "glosarios_dict = create_dictionary(glosarios)\n",
    "print(glosarios_dict)"
   ]
  },
  {
   "cell_type": "markdown",
   "id": "fda7e821",
   "metadata": {},
   "source": [
    "Cargamos nuestras noticias de test y las convertimos a un bag of words utilizando nuestro diccionario"
   ]
  },
  {
   "cell_type": "code",
   "execution_count": 6,
   "id": "a2457a7d",
   "metadata": {},
   "outputs": [],
   "source": [
    "noticias_test_dataframe = pd.read_csv(\"../Datos/noticias_test.csv\")"
   ]
  },
  {
   "cell_type": "code",
   "execution_count": 7,
   "id": "bf2269bc",
   "metadata": {},
   "outputs": [],
   "source": [
    "def create_bag_of_words(docs_list, dictionary):\n",
    "    doc_tokens = [simple_preprocess(corpus) for corpus in docs_list]\n",
    "    docs_bow = [dictionary.doc2bow(doc) for doc in doc_tokens]\n",
    "    return docs_bow"
   ]
  },
  {
   "cell_type": "code",
   "execution_count": 8,
   "id": "3e63170a",
   "metadata": {},
   "outputs": [],
   "source": [
    "def create_tfidf(docs_bow):\n",
    "    docs_tfidf = models.TfidfModel(docs_bow, smartirs=\"lfc\")\n",
    "    return docs_tfidf"
   ]
  },
  {
   "cell_type": "markdown",
   "id": "8c4aa2d9",
   "metadata": {},
   "source": [
    "Ahora es momento de crear una bag of words para cada noticia en base a nuestro diccionario"
   ]
  },
  {
   "cell_type": "code",
   "execution_count": 9,
   "id": "66298fda",
   "metadata": {},
   "outputs": [
    {
     "name": "stdout",
     "output_type": "stream",
     "text": [
      "[(7, 1), (17, 2), (38, 1), (70, 1)]\n"
     ]
    }
   ],
   "source": [
    "docs_bow = create_bag_of_words(noticias_test_dataframe[\"corpus\"].values, glosarios_dict)\n",
    "print(docs_bow[19])"
   ]
  },
  {
   "cell_type": "markdown",
   "id": "ee5dd12c",
   "metadata": {},
   "source": [
    "Y con el bag of words podemos crear nuestro modelo tfidf"
   ]
  },
  {
   "cell_type": "code",
   "execution_count": 10,
   "id": "5a036143",
   "metadata": {},
   "outputs": [
    {
     "data": {
      "text/plain": [
       "[(1, 0.5047168663250167), (27, 0.8632849383877002)]"
      ]
     },
     "execution_count": 10,
     "metadata": {},
     "output_type": "execute_result"
    }
   ],
   "source": [
    "tfidf_model = create_tfidf(docs_bow)\n",
    "tfidf_model[docs_bow[0]]"
   ]
  },
  {
   "cell_type": "markdown",
   "id": "41e7fa32",
   "metadata": {},
   "source": [
    "Representamos nuestros glosarios en tfidf"
   ]
  },
  {
   "cell_type": "code",
   "execution_count": 11,
   "id": "9756e005",
   "metadata": {},
   "outputs": [],
   "source": [
    "deportes_bow = glosarios_dict.doc2bow(glosarios[\"deportes\"])\n",
    "deportes_tfidf = tfidf_model[deportes_bow]\n",
    "\n",
    "salud_bow = glosarios_dict.doc2bow(glosarios[\"salud\"])\n",
    "salud_tfidf = tfidf_model[salud_bow]\n",
    "\n",
    "ciencia_bow = glosarios_dict.doc2bow(glosarios[\"ciencia\"])\n",
    "ciencia_tfidf = tfidf_model[ciencia_bow]\n",
    "\n",
    "politica_bow = glosarios_dict.doc2bow(glosarios[\"politica\"])\n",
    "politica_tfidf = tfidf_model[politica_bow]"
   ]
  },
  {
   "cell_type": "markdown",
   "id": "10978c08",
   "metadata": {},
   "source": [
    "Ahora clasificamos"
   ]
  },
  {
   "cell_type": "code",
   "execution_count": 12,
   "id": "dad27af4",
   "metadata": {},
   "outputs": [],
   "source": [
    "index = similarities.MatrixSimilarity(tfidf_model[docs_bow])\n",
    "similarities_deportes = index[deportes_tfidf]\n",
    "similarities_salud = index[salud_tfidf]\n",
    "similarities_ciencia = index[ciencia_tfidf]\n",
    "similarities_politica = index[politica_tfidf]"
   ]
  },
  {
   "cell_type": "code",
   "execution_count": 13,
   "id": "6b850fb0",
   "metadata": {},
   "outputs": [],
   "source": [
    "def get_prediction(index, \n",
    "                   similarities_deportes,       \n",
    "                   similarities_salud,                       \n",
    "                   similarities_ciencia,\n",
    "                   similarities_politica):\n",
    "    mejor_match = 0\n",
    "    mejor = \"No clasificado\"\n",
    "    if (similarities_deportes[index] > mejor_match):\n",
    "        mejor_match = similarities_deportes[index]\n",
    "        mejor = \"sports\"\n",
    "    if (similarities_salud[index] > mejor_match):\n",
    "        mejor_match = similarities_salud[index]\n",
    "        mejor = \"health\"\n",
    "    if (similarities_ciencia[index] > mejor_match):\n",
    "        mejor_match = similarities_ciencia[index]\n",
    "        mejor = \"science\"\n",
    "    if (similarities_politica[index] > mejor_match):\n",
    "        mejor_match = similarities_politica[index]\n",
    "        mejor = \"politics\"\n",
    "    return mejor\n",
    "    "
   ]
  },
  {
   "cell_type": "code",
   "execution_count": 14,
   "id": "aa693293",
   "metadata": {},
   "outputs": [],
   "source": [
    "predictions = []\n",
    "for i in range(len(docs_bow)):\n",
    "    pred = get_prediction(i, \n",
    "                          similarities_deportes,\n",
    "                          similarities_salud,\n",
    "                          similarities_ciencia,\n",
    "                          similarities_politica)\n",
    "    predictions.append(pred)"
   ]
  },
  {
   "cell_type": "code",
   "execution_count": 15,
   "id": "afa31d2c",
   "metadata": {},
   "outputs": [],
   "source": [
    "noticias_test_dataframe.insert(2, \"labels\", predictions)"
   ]
  },
  {
   "cell_type": "code",
   "execution_count": 16,
   "id": "df47c8b5",
   "metadata": {},
   "outputs": [],
   "source": [
    "noticias_test_dataframe.to_csv('a.csv')"
   ]
  },
  {
   "cell_type": "code",
   "execution_count": 17,
   "id": "184be88e",
   "metadata": {},
   "outputs": [
    {
     "name": "stdout",
     "output_type": "stream",
     "text": [
      "65\n",
      "            \\item  ATP Tour\n",
      "            \\item  Eurosport ES\n",
      "            \\item  Antena 3 Noticias\n",
      "            \\item  El Periódico\n",
      "            \\item  NotiPress\n",
      "            \\item  El Imparcial de Oaxaca\n",
      "            \\item  Redacción Médica\n",
      "            \\item  INFORMACIÓN\n",
      "            \\item  asajajaen.com\n",
      "            \\item  Alimente\n",
      "            \\item  Bernabéu Digital\n",
      "            \\item  La Razón\n",
      "            \\item  Noticias de Gipuzkoa\n",
      "            \\item  Onda Cero\n",
      "            \\item  Vitónica\n",
      "            \\item  MUI Kitchen\n",
      "            \\item  Planeta Triatlón\n",
      "            \\item  AS \n",
      "            \\item  Newtral\n",
      "            \\item  Superdeporte\n",
      "            \\item  Defensa Central\n",
      "            \\item  Car and Driver \n",
      "            \\item  ES\n",
      "            \\item  MARCA.com\n",
      "            \\item  El Mundo\n",
      "            \\item  EL ESPAÑOL\n",
      "            \\item  Faro de Vigo\n",
      "            \\item  Diario de Ávila\n",
      "            \\item  laSexta\n",
      "            \\item  Sporting News\n",
      "            \\item  TRT Español\n",
      "            \\item  MSN\n",
      "            \\item  Diario de Castilla y León\n",
      "            \\item  miarevista.es\n",
      "            \\item  elDiario.es\n",
      "            \\item  nbamaniacs\n",
      "            \\item  La Voz de Medina Digital\n",
      "            \\item  Infosalus\n",
      "            \\item  Diario de Almería\n",
      "            \\item  ContraRéplica\n",
      "            \\item  Murcia.com\n",
      "            \\item  Fitness\n",
      "            \\item  Vista al Mar\n",
      "            \\item  Qué!\n",
      "            \\item  Business Insider España\n",
      "            \\item  20minutos.es\n",
      "            \\item  Geriatricarea.com\n",
      "            \\item  MUNDO DEPORTIVO\n",
      "            \\item  Deia\n",
      "            \\item  El Debate\n",
      "            \\item  La Nueva España\n",
      "            \\item  Diario de Cádiz\n",
      "            \\item  Okdiario\n",
      "            \\item  Marca\n",
      "            \\item  Málaga Hoy\n",
      "            \\item  Cadena SER\n",
      "            \\item  Ser Padres\n",
      "            \\item  Caracol Radio\n",
      "            \\item  El Independiente\n",
      "            \\item  La Voz de Galicia\n",
      "            \\item  Medicina y Salud Publica\n",
      "            \\item  Periodismo.com\n",
      "            \\item  El Día de Valladolid\n",
      "            \\item  El Periódico de Extremadura\n",
      "            \\item  EL PAÍS\n"
     ]
    }
   ],
   "source": [
    "noticias = pd.read_csv(\"../Datos/urls.csv\")\n",
    "fuentes = []\n",
    "for tit in noticias[\"title\"].values:\n",
    "    t  = tit.split(\"-\")[-1]\n",
    "    fuentes.append(t)\n",
    "print(len(set(fuentes)))\n",
    "for f in set(fuentes):\n",
    "    print(\"            \\item\", f)"
   ]
  },
  {
   "cell_type": "code",
   "execution_count": null,
   "id": "17ed73ac",
   "metadata": {},
   "outputs": [],
   "source": []
  }
 ],
 "metadata": {
  "kernelspec": {
   "display_name": "Python 3 (ipykernel)",
   "language": "python",
   "name": "python3"
  },
  "language_info": {
   "codemirror_mode": {
    "name": "ipython",
    "version": 3
   },
   "file_extension": ".py",
   "mimetype": "text/x-python",
   "name": "python",
   "nbconvert_exporter": "python",
   "pygments_lexer": "ipython3",
   "version": "3.10.4"
  }
 },
 "nbformat": 4,
 "nbformat_minor": 5
}
