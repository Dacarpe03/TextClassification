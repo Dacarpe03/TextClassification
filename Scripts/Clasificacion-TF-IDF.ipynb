{
 "cells": [
  {
   "cell_type": "markdown",
   "id": "11239500",
   "metadata": {},
   "source": [
    "## Clasificación TF-IDF"
   ]
  },
  {
   "cell_type": "code",
   "execution_count": 1,
   "id": "d823c7ab",
   "metadata": {},
   "outputs": [],
   "source": [
    "import pandas as pd\n",
    "from gensim import corpora, models, similarities\n",
    "from gensim.utils import simple_preprocess"
   ]
  },
  {
   "cell_type": "markdown",
   "id": "7bb78b1e",
   "metadata": {},
   "source": [
    "Lo primero que necesitamos es cargar nuestros glosarios de términos para crear nuestro diccionario"
   ]
  },
  {
   "cell_type": "code",
   "execution_count": 2,
   "id": "11c42a89",
   "metadata": {},
   "outputs": [],
   "source": [
    "def cargar_glosario(categoria):\n",
    "    fname = f\"../Datos/glosario_{categoria}.txt\"\n",
    "    glosario = []\n",
    "    with open(fname, 'r') as f:\n",
    "        glosario = [termino.rstrip('\\n') for termino in f.readlines()]\n",
    "    return glosario"
   ]
  },
  {
   "cell_type": "code",
   "execution_count": 3,
   "id": "99a6e637",
   "metadata": {},
   "outputs": [
    {
     "data": {
      "text/plain": [
       "{'deportes': ['seguidor',\n",
       "  'mbappe',\n",
       "  'correr',\n",
       "  'suarez',\n",
       "  'resto',\n",
       "  'mans',\n",
       "  'boston',\n",
       "  'estabilidad',\n",
       "  'horford',\n",
       "  'cristiano',\n",
       "  'exencion',\n",
       "  'enrique',\n",
       "  'booker',\n",
       "  'tatum',\n",
       "  'cambio',\n",
       "  'formato',\n",
       "  'club',\n",
       "  'juventus',\n",
       "  'ronaldo',\n",
       "  'wiggins',\n",
       "  'gonzalez',\n",
       "  'gonzalo',\n",
       "  'colombia',\n",
       "  'magnussen',\n",
       "  'steiner',\n",
       "  'gasto',\n",
       "  'resistencia',\n",
       "  'lakers',\n",
       "  'pts',\n",
       "  'reb',\n",
       "  'verdasco',\n",
       "  'kosmos',\n",
       "  'ktm',\n",
       "  'moto',\n",
       "  'atletico',\n",
       "  'gimenez',\n",
       "  'siebert',\n",
       "  'rez',\n",
       "  'dolares',\n",
       "  'grada',\n",
       "  'krack',\n",
       "  'marko',\n",
       "  'aerodinamico',\n",
       "  'motogp',\n",
       "  'golden',\n",
       "  'state',\n",
       "  'warriors',\n",
       "  'medicamento',\n",
       "  'diciembre',\n",
       "  'gira'],\n",
       " 'salud': ['estigma',\n",
       "  'atras',\n",
       "  'cancer',\n",
       "  'anemia',\n",
       "  'cafa',\n",
       "  'aceite',\n",
       "  'oliva',\n",
       "  'mascarilla',\n",
       "  'pulmonar',\n",
       "  'unicef',\n",
       "  'cannabis',\n",
       "  'pet',\n",
       "  'bronquiolitis',\n",
       "  'requerir',\n",
       "  'congelado',\n",
       "  'fisioterapia',\n",
       "  'quiraorgica',\n",
       "  'creatividad',\n",
       "  'tc',\n",
       "  'rehabilitacia',\n",
       "  'research',\n",
       "  'signo',\n",
       "  'uk',\n",
       "  'vejiga',\n",
       "  'marfan',\n",
       "  'sindrome',\n",
       "  'deberiar',\n",
       "  'oxigeno',\n",
       "  'lobo',\n",
       "  'manada'],\n",
       " 'ciencia': ['sal',\n",
       "  'cola',\n",
       "  'meteoro',\n",
       "  'agujero',\n",
       "  'llama',\n",
       "  'gemanidas',\n",
       "  'banyoles',\n",
       "  'neandertal',\n",
       "  'congelacia',\n",
       "  'leo',\n",
       "  'latigo',\n",
       "  'supersa',\n",
       "  'cernan',\n",
       "  'quipus',\n",
       "  'congelar',\n",
       "  'nudo',\n",
       "  'fuego',\n",
       "  'estampido',\n",
       "  'sonido',\n",
       "  'menta',\n",
       "  'supermasivo',\n",
       "  'observacia',\n",
       "  'perseidas',\n",
       "  'inca',\n",
       "  'matematica',\n",
       "  'alcoholismo',\n",
       "  'fumador',\n",
       "  'fumar',\n",
       "  'izquierdo',\n",
       "  'mutacion'],\n",
       " 'politica': ['silva',\n",
       "  'rosell',\n",
       "  'vuelo',\n",
       "  'precio',\n",
       "  'torra',\n",
       "  'reyes',\n",
       "  'plataforma',\n",
       "  'anunciara',\n",
       "  'perao',\n",
       "  'sinema',\n",
       "  'baron',\n",
       "  'turismo',\n",
       "  'ayres',\n",
       "  'animal',\n",
       "  'versia',\n",
       "  'podem',\n",
       "  'unilateral',\n",
       "  'junts',\n",
       "  'aborto',\n",
       "  'juventud',\n",
       "  'adjudicacia',\n",
       "  'procesado',\n",
       "  'ex',\n",
       "  'dema',\n",
       "  'magistrado',\n",
       "  'abascal',\n",
       "  'cgp',\n",
       "  'arizona',\n",
       "  'desbloqueo',\n",
       "  'perro']}"
      ]
     },
     "execution_count": 3,
     "metadata": {},
     "output_type": "execute_result"
    }
   ],
   "source": [
    "categorias = [\"deportes\", \"salud\", \"ciencia\", \"politica\"]\n",
    "glosarios = {}\n",
    "for categoria in categorias:\n",
    "    glosarios[categoria] = cargar_glosario(categoria)\n",
    "glosarios"
   ]
  },
  {
   "cell_type": "markdown",
   "id": "d790efb0",
   "metadata": {},
   "source": [
    "Creamos nuestro diccionario de palabras en base a los terminos del glosario"
   ]
  },
  {
   "cell_type": "code",
   "execution_count": 4,
   "id": "f0a4cfac",
   "metadata": {},
   "outputs": [],
   "source": [
    "def create_dictionary(glosarios):\n",
    "    doc_tokens = [[termino for termino in glosario] for glosario in glosarios.values()]\n",
    "    dictionary = corpora.Dictionary(doc_tokens)\n",
    "    return dictionary"
   ]
  },
  {
   "cell_type": "code",
   "execution_count": 5,
   "id": "c9eae608",
   "metadata": {},
   "outputs": [
    {
     "name": "stdout",
     "output_type": "stream",
     "text": [
      "Dictionary<140 unique tokens: ['aerodinamico', 'atletico', 'booker', 'boston', 'cambio']...>\n"
     ]
    }
   ],
   "source": [
    "glosarios_dict = create_dictionary(glosarios)\n",
    "print(glosarios_dict)"
   ]
  },
  {
   "cell_type": "markdown",
   "id": "9fccfd6f",
   "metadata": {},
   "source": [
    "Cargamos nuestras noticias de test y las convertimos a un bag of words utilizando nuestro diccionario"
   ]
  },
  {
   "cell_type": "code",
   "execution_count": 6,
   "id": "e1cfad72",
   "metadata": {},
   "outputs": [],
   "source": [
    "noticias_test_dataframe = pd.read_csv(\"../Datos/noticias_test.csv\")"
   ]
  },
  {
   "cell_type": "code",
   "execution_count": 7,
   "id": "91b58db8",
   "metadata": {},
   "outputs": [],
   "source": [
    "def create_bag_of_words(docs_list, dictionary):\n",
    "    doc_tokens = [simple_preprocess(corpus) for corpus in docs_list]\n",
    "    docs_bow = [dictionary.doc2bow(doc) for doc in doc_tokens]\n",
    "    return docs_bow"
   ]
  },
  {
   "cell_type": "code",
   "execution_count": 8,
   "id": "3702b1f1",
   "metadata": {},
   "outputs": [],
   "source": [
    "def create_tfidf(docs_bow):\n",
    "    docs_tfidf = models.TfidfModel(docs_bow, smartirs=\"lfc\")\n",
    "    return docs_tfidf"
   ]
  },
  {
   "cell_type": "markdown",
   "id": "325a645a",
   "metadata": {},
   "source": [
    "Ahora es momento de crear una bag of words para cada noticia en base a nuestro diccionario"
   ]
  },
  {
   "cell_type": "code",
   "execution_count": 9,
   "id": "f1026623",
   "metadata": {},
   "outputs": [
    {
     "name": "stdout",
     "output_type": "stream",
     "text": [
      "[(7, 1), (17, 2), (38, 1)]\n"
     ]
    }
   ],
   "source": [
    "docs_bow = create_bag_of_words(noticias_test_dataframe[\"corpus\"].values, glosarios_dict)\n",
    "print(docs_bow[19])"
   ]
  },
  {
   "cell_type": "markdown",
   "id": "e13bb63a",
   "metadata": {},
   "source": [
    "Y con el bag of words podemos crear nuestro modelo tfidf"
   ]
  },
  {
   "cell_type": "code",
   "execution_count": 10,
   "id": "38b3ebfc",
   "metadata": {},
   "outputs": [
    {
     "data": {
      "text/plain": [
       "[(1, 0.5047168663250167), (27, 0.8632849383877002)]"
      ]
     },
     "execution_count": 10,
     "metadata": {},
     "output_type": "execute_result"
    }
   ],
   "source": [
    "tfidf_model = create_tfidf(docs_bow)\n",
    "tfidf_model[docs_bow[0]]"
   ]
  },
  {
   "cell_type": "markdown",
   "id": "3adf0e21",
   "metadata": {},
   "source": [
    "Representamos nuestros glosarios en tfidf"
   ]
  },
  {
   "cell_type": "code",
   "execution_count": 11,
   "id": "56a32b18",
   "metadata": {},
   "outputs": [],
   "source": [
    "deportes_bow = glosarios_dict.doc2bow(glosarios[\"deportes\"])\n",
    "deportes_tfidf = tfidf_model[deportes_bow]\n",
    "\n",
    "salud_bow = glosarios_dict.doc2bow(glosarios[\"salud\"])\n",
    "salud_tfidf = tfidf_model[salud_bow]\n",
    "\n",
    "ciencia_bow = glosarios_dict.doc2bow(glosarios[\"ciencia\"])\n",
    "ciencia_tfidf = tfidf_model[ciencia_bow]\n",
    "\n",
    "politica_bow = glosarios_dict.doc2bow(glosarios[\"politica\"])\n",
    "politica_tfidf = tfidf_model[politica_bow]"
   ]
  },
  {
   "cell_type": "markdown",
   "id": "6e1d4707",
   "metadata": {},
   "source": [
    "Ahora clasificamos"
   ]
  },
  {
   "cell_type": "code",
   "execution_count": 12,
   "id": "9cd64a65",
   "metadata": {},
   "outputs": [],
   "source": [
    "index = similarities.MatrixSimilarity(tfidf_model[docs_bow])\n",
    "similarities_deportes = index[deportes_tfidf]\n",
    "similarities_salud = index[salud_tfidf]\n",
    "similarities_ciencia = index[ciencia_tfidf]\n",
    "similarities_politica = index[politica_tfidf]"
   ]
  },
  {
   "cell_type": "code",
   "execution_count": 13,
   "id": "f4f0faa0",
   "metadata": {},
   "outputs": [],
   "source": [
    "def get_prediction(index, \n",
    "                   similarities_deportes,       \n",
    "                   similarities_salud,                       \n",
    "                   similarities_ciencia,\n",
    "                   similarities_politica):\n",
    "    mejor_match = 0\n",
    "    mejor = \"No clasificado\"\n",
    "    if (similarities_deportes[index] > mejor_match):\n",
    "        mejor_match = similarities_deportes[index]\n",
    "        mejor = \"sports\"\n",
    "    if (similarities_salud[index] > mejor_match):\n",
    "        mejor_match = similarities_salud[index]\n",
    "        mejor = \"health\"\n",
    "    if (similarities_ciencia[index] > mejor_match):\n",
    "        mejor_match = similarities_ciencia[index]\n",
    "        mejor = \"science\"\n",
    "    if (similarities_politica[index] > mejor_match):\n",
    "        mejor_match = similarities_politica[index]\n",
    "        mejor = \"politics\"\n",
    "    return mejor\n",
    "    "
   ]
  },
  {
   "cell_type": "code",
   "execution_count": 14,
   "id": "38f7dc29",
   "metadata": {},
   "outputs": [],
   "source": [
    "predictions = []\n",
    "for i in range(len(docs_bow)):\n",
    "    pred = get_prediction(i, \n",
    "                          similarities_deportes,\n",
    "                          similarities_salud,\n",
    "                          similarities_ciencia,\n",
    "                          similarities_politica)\n",
    "    predictions.append(pred)"
   ]
  },
  {
   "cell_type": "code",
   "execution_count": 15,
   "id": "72d92357",
   "metadata": {},
   "outputs": [],
   "source": [
    "noticias_test_dataframe.insert(2, \"labels\", predictions)"
   ]
  },
  {
   "cell_type": "code",
   "execution_count": 17,
   "id": "04c47b76",
   "metadata": {},
   "outputs": [],
   "source": [
    "noticias_test_dataframe.to_csv('a.csv')"
   ]
  },
  {
   "cell_type": "code",
   "execution_count": null,
   "id": "b9aeabbd",
   "metadata": {},
   "outputs": [],
   "source": []
  }
 ],
 "metadata": {
  "kernelspec": {
   "display_name": "Python 3 (ipykernel)",
   "language": "python",
   "name": "python3"
  },
  "language_info": {
   "codemirror_mode": {
    "name": "ipython",
    "version": 3
   },
   "file_extension": ".py",
   "mimetype": "text/x-python",
   "name": "python",
   "nbconvert_exporter": "python",
   "pygments_lexer": "ipython3",
   "version": "3.10.4"
  }
 },
 "nbformat": 4,
 "nbformat_minor": 5
}
