{
 "cells": [
  {
   "attachments": {},
   "cell_type": "markdown",
   "id": "11239500",
   "metadata": {},
   "source": [
    "## Clasificación TF-IDF "
   ]
  },
  {
   "cell_type": "code",
   "execution_count": 19,
   "id": "d823c7ab",
   "metadata": {},
   "outputs": [],
   "source": [
    "import pandas as pd\n",
    "from gensim import corpora, models, similarities\n",
    "from gensim.utils import simple_preprocess"
   ]
  },
  {
   "cell_type": "markdown",
   "id": "7bb78b1e",
   "metadata": {},
   "source": [
    "Lo primero que necesitamos es cargar nuestros glosarios de términos para crear nuestro diccionario"
   ]
  },
  {
   "cell_type": "code",
   "execution_count": 20,
   "id": "11c42a89",
   "metadata": {},
   "outputs": [],
   "source": [
    "def cargar_glosario(categoria, conjunto):\n",
    "    fname = f\"../Datos/Glosarios/{conjunto}/glosario_{categoria}.txt\"\n",
    "\n",
    "    glosario = []\n",
    "    with open(fname, 'r') as f:\n",
    "        glosario = [termino.rstrip('\\n') for termino in f.readlines()]\n",
    "    return glosario"
   ]
  },
  {
   "cell_type": "code",
   "execution_count": 21,
   "id": "84825994",
   "metadata": {},
   "outputs": [
    {
     "name": "stdout",
     "output_type": "stream",
     "text": [
      "{'deportes': ['falso', 'jamas', 'smash', 'mbappe', 'gigante', 'reserva', 'nets', 'carpena', 'djokovic', 'mclaren', 'exencion', 'butler', 'cuento', 'formato', 'campazzo', 'tenerife', 'domenicali', 'booker', 'tatum', 'madrid', 'real', 'premio', 'juventus', 'pagar', 'ronaldo', 'magnussen', 'steiner', 'gavi', 'porra', 'indycar', 'palou', 'gonzalez', 'gonzalo', 'rotacion', 'florentino', 'heredero', 'verdasco', 'enrique', 'luis', 'cristiano', 'cd', 'marbella', 'residencia', 'serbia', 'serbio', 'rosa', 'collins', 'jimmy', 'arabia', 'club'], 'salud': ['arterial', 'dash', 'anemia', 'folcodina', 'cafa', 'genital', 'vrs', 'unicef', 'lobo', 'verruga', 'aceite', 'mascarilla', 'pulmonar', 'presion', 'cannabis', 'pet', 'epilepsia', 'zumo', 'quiraorgica', 'afiliado', 'eps', 'ips', 'tc', 'creatividad', 'condiloma', 'marfan', 'manada', 'parasito', 'lavar', 'coosalud'], 'ciencia': ['vacao', 'llama', 'captura', 'cola', 'honor', 'gemanidas', 'banyoles', 'neandertal', 'agujero', 'latigo', 'supersa', 'perfecto', 'regalo', 'bankman', 'fried', 'navidad', 'estampido', 'ftx', 'york', 'menta', 'supermasivo', 'barrera', 'segundo', 'ingeniero', 'magic', 'reencuentro', 'leo', 'nif', 'cernan', 'fauci'], 'politica': ['rosell', 'vuelo', 'sentir', 'reyes', 'rufian', 'unilateral', 'multilateral', 'ja', 'sinema', 'benito', 'juarez', 'turismo', 'ucraniano', 'nicolas', 'negativo', 'autoritariaa', 'ruido', 'nero', 'registral', 'demarcacia', 'ex', 'consulta', 'patrimonio', 'perao', 'juventud', 'trias', 'dema', 'coraza', 'ciudadano', 'anunciara']}\n"
     ]
    }
   ],
   "source": [
    "categorias = [\"deportes\", \"salud\", \"ciencia\", \"politica\"]\n",
    "\n",
    "glosarios = {}\n",
    "for categoria in categorias:\n",
    "    glosarios[categoria] = cargar_glosario(categoria, \"train\")\n",
    "\n",
    "print(glosarios)"
   ]
  },
  {
   "attachments": {},
   "cell_type": "markdown",
   "id": "d790efb0",
   "metadata": {},
   "source": [
    "Creamos nuestro diccionario de palabras en base a los terminos de todos los glosarios"
   ]
  },
  {
   "cell_type": "code",
   "execution_count": 22,
   "id": "f0a4cfac",
   "metadata": {},
   "outputs": [],
   "source": [
    "def create_dictionary(glosarios):\n",
    "    doc_tokens = [[termino for termino in glosario] for glosario in glosarios.values()]\n",
    "    dictionary = corpora.Dictionary(doc_tokens)\n",
    "    return dictionary"
   ]
  },
  {
   "cell_type": "code",
   "execution_count": 23,
   "id": "c9eae608",
   "metadata": {},
   "outputs": [
    {
     "name": "stdout",
     "output_type": "stream",
     "text": [
      "Dictionary<140 unique tokens: ['arabia', 'booker', 'butler', 'campazzo', 'carpena']...>\n"
     ]
    }
   ],
   "source": [
    "glosarios_dict = create_dictionary(glosarios)\n",
    "print(glosarios_dict)"
   ]
  },
  {
   "cell_type": "markdown",
   "id": "9fccfd6f",
   "metadata": {},
   "source": [
    "Cargamos nuestras noticias de test y las convertimos a un bag of words utilizando nuestro diccionario"
   ]
  },
  {
   "cell_type": "code",
   "execution_count": 24,
   "id": "e1cfad72",
   "metadata": {},
   "outputs": [],
   "source": [
    "noticias_test_dataframe = pd.read_csv(\"../Datos/noticias_test.csv\")"
   ]
  },
  {
   "cell_type": "code",
   "execution_count": 25,
   "id": "91b58db8",
   "metadata": {},
   "outputs": [],
   "source": [
    "def create_bag_of_words(docs_list, dictionary):\n",
    "    doc_tokens = [simple_preprocess(corpus) for corpus in docs_list]\n",
    "    docs_bow = [dictionary.doc2bow(doc) for doc in doc_tokens]\n",
    "    return docs_bow"
   ]
  },
  {
   "cell_type": "code",
   "execution_count": 26,
   "id": "3702b1f1",
   "metadata": {},
   "outputs": [],
   "source": [
    "def create_tfidf(docs_bow):\n",
    "    docs_tfidf = models.TfidfModel(docs_bow, smartirs=\"lfc\")\n",
    "    return docs_tfidf"
   ]
  },
  {
   "cell_type": "markdown",
   "id": "325a645a",
   "metadata": {},
   "source": [
    "Ahora es momento de crear una bag of words para cada noticia en base a nuestro diccionario"
   ]
  },
  {
   "cell_type": "code",
   "execution_count": 27,
   "id": "f1026623",
   "metadata": {},
   "outputs": [
    {
     "name": "stdout",
     "output_type": "stream",
     "text": [
      "[(13, 8), (49, 5), (133, 2)]\n"
     ]
    }
   ],
   "source": [
    "docs_bow = create_bag_of_words(noticias_test_dataframe[\"corpus\"].values, glosarios_dict)\n",
    "print(docs_bow[19])"
   ]
  },
  {
   "cell_type": "markdown",
   "id": "e13bb63a",
   "metadata": {},
   "source": [
    "Y con el bag of words podemos crear nuestro modelo tfidf"
   ]
  },
  {
   "cell_type": "code",
   "execution_count": 28,
   "id": "38b3ebfc",
   "metadata": {},
   "outputs": [
    {
     "data": {
      "text/plain": [
       "[(1, 0.9809846216503764), (102, 0.1940854762352605)]"
      ]
     },
     "execution_count": 28,
     "metadata": {},
     "output_type": "execute_result"
    }
   ],
   "source": [
    "tfidf_model = create_tfidf(docs_bow)\n",
    "tfidf_model[docs_bow[0]]"
   ]
  },
  {
   "cell_type": "markdown",
   "id": "3adf0e21",
   "metadata": {},
   "source": [
    "Representamos nuestros glosarios en tfidf"
   ]
  },
  {
   "cell_type": "code",
   "execution_count": 29,
   "id": "56a32b18",
   "metadata": {},
   "outputs": [],
   "source": [
    "deportes_bow = glosarios_dict.doc2bow(glosarios[\"deportes\"])\n",
    "deportes_tfidf = tfidf_model[deportes_bow]\n",
    "\n",
    "salud_bow = glosarios_dict.doc2bow(glosarios[\"salud\"])\n",
    "salud_tfidf = tfidf_model[salud_bow]\n",
    "\n",
    "ciencia_bow = glosarios_dict.doc2bow(glosarios[\"ciencia\"])\n",
    "ciencia_tfidf = tfidf_model[ciencia_bow]\n",
    "\n",
    "politica_bow = glosarios_dict.doc2bow(glosarios[\"politica\"])\n",
    "politica_tfidf = tfidf_model[politica_bow]"
   ]
  },
  {
   "cell_type": "code",
   "execution_count": 30,
   "id": "563fbdfb",
   "metadata": {},
   "outputs": [
    {
     "name": "stdout",
     "output_type": "stream",
     "text": [
      "[(0, 1), (1, 1), (2, 1), (3, 1), (4, 1), (5, 1), (6, 1), (7, 1), (8, 1), (9, 1), (10, 1), (11, 1), (12, 1), (13, 1), (14, 1), (15, 1), (16, 1), (17, 1), (18, 1), (19, 1), (20, 1), (21, 1), (22, 1), (23, 1), (24, 1), (25, 1), (26, 1), (27, 1), (28, 1), (29, 1), (30, 1), (31, 1), (32, 1), (33, 1), (34, 1), (35, 1), (36, 1), (37, 1), (38, 1), (39, 1), (40, 1), (41, 1), (42, 1), (43, 1), (44, 1), (45, 1), (46, 1), (47, 1), (48, 1), (49, 1)]\n"
     ]
    }
   ],
   "source": [
    "print(deportes_bow)"
   ]
  },
  {
   "cell_type": "markdown",
   "id": "6e1d4707",
   "metadata": {},
   "source": [
    "Ahora clasificamos"
   ]
  },
  {
   "cell_type": "code",
   "execution_count": 31,
   "id": "9cd64a65",
   "metadata": {},
   "outputs": [],
   "source": [
    "index = similarities.MatrixSimilarity(tfidf_model[docs_bow])\n",
    "similarities_deportes = index[deportes_tfidf]\n",
    "similarities_salud = index[salud_tfidf]\n",
    "similarities_ciencia = index[ciencia_tfidf]\n",
    "similarities_politica = index[politica_tfidf]"
   ]
  },
  {
   "cell_type": "code",
   "execution_count": 32,
   "id": "f4f0faa0",
   "metadata": {},
   "outputs": [],
   "source": [
    "def get_prediction(index, \n",
    "                   similarities_deportes,       \n",
    "                   similarities_salud,                       \n",
    "                   similarities_ciencia,\n",
    "                   similarities_politica):\n",
    "    mejor_match = 0\n",
    "    mejor = \"No clasificado\"\n",
    "    if (similarities_deportes[index] > mejor_match):\n",
    "        mejor_match = similarities_deportes[index]\n",
    "        mejor = \"sports\"\n",
    "    if (similarities_salud[index] > mejor_match):\n",
    "        mejor_match = similarities_salud[index]\n",
    "        mejor = \"health\"\n",
    "    if (similarities_ciencia[index] > mejor_match):\n",
    "        mejor_match = similarities_ciencia[index]\n",
    "        mejor = \"science\"\n",
    "    if (similarities_politica[index] > mejor_match):\n",
    "        mejor_match = similarities_politica[index]\n",
    "        mejor = \"politics\"\n",
    "    return mejor\n",
    "    "
   ]
  },
  {
   "cell_type": "code",
   "execution_count": 33,
   "id": "38f7dc29",
   "metadata": {},
   "outputs": [],
   "source": [
    "predictions = []\n",
    "for i in range(len(docs_bow)):\n",
    "    pred = get_prediction(i, \n",
    "                          similarities_deportes,\n",
    "                          similarities_salud,\n",
    "                          similarities_ciencia,\n",
    "                          similarities_politica)\n",
    "    predictions.append(pred)"
   ]
  },
  {
   "cell_type": "code",
   "execution_count": 34,
   "id": "72d92357",
   "metadata": {},
   "outputs": [],
   "source": [
    "noticias_test_dataframe.insert(2, \"labels\", predictions)"
   ]
  },
  {
   "cell_type": "code",
   "execution_count": 35,
   "id": "04c47b76",
   "metadata": {},
   "outputs": [],
   "source": [
    "noticias_test_dataframe.to_csv('../Prediccion/predicciones.csv')"
   ]
  },
  {
   "cell_type": "code",
   "execution_count": 36,
   "id": "b9aeabbd",
   "metadata": {},
   "outputs": [
    {
     "data": {
      "text/html": [
       "<div>\n",
       "<style scoped>\n",
       "    .dataframe tbody tr th:only-of-type {\n",
       "        vertical-align: middle;\n",
       "    }\n",
       "\n",
       "    .dataframe tbody tr th {\n",
       "        vertical-align: top;\n",
       "    }\n",
       "\n",
       "    .dataframe thead th {\n",
       "        text-align: right;\n",
       "    }\n",
       "</style>\n",
       "<table border=\"1\" class=\"dataframe\">\n",
       "  <thead>\n",
       "    <tr style=\"text-align: right;\">\n",
       "      <th></th>\n",
       "      <th>index</th>\n",
       "      <th>category</th>\n",
       "      <th>labels</th>\n",
       "      <th>n_doc</th>\n",
       "      <th>title</th>\n",
       "      <th>path</th>\n",
       "      <th>link</th>\n",
       "      <th>docs</th>\n",
       "      <th>corpus</th>\n",
       "    </tr>\n",
       "  </thead>\n",
       "  <tbody>\n",
       "    <tr>\n",
       "      <th>0</th>\n",
       "      <td>21</td>\n",
       "      <td>sports</td>\n",
       "      <td>sports</td>\n",
       "      <td>22</td>\n",
       "      <td>Houston da la sorpresa remontando y derrotando...</td>\n",
       "      <td>./Datos/Raw_data/sports/22.txt</td>\n",
       "      <td>https://news.google.com/__i/rss/rd/articles/CB...</td>\n",
       "      <td>Jalen Green y los jóvenes Rockets sonrieron an...</td>\n",
       "      <td>Jalen Green joven Rockets sonreir anoche terri...</td>\n",
       "    </tr>\n",
       "    <tr>\n",
       "      <th>1</th>\n",
       "      <td>5</td>\n",
       "      <td>sports</td>\n",
       "      <td>sports</td>\n",
       "      <td>6</td>\n",
       "      <td>Cristiano Ronaldo exige a la Juventus 19,9 mil...</td>\n",
       "      <td>./Datos/Raw_data/sports/6.txt</td>\n",
       "      <td>https://news.google.com/__i/rss/rd/articles/CB...</td>\n",
       "      <td>El portugués reclama al club italiano los sala...</td>\n",
       "      <td>portugues reclamar club italiano salario pacta...</td>\n",
       "    </tr>\n",
       "    <tr>\n",
       "      <th>2</th>\n",
       "      <td>48</td>\n",
       "      <td>sports</td>\n",
       "      <td>sports</td>\n",
       "      <td>49</td>\n",
       "      <td>Alpine comenzó 2022 “en ruinas” - AS</td>\n",
       "      <td>./Datos/Raw_data/sports/49.txt</td>\n",
       "      <td>https://news.google.com/__i/rss/rd/articles/CB...</td>\n",
       "      <td>Alpine llegaba con grandes esperanzas a 2022. ...</td>\n",
       "      <td>Alpine llegar esperanza 2022 expectacion maxim...</td>\n",
       "    </tr>\n",
       "    <tr>\n",
       "      <th>3</th>\n",
       "      <td>13</td>\n",
       "      <td>sports</td>\n",
       "      <td>sports</td>\n",
       "      <td>14</td>\n",
       "      <td>Boicot de Mbappé al alcohol - AS</td>\n",
       "      <td>./Datos/Raw_data/sports/14.txt</td>\n",
       "      <td>https://news.google.com/__i/rss/rd/articles/CB...</td>\n",
       "      <td>Desde que comenzó el Mundial, Kylian Mbappé ha...</td>\n",
       "      <td>comenzar Mundial Kylian Mbappe seguir patron c...</td>\n",
       "    </tr>\n",
       "    <tr>\n",
       "      <th>4</th>\n",
       "      <td>46</td>\n",
       "      <td>sports</td>\n",
       "      <td>science</td>\n",
       "      <td>47</td>\n",
       "      <td>KTM recibe ayuda de la F1 - AS</td>\n",
       "      <td>./Datos/Raw_data/sports/47.txt</td>\n",
       "      <td>https://news.google.com/__i/rss/rd/articles/CB...</td>\n",
       "      <td>El techo presupuestario de la F1, tan polémico...</td>\n",
       "      <td>techo presupuestario F1 polemico temporada exc...</td>\n",
       "    </tr>\n",
       "    <tr>\n",
       "      <th>...</th>\n",
       "      <td>...</td>\n",
       "      <td>...</td>\n",
       "      <td>...</td>\n",
       "      <td>...</td>\n",
       "      <td>...</td>\n",
       "      <td>...</td>\n",
       "      <td>...</td>\n",
       "      <td>...</td>\n",
       "      <td>...</td>\n",
       "    </tr>\n",
       "    <tr>\n",
       "      <th>115</th>\n",
       "      <td>198</td>\n",
       "      <td>politics</td>\n",
       "      <td>politics</td>\n",
       "      <td>19</td>\n",
       "      <td>El PSOE se queda solo y no consigue limitar la...</td>\n",
       "      <td>./Datos/Raw_data/politics/19.txt</td>\n",
       "      <td>https://elpais.com/america-colombia/2022-12-08...</td>\n",
       "      <td>Castillo durÃ³ apenas un aÃ±o y medio en el po...</td>\n",
       "      <td>Castillo dura3 aao inestabilidad constante cen...</td>\n",
       "    </tr>\n",
       "    <tr>\n",
       "      <th>116</th>\n",
       "      <td>216</td>\n",
       "      <td>politics</td>\n",
       "      <td>health</td>\n",
       "      <td>37</td>\n",
       "      <td>Petro asegura que Pedro Castillo “se dejó llev...</td>\n",
       "      <td>./Datos/Raw_data/politics/37.txt</td>\n",
       "      <td>https://www.20minutos.es/noticia/5084030/0/rib...</td>\n",
       "      <td>Traducido al mensaje que tambiÃ©n la ComisiÃ³n...</td>\n",
       "      <td>traducido mensaje tambiA ComisiA3n Europea -qu...</td>\n",
       "    </tr>\n",
       "    <tr>\n",
       "      <th>117</th>\n",
       "      <td>221</td>\n",
       "      <td>politics</td>\n",
       "      <td>politics</td>\n",
       "      <td>42</td>\n",
       "      <td>Meloni cancela su viaje a Alicante por unagrip...</td>\n",
       "      <td>./Datos/Raw_data/politics/42.txt</td>\n",
       "      <td>https://elpais.com/espana/2022-12-13/bolanos-s...</td>\n",
       "      <td>Por otro lado, el presidente del grupo parlame...</td>\n",
       "      <td>presidente grupo parlamentario Unidas Jaume As...</td>\n",
       "    </tr>\n",
       "    <tr>\n",
       "      <th>118</th>\n",
       "      <td>195</td>\n",
       "      <td>politics</td>\n",
       "      <td>politics</td>\n",
       "      <td>16</td>\n",
       "      <td>El número de hogares acogidos a la tarifaregul...</td>\n",
       "      <td>./Datos/Raw_data/politics/16.txt</td>\n",
       "      <td>https://elpais.com/ideas/2022-12-09/la-subjeti...</td>\n",
       "      <td>Porque ambos exabruptos tienen defensa subjeti...</td>\n",
       "      <td>exabrupto defensa subjetivo partidario cultura...</td>\n",
       "    </tr>\n",
       "    <tr>\n",
       "      <th>119</th>\n",
       "      <td>211</td>\n",
       "      <td>politics</td>\n",
       "      <td>politics</td>\n",
       "      <td>32</td>\n",
       "      <td>El Gobierno cambia la ley para desbloquear lar...</td>\n",
       "      <td>./Datos/Raw_data/politics/32.txt</td>\n",
       "      <td>https://www.20minutos.es/noticia/5084166/0/erc...</td>\n",
       "      <td>ERC no se aclara en relaciÃ³n a la posibilidad...</td>\n",
       "      <td>ERC aclarar relacia3n posibilidad organizar re...</td>\n",
       "    </tr>\n",
       "  </tbody>\n",
       "</table>\n",
       "<p>120 rows × 9 columns</p>\n",
       "</div>"
      ],
      "text/plain": [
       "     index  category    labels  n_doc  \\\n",
       "0       21    sports    sports     22   \n",
       "1        5    sports    sports      6   \n",
       "2       48    sports    sports     49   \n",
       "3       13    sports    sports     14   \n",
       "4       46    sports   science     47   \n",
       "..     ...       ...       ...    ...   \n",
       "115    198  politics  politics     19   \n",
       "116    216  politics    health     37   \n",
       "117    221  politics  politics     42   \n",
       "118    195  politics  politics     16   \n",
       "119    211  politics  politics     32   \n",
       "\n",
       "                                                 title  \\\n",
       "0    Houston da la sorpresa remontando y derrotando...   \n",
       "1    Cristiano Ronaldo exige a la Juventus 19,9 mil...   \n",
       "2                Alpine comenzó 2022 “en ruinas” - AS    \n",
       "3                    Boicot de Mbappé al alcohol - AS    \n",
       "4                      KTM recibe ayuda de la F1 - AS    \n",
       "..                                                 ...   \n",
       "115  El PSOE se queda solo y no consigue limitar la...   \n",
       "116  Petro asegura que Pedro Castillo “se dejó llev...   \n",
       "117  Meloni cancela su viaje a Alicante por unagrip...   \n",
       "118  El número de hogares acogidos a la tarifaregul...   \n",
       "119  El Gobierno cambia la ley para desbloquear lar...   \n",
       "\n",
       "                                 path  \\\n",
       "0      ./Datos/Raw_data/sports/22.txt   \n",
       "1       ./Datos/Raw_data/sports/6.txt   \n",
       "2      ./Datos/Raw_data/sports/49.txt   \n",
       "3      ./Datos/Raw_data/sports/14.txt   \n",
       "4      ./Datos/Raw_data/sports/47.txt   \n",
       "..                                ...   \n",
       "115  ./Datos/Raw_data/politics/19.txt   \n",
       "116  ./Datos/Raw_data/politics/37.txt   \n",
       "117  ./Datos/Raw_data/politics/42.txt   \n",
       "118  ./Datos/Raw_data/politics/16.txt   \n",
       "119  ./Datos/Raw_data/politics/32.txt   \n",
       "\n",
       "                                                  link  \\\n",
       "0    https://news.google.com/__i/rss/rd/articles/CB...   \n",
       "1    https://news.google.com/__i/rss/rd/articles/CB...   \n",
       "2    https://news.google.com/__i/rss/rd/articles/CB...   \n",
       "3    https://news.google.com/__i/rss/rd/articles/CB...   \n",
       "4    https://news.google.com/__i/rss/rd/articles/CB...   \n",
       "..                                                 ...   \n",
       "115  https://elpais.com/america-colombia/2022-12-08...   \n",
       "116  https://www.20minutos.es/noticia/5084030/0/rib...   \n",
       "117  https://elpais.com/espana/2022-12-13/bolanos-s...   \n",
       "118  https://elpais.com/ideas/2022-12-09/la-subjeti...   \n",
       "119  https://www.20minutos.es/noticia/5084166/0/erc...   \n",
       "\n",
       "                                                  docs  \\\n",
       "0    Jalen Green y los jóvenes Rockets sonrieron an...   \n",
       "1    El portugués reclama al club italiano los sala...   \n",
       "2    Alpine llegaba con grandes esperanzas a 2022. ...   \n",
       "3    Desde que comenzó el Mundial, Kylian Mbappé ha...   \n",
       "4    El techo presupuestario de la F1, tan polémico...   \n",
       "..                                                 ...   \n",
       "115  Castillo durÃ³ apenas un aÃ±o y medio en el po...   \n",
       "116  Traducido al mensaje que tambiÃ©n la ComisiÃ³n...   \n",
       "117  Por otro lado, el presidente del grupo parlame...   \n",
       "118  Porque ambos exabruptos tienen defensa subjeti...   \n",
       "119  ERC no se aclara en relaciÃ³n a la posibilidad...   \n",
       "\n",
       "                                                corpus  \n",
       "0    Jalen Green joven Rockets sonreir anoche terri...  \n",
       "1    portugues reclamar club italiano salario pacta...  \n",
       "2    Alpine llegar esperanza 2022 expectacion maxim...  \n",
       "3    comenzar Mundial Kylian Mbappe seguir patron c...  \n",
       "4    techo presupuestario F1 polemico temporada exc...  \n",
       "..                                                 ...  \n",
       "115  Castillo dura3 aao inestabilidad constante cen...  \n",
       "116  traducido mensaje tambiA ComisiA3n Europea -qu...  \n",
       "117  presidente grupo parlamentario Unidas Jaume As...  \n",
       "118  exabrupto defensa subjetivo partidario cultura...  \n",
       "119  ERC aclarar relacia3n posibilidad organizar re...  \n",
       "\n",
       "[120 rows x 9 columns]"
      ]
     },
     "metadata": {},
     "output_type": "display_data"
    }
   ],
   "source": [
    "display(noticias_test_dataframe)"
   ]
  }
 ],
 "metadata": {
  "kernelspec": {
   "display_name": "Clasificacion_3915",
   "language": "python",
   "name": "python3"
  },
  "language_info": {
   "codemirror_mode": {
    "name": "ipython",
    "version": 3
   },
   "file_extension": ".py",
   "mimetype": "text/x-python",
   "name": "python",
   "nbconvert_exporter": "python",
   "pygments_lexer": "ipython3",
   "version": "3.9.15 (main, Nov 24 2022, 08:29:02) \n[Clang 14.0.6 ]"
  },
  "vscode": {
   "interpreter": {
    "hash": "a821d265b19b8e474c372894184ad502aefb1f7882947607cd0ea5f074b097d2"
   }
  }
 },
 "nbformat": 4,
 "nbformat_minor": 5
}
