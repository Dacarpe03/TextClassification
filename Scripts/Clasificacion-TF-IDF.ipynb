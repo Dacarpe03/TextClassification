{
 "cells": [
  {
   "cell_type": "markdown",
   "id": "5e55627a",
   "metadata": {},
   "source": [
    "## Clasificación TF-IDF"
   ]
  },
  {
   "cell_type": "code",
   "execution_count": 1,
   "id": "97e3e185",
   "metadata": {},
   "outputs": [],
   "source": [
    "import pandas as pd\n",
    "import numpy as np\n",
    "import matplotlib.pyplot as plt\n",
    "from gensim import corpora, models, similarities\n",
    "from gensim.utils import simple_preprocess\n",
    "from sklearn.metrics import confusion_matrix, precision_score, recall_score, f1_score, accuracy_score"
   ]
  },
  {
   "cell_type": "markdown",
   "id": "bca4c20e",
   "metadata": {},
   "source": [
    "Lo primero que necesitamos es cargar nuestros glosarios de términos para crear nuestro diccionario"
   ]
  },
  {
   "cell_type": "code",
   "execution_count": 2,
   "id": "53210baf",
   "metadata": {},
   "outputs": [],
   "source": [
    "def cargar_glosario(categoria):\n",
    "    fname = f\"../Datos/Glosarios/train/glosario_{categoria}.txt\"\n",
    "    glosario = []\n",
    "    with open(fname, 'r') as f:\n",
    "        glosario = [termino.rstrip('\\n') for termino in f.readlines()]\n",
    "    return glosario"
   ]
  },
  {
   "cell_type": "code",
   "execution_count": 3,
   "id": "cc61f677",
   "metadata": {},
   "outputs": [],
   "source": [
    "categorias = [\"deportes\", \"salud\", \"ciencia\", \"politica\"]\n",
    "glosarios = {}\n",
    "for categoria in categorias:\n",
    "    glosarios[categoria] = cargar_glosario(categoria)"
   ]
  },
  {
   "cell_type": "markdown",
   "id": "058d5091",
   "metadata": {},
   "source": [
    "Creamos nuestro diccionario de palabras en base a los terminos del glosario"
   ]
  },
  {
   "cell_type": "code",
   "execution_count": 4,
   "id": "4d5d6000",
   "metadata": {},
   "outputs": [],
   "source": [
    "def create_dictionary(glosarios):\n",
    "    doc_tokens = [[termino for termino in glosario] for glosario in glosarios.values()]\n",
    "    dictionary = corpora.Dictionary(doc_tokens)\n",
    "    return dictionary"
   ]
  },
  {
   "cell_type": "code",
   "execution_count": 5,
   "id": "805e38ab",
   "metadata": {},
   "outputs": [
    {
     "name": "stdout",
     "output_type": "stream",
     "text": [
      "Dictionary<200 unique tokens: ['aerodinamico', 'atletico', 'booker', 'boston', 'cambio']...>\n"
     ]
    }
   ],
   "source": [
    "glosarios_dict = create_dictionary(glosarios)\n",
    "print(glosarios_dict)"
   ]
  },
  {
   "cell_type": "markdown",
   "id": "fda7e821",
   "metadata": {},
   "source": [
    "Cargamos nuestras noticias de test y las convertimos a un bag of words utilizando nuestro diccionario"
   ]
  },
  {
   "cell_type": "code",
   "execution_count": 6,
   "id": "a2457a7d",
   "metadata": {},
   "outputs": [],
   "source": [
    "noticias_test_dataframe = pd.read_csv(\"../Datos/noticias_test.csv\")"
   ]
  },
  {
   "cell_type": "code",
   "execution_count": 7,
   "id": "bf2269bc",
   "metadata": {},
   "outputs": [],
   "source": [
    "def create_bag_of_words(docs_list, dictionary):\n",
    "    doc_tokens = [simple_preprocess(corpus) for corpus in docs_list]\n",
    "    docs_bow = [dictionary.doc2bow(doc) for doc in doc_tokens]\n",
    "    return docs_bow"
   ]
  },
  {
   "cell_type": "code",
   "execution_count": 8,
   "id": "3e63170a",
   "metadata": {},
   "outputs": [],
   "source": [
    "def create_tfidf(docs_bow):\n",
    "    docs_tfidf = models.TfidfModel(docs_bow, smartirs=\"lfc\")\n",
    "    return docs_tfidf"
   ]
  },
  {
   "cell_type": "markdown",
   "id": "8c4aa2d9",
   "metadata": {},
   "source": [
    "Ahora es momento de crear una bag of words para cada noticia en base a nuestro diccionario"
   ]
  },
  {
   "cell_type": "code",
   "execution_count": 9,
   "id": "66298fda",
   "metadata": {},
   "outputs": [
    {
     "name": "stdout",
     "output_type": "stream",
     "text": [
      "[(7, 1), (17, 2), (38, 1), (70, 1)]\n"
     ]
    }
   ],
   "source": [
    "docs_bow = create_bag_of_words(noticias_test_dataframe[\"corpus\"].values, glosarios_dict)\n",
    "print(docs_bow[19])"
   ]
  },
  {
   "cell_type": "markdown",
   "id": "ee5dd12c",
   "metadata": {},
   "source": [
    "Y con el bag of words podemos crear nuestro modelo tfidf"
   ]
  },
  {
   "cell_type": "code",
   "execution_count": 10,
   "id": "5a036143",
   "metadata": {},
   "outputs": [
    {
     "data": {
      "text/plain": [
       "[(1, 0.5047168663250167), (27, 0.8632849383877002)]"
      ]
     },
     "execution_count": 10,
     "metadata": {},
     "output_type": "execute_result"
    }
   ],
   "source": [
    "tfidf_model = create_tfidf(docs_bow)\n",
    "tfidf_model[docs_bow[0]]"
   ]
  },
  {
   "cell_type": "markdown",
   "id": "41e7fa32",
   "metadata": {},
   "source": [
    "Representamos nuestros glosarios en tfidf"
   ]
  },
  {
   "cell_type": "code",
   "execution_count": 11,
   "id": "9756e005",
   "metadata": {},
   "outputs": [],
   "source": [
    "deportes_bow = glosarios_dict.doc2bow(glosarios[\"deportes\"])\n",
    "deportes_tfidf = tfidf_model[deportes_bow]\n",
    "\n",
    "salud_bow = glosarios_dict.doc2bow(glosarios[\"salud\"])\n",
    "salud_tfidf = tfidf_model[salud_bow]\n",
    "\n",
    "ciencia_bow = glosarios_dict.doc2bow(glosarios[\"ciencia\"])\n",
    "ciencia_tfidf = tfidf_model[ciencia_bow]\n",
    "\n",
    "politica_bow = glosarios_dict.doc2bow(glosarios[\"politica\"])\n",
    "politica_tfidf = tfidf_model[politica_bow]"
   ]
  },
  {
   "cell_type": "markdown",
   "id": "10978c08",
   "metadata": {},
   "source": [
    "Ahora clasificamos"
   ]
  },
  {
   "cell_type": "code",
   "execution_count": 12,
   "id": "dad27af4",
   "metadata": {},
   "outputs": [],
   "source": [
    "index = similarities.MatrixSimilarity(tfidf_model[docs_bow])\n",
    "similarities_deportes = index[deportes_tfidf]\n",
    "similarities_salud = index[salud_tfidf]\n",
    "similarities_ciencia = index[ciencia_tfidf]\n",
    "similarities_politica = index[politica_tfidf]"
   ]
  },
  {
   "cell_type": "code",
   "execution_count": 13,
   "id": "6b850fb0",
   "metadata": {},
   "outputs": [],
   "source": [
    "def get_prediction(index, \n",
    "                   similarities_deportes,       \n",
    "                   similarities_salud,                       \n",
    "                   similarities_ciencia,\n",
    "                   similarities_politica):\n",
    "    mejor_match = 0\n",
    "    mejor = \"No clasificado\"\n",
    "    if (similarities_deportes[index] > mejor_match):\n",
    "        mejor_match = similarities_deportes[index]\n",
    "        mejor = \"sports\"\n",
    "    if (similarities_salud[index] > mejor_match):\n",
    "        mejor_match = similarities_salud[index]\n",
    "        mejor = \"health\"\n",
    "    if (similarities_ciencia[index] > mejor_match):\n",
    "        mejor_match = similarities_ciencia[index]\n",
    "        mejor = \"science\"\n",
    "    if (similarities_politica[index] > mejor_match):\n",
    "        mejor_match = similarities_politica[index]\n",
    "        mejor = \"politics\"\n",
    "    print(mejor)\n",
    "    return mejor, mejor_match\n",
    "    "
   ]
  },
  {
   "cell_type": "code",
   "execution_count": 14,
   "id": "aa693293",
   "metadata": {},
   "outputs": [
    {
     "name": "stdout",
     "output_type": "stream",
     "text": [
      "sports\n",
      "sports\n",
      "sports\n",
      "politics\n",
      "No clasificado\n",
      "sports\n",
      "sports\n",
      "sports\n",
      "sports\n",
      "politics\n",
      "No clasificado\n",
      "science\n",
      "politics\n",
      "sports\n",
      "sports\n",
      "sports\n",
      "No clasificado\n",
      "No clasificado\n",
      "sports\n",
      "sports\n",
      "sports\n",
      "No clasificado\n",
      "sports\n",
      "sports\n",
      "sports\n",
      "sports\n",
      "sports\n",
      "sports\n",
      "sports\n",
      "sports\n",
      "health\n",
      "sports\n",
      "science\n",
      "health\n",
      "health\n",
      "sports\n",
      "health\n",
      "No clasificado\n",
      "sports\n",
      "politics\n",
      "health\n",
      "sports\n",
      "health\n",
      "health\n",
      "health\n",
      "health\n",
      "science\n",
      "health\n",
      "health\n",
      "sports\n",
      "health\n",
      "health\n",
      "sports\n",
      "sports\n",
      "sports\n",
      "health\n",
      "science\n",
      "health\n",
      "No clasificado\n",
      "science\n",
      "health\n",
      "politics\n",
      "politics\n",
      "science\n",
      "science\n",
      "sports\n",
      "sports\n",
      "science\n",
      "science\n",
      "sports\n",
      "science\n",
      "science\n",
      "science\n",
      "health\n",
      "politics\n",
      "health\n",
      "science\n",
      "science\n",
      "health\n",
      "politics\n",
      "science\n",
      "science\n",
      "health\n",
      "science\n",
      "science\n",
      "politics\n",
      "health\n",
      "science\n",
      "health\n",
      "science\n",
      "No clasificado\n",
      "sports\n",
      "politics\n",
      "politics\n",
      "politics\n",
      "science\n",
      "politics\n",
      "politics\n",
      "politics\n",
      "politics\n",
      "politics\n",
      "politics\n",
      "politics\n",
      "science\n",
      "politics\n",
      "politics\n",
      "politics\n",
      "politics\n",
      "health\n",
      "sports\n",
      "politics\n",
      "politics\n",
      "sports\n",
      "politics\n",
      "politics\n",
      "politics\n",
      "politics\n",
      "politics\n",
      "No clasificado\n",
      "health\n"
     ]
    }
   ],
   "source": [
    "predictions = []\n",
    "similarities = []\n",
    "for i in range(len(docs_bow)):\n",
    "    pred, sim = get_prediction(i, \n",
    "                          similarities_deportes,\n",
    "                          similarities_salud,\n",
    "                          similarities_ciencia,\n",
    "                          similarities_politica)\n",
    "    similarities.append(sim)\n",
    "    predictions.append(pred)"
   ]
  },
  {
   "cell_type": "code",
   "execution_count": 15,
   "id": "afa31d2c",
   "metadata": {},
   "outputs": [],
   "source": [
    "noticias_test_dataframe.insert(2, \"preds\", predictions)\n",
    "noticias_test_dataframe.insert(3, \"similarity\", similarities)"
   ]
  },
  {
   "cell_type": "code",
   "execution_count": 16,
   "id": "df47c8b5",
   "metadata": {},
   "outputs": [],
   "source": [
    "noticias_test_dataframe.to_csv('../Prediccion/predicciones_noticias.csv')"
   ]
  },
  {
   "cell_type": "code",
   "execution_count": 17,
   "id": "17ed73ac",
   "metadata": {},
   "outputs": [],
   "source": [
    "def draw_confusion_matrix(cm, categories, normalize=True):\n",
    "    # Draw confusion matrix\n",
    "    fig = plt.figure(figsize=[3*pow(len(categories), 0.5), 2*pow(len(categories), 0.5)])\n",
    "    ax = fig.add_subplot(111)\n",
    "    if normalize:\n",
    "        cm = cm.astype('float') / np.maximum(cm.sum(axis=1)[:, np.newaxis], np.finfo(np.float64).eps)\n",
    "    im = ax.imshow(cm, interpolation='nearest', cmap=plt.cm.get_cmap('Blues'))\n",
    "    ax.figure.colorbar(im, ax=ax)\n",
    "    ax.set(xticks=np.arange(cm.shape[1]), yticks=np.arange(cm.shape[0]), xticklabels=categories, yticklabels=categories, ylabel='Annotation', xlabel='Prediction')\n",
    "    # Rotate the tick labels and set their alignment\n",
    "    plt.setp(ax.get_xticklabels(), rotation=45, ha=\"right\", rotation_mode=\"anchor\")\n",
    "    # Loop over data dimensions and create text annotations\n",
    "    fmt = '.2f' if normalize else 'd'\n",
    "    thresh = cm.max() / 2.0\n",
    "    for i in range(cm.shape[0]):\n",
    "        for j in range(cm.shape[1]):\n",
    "            ax.text(j, i, format(cm[i, j], fmt), ha=\"center\", va=\"center\", color=\"white\" if cm[i, j] > thresh else \"black\", fontsize=int(12-pow(len(categories), 0.5)))\n",
    "    fig.tight_layout()\n",
    "    plt.show(fig)"
   ]
  },
  {
   "cell_type": "code",
   "execution_count": 18,
   "id": "7c041081",
   "metadata": {},
   "outputs": [],
   "source": [
    "def discretizar_categorias(lista_cat):\n",
    "    lista = []\n",
    "    for c in lista_cat:\n",
    "        disc = 0\n",
    "        if (c==\"sports\"):\n",
    "            disc = 1\n",
    "        elif (c==\"health\"):\n",
    "            disc = 2\n",
    "        elif (c==\"science\"):\n",
    "            disc = 3\n",
    "        elif (c==\"politics\"):\n",
    "            disc = 4\n",
    "        lista.append(disc)\n",
    "    return np.array(lista)"
   ]
  },
  {
   "cell_type": "code",
   "execution_count": 19,
   "id": "096c0d7c",
   "metadata": {},
   "outputs": [
    {
     "name": "stdout",
     "output_type": "stream",
     "text": [
      "Accuracy: 64.86486486486487 %\n",
      "Recall: 65.64285714285714 %\n",
      "Precision: 65.17045454545453 %\n",
      "F1 score: 64.44960212201592 %\n"
     ]
    },
    {
     "data": {
      "image/png": "[encoded data removed]",
      "text/plain": [
       "<Figure size 600x400 with 2 Axes>"
      ]
     },
     "metadata": {},
     "output_type": "display_data"
    },
    {
     "name": "stdout",
     "output_type": "stream",
     "text": [
      "[[21  0  1  3]\n",
      " [ 8 15  4  1]\n",
      " [ 3  7 15  5]\n",
      " [ 3  2  2 21]]\n"
     ]
    }
   ],
   "source": [
    "noticias_res = noticias_test_dataframe.copy()    \n",
    "noticias_test_dataframe = noticias_test_dataframe[noticias_test_dataframe[\"preds\"]!=\"No clasificado\"]\n",
    "disc_truth = discretizar_categorias(noticias_test_dataframe[\"category\"].values)\n",
    "disc_pred = discretizar_categorias(noticias_test_dataframe[\"preds\"].values)\n",
    "print(\"Accuracy:\", accuracy_score(disc_truth, disc_pred)*100, \"%\")\n",
    "print(\"Recall:\", recall_score(disc_truth, disc_pred, average='macro')*100, \"%\")\n",
    "print(\"Precision:\", precision_score(disc_truth, disc_pred, average='macro')*100, \"%\")\n",
    "print(\"F1 score:\", f1_score(disc_truth, disc_pred, average='macro')*100, \"%\")\n",
    "cm = confusion_matrix(disc_truth, \n",
    "                      disc_pred)\n",
    "draw_confusion_matrix(cm, [\"sports\", \"health\", \"science\", \"politics\"])\n",
    "print(cm)"
   ]
  },
  {
   "cell_type": "code",
   "execution_count": 23,
   "id": "1d3fd852",
   "metadata": {
    "scrolled": false
   },
   "outputs": [
    {
     "name": "stdout",
     "output_type": "stream",
     "text": [
      "\n",
      "            \\begin{table}[!h]\n",
      "             \\centering\n",
      "                \\begin{tabular}{|l|c|c|c|}\n",
      "                        Golden State asesta otro ... & sports & sports & 0.356\\\\ \\hline\n",
      "                        Gobert toca fondo - AS ... & sports & sports & 0.355\\\\ \\hline\n",
      "                        El fútbol es un cuento - ... & sports & sports & 0.325\\\\ \\hline\n",
      "                        El fútbol fue lo de menos... & sports & sports & 0.305\\\\ \\hline\n",
      "                        De jefe de estrategia de ... & sports & sports & 0.273\\\\ \\hline\n",
      "                        Ferrari se enreda otra ve... & sports & sports & 0.272\\\\ \\hline\n",
      "                        LeBron James: \"No necesit... & sports & sports & 0.272\\\\ \\hline\n",
      "                        Bolaños asegura que los b... & sports & politics & 0.232\\\\ \\hline\n",
      "                        Domenicali: “Fernando Alo... & sports & sports & 0.219\\\\ \\hline\n",
      "                        Djokovic, espectador de l... & sports & sports & 0.219\\\\ \\hline\n",
      "                        Luis Enrique: «Si a Gavi ... & sports & sports & 0.2\\\\ \\hline\n",
      "                        Los diagnósticos ocultos ... & sports & health & 0.195\\\\ \\hline\n",
      "                        Houston da la sorpresa re... & sports & sports & 0.194\\\\ \\hline\n",
      "                        El mejor golpe de Rafa Na... & sports & sports & 0.187\\\\ \\hline\n",
      "                        ¿Debo entrenar si estoy e... & sports & health & 0.175\\\\ \\hline\n",
      "                        Sacramento arrasa en su v... & sports & sports & 0.161\\\\ \\hline\n",
      "                        Rafa Nadal podría empezar... & sports & sports & 0.155\\\\ \\hline\n",
      "                        Hawks y Nets han negociad... & sports & sports & 0.155\\\\ \\hline\n",
      "                        Jimmy Butler regresará es... & sports & sports & 0.155\\\\ \\hline\n",
      "                        El corredor de hidrógeno ... & sports & politics & 0.153\\\\ \\hline\n",
      "                        UNAM se suma a la lucha c... & sports & health & 0.152\\\\ \\hline\n",
      "                        T.J. Warren vuelve vuelve... & sports & sports & 0.129\\\\ \\hline\n",
      "                        Los antidepresivos pueden... & sports & health & 0.117\\\\ \\hline\n",
      "                        Europa recomienda retirar... & sports & health & 0.117\\\\ \\hline\n",
      "                        Qué medicamentos tomar y ... & sports & health & 0.105\\\\ \\hline\n",
      "                        \"Es el mismo Alonso que c... & sports & sports & 0.098\\\\ \\hline\n",
      "                        ¿Qué trastorno se esconde... & sports & health & 0.098\\\\ \\hline\n",
      "                        El Código Penal incluirá ... & sports & politics & 0.078\\\\ \\hline\n",
      "                        La Agencia EspacialEspaño... & sports & science & 0.078\\\\ \\hline\n",
      "                        Canadá Logra Su Primera C... & sports & sports & 0.078\\\\ \\hline\n",
      "                        En todos los idiomas, las... & sports & science & 0.077\\\\ \\hline\n",
      "                        Los pasajeros olvidados d... & sports & science & 0.077\\\\ \\hline\n",
      "                        OMS cambia el nombre de l... & sports & health & 0.072\\\\ \\hline\n",
      "                        Suspendido por una tangan... & sports & sports & 0.072\\\\ \\hline\n",
      "                        Ferrero: “Trabajar con Zv... & sports & sports & 0.058\\\\ \\hline\n",
      "                 \\end{tabular}\n",
      "              \\end{table}\n",
      "\n",
      "            \\begin{table}[!h]\n",
      "             \\centering\n",
      "                \\begin{tabular}{|l|c|c|c|}\n",
      "                        Huevos de codorniz, una s... & health & health & 0.297\\\\ \\hline\n",
      "                        “No se puede condenar a u... & health & health & 0.258\\\\ \\hline\n",
      "                        El número de hogares acog... & health & politics & 0.246\\\\ \\hline\n",
      "                        La revolucionariahipótesi... & health & science & 0.225\\\\ \\hline\n",
      "                        ¿De qué color es el fuego... & health & science & 0.221\\\\ \\hline\n",
      "                        Los animales también tien... & health & science & 0.218\\\\ \\hline\n",
      "                        Un fósil ubica al primere... & health & science & 0.215\\\\ \\hline\n",
      "                        El aparato más desconocid... & health & science & 0.209\\\\ \\hline\n",
      "                        ¿Cómo prevenir la caída d... & health & health & 0.191\\\\ \\hline\n",
      "                        ¿Es cierto que comer rápi... & health & health & 0.188\\\\ \\hline\n",
      "                        \"Tenemos una epidemia de ... & health & health & 0.174\\\\ \\hline\n",
      "                        BRONQUIOLITIS | Los pedia... & health & health & 0.166\\\\ \\hline\n",
      "                        ¿La bronquiolitis puede d... & health & health & 0.166\\\\ \\hline\n",
      "                        Coosalud EPS conmemora el... & health & health & 0.166\\\\ \\hline\n",
      "                        Conoce algunos de los rem... & health & health & 0.166\\\\ \\hline\n",
      "                        La bronquilotis. Pregunta... & health & health & 0.145\\\\ \\hline\n",
      "                        Guía para entender la epi... & health & health & 0.139\\\\ \\hline\n",
      "                        Los condilomas o verrugas... & health & health & 0.139\\\\ \\hline\n",
      "                        Una inteligencia artifici... & health & science & 0.122\\\\ \\hline\n",
      "                        15 recetas con nueces par... & health & health & 0.109\\\\ \\hline\n",
      "                        A la caza del segundoaguj... & health & science & 0.104\\\\ \\hline\n",
      "                        Las bacterias intestinale... & health & health & 0.096\\\\ \\hline\n",
      "                        Detectan envejecimiento p... & health & health & 0.091\\\\ \\hline\n",
      "                        Sánchez aspira a que la U... & health & politics & 0.075\\\\ \\hline\n",
      "                 \\end{tabular}\n",
      "              \\end{table}\n",
      "\n",
      "            \\begin{table}[!h]\n",
      "             \\centering\n",
      "                \\begin{tabular}{|l|c|c|c|}\n",
      "                        Cuándo es la última lunal... & science & science & 0.39\\\\ \\hline\n",
      "                        Un ordenador cuánticologr... & science & science & 0.281\\\\ \\hline\n",
      "                        ¿Podían los diplodocuspro... & science & science & 0.28\\\\ \\hline\n",
      "                        Marte no está muerto:hall... & science & science & 0.262\\\\ \\hline\n",
      "                        Un meteorito sobrevuelala... & science & science & 0.244\\\\ \\hline\n",
      "                        Medio siglo desde el Apol... & science & science & 0.237\\\\ \\hline\n",
      "                        ¿Por qué se echa sal a la... & science & science & 0.223\\\\ \\hline\n",
      "                        La catástrofe del vacío (... & science & science & 0.215\\\\ \\hline\n",
      "                        PSOE y Unidas Podemos pla... & science & politics & 0.214\\\\ \\hline\n",
      "                        Los responsables de medir... & science & science & 0.2\\\\ \\hline\n",
      "                        Lluvia de estrellas de la... & science & science & 0.189\\\\ \\hline\n",
      "                        Nudos que representan núm... & science & science & 0.186\\\\ \\hline\n",
      "                        ¿Y si los dinosaurios no ... & science & science & 0.186\\\\ \\hline\n",
      "                        MBST® Resonancia Terapéut... & science & health & 0.179\\\\ \\hline\n",
      "                        Buenos hábitos para contr... & science & health & 0.17\\\\ \\hline\n",
      "                        Así es el síndrome de la ... & science & science & 0.168\\\\ \\hline\n",
      "                        La ciencia confirma que e... & science & health & 0.143\\\\ \\hline\n",
      "                        Hallada en Marte una zona... & science & science & 0.139\\\\ \\hline\n",
      "                        Xavier Trias llama a los ... & science & politics & 0.139\\\\ \\hline\n",
      "                        ¿Existen minisatélites qu... & science & science & 0.114\\\\ \\hline\n",
      "                        El mejor superalimento fi... & science & health & 0.107\\\\ \\hline\n",
      "                        Stakhovsky carga contra l... & science & sports & 0.094\\\\ \\hline\n",
      "                 \\end{tabular}\n",
      "              \\end{table}\n",
      "\n",
      "            \\begin{table}[!h]\n",
      "             \\centering\n",
      "                \\begin{tabular}{|l|c|c|c|}\n",
      "                        El Ministerio de Igualdad... & politics & politics & 0.375\\\\ \\hline\n",
      "                        El espionaje a periodista... & politics & politics & 0.324\\\\ \\hline\n",
      "                        La vicepresidenta de Ceut... & politics & politics & 0.293\\\\ \\hline\n",
      "                        Que los politicos noJalte... & politics & politics & 0.282\\\\ \\hline\n",
      "                        Los 5 alimentos populares... & politics & health & 0.265\\\\ \\hline\n",
      "                        El Poder Judicial propone... & politics & politics & 0.248\\\\ \\hline\n",
      "                        David De la Cruz, un cand... & politics & politics & 0.247\\\\ \\hline\n",
      "                        Perú teme una debacle del... & politics & politics & 0.225\\\\ \\hline\n",
      "                        Feijóo rechaza la moción ... & politics & politics & 0.204\\\\ \\hline\n",
      "                        La comisión de Justicia a... & politics & politics & 0.198\\\\ \\hline\n",
      "                        Los conservadores del Pod... & politics & politics & 0.194\\\\ \\hline\n",
      "                        Podemos propone un cheque... & politics & politics & 0.194\\\\ \\hline\n",
      "                        Sandro Rosell anunciará t... & politics & politics & 0.193\\\\ \\hline\n",
      "                        Podemos ve con temor la r... & politics & politics & 0.191\\\\ \\hline\n",
      "                        Que el ruido no ensordezc... & politics & politics & 0.183\\\\ \\hline\n",
      "                        China, Ucranía y el litio... & politics & science & 0.18\\\\ \\hline\n",
      "                        España y el bloque de paí... & politics & politics & 0.174\\\\ \\hline\n",
      "                        No te obsesiones con laNo... & politics & science & 0.173\\\\ \\hline\n",
      "                        Una senadora demócrata de... & politics & politics & 0.172\\\\ \\hline\n",
      "                        El Gobierno cambia la ley... & politics & politics & 0.172\\\\ \\hline\n",
      "                        El PSOE y Unidas Podemos ... & politics & politics & 0.154\\\\ \\hline\n",
      "                        Leclerc explica por qué s... & politics & sports & 0.15\\\\ \\hline\n",
      "                        Trias se suma a la carrer... & politics & politics & 0.145\\\\ \\hline\n",
      "                        Audi crece para la F1 - A... & politics & sports & 0.143\\\\ \\hline\n",
      "                        EE.UU. anunciará el marte... & politics & science & 0.143\\\\ \\hline\n",
      "                        Campazzo quiere jugar en ... & politics & sports & 0.142\\\\ \\hline\n",
      "                        El ADN más antiguo jamás ... & politics & science & 0.139\\\\ \\hline\n",
      "                        Hito histórico de EEUU en... & politics & science & 0.134\\\\ \\hline\n",
      "                        UPN rompe con PP y Ciudad... & politics & politics & 0.112\\\\ \\hline\n",
      "                        En defensa del voto a los... & politics & politics & 0.083\\\\ \\hline\n",
      "                 \\end{tabular}\n",
      "              \\end{table}\n",
      "\n",
      "            \\begin{table}[!h]\n",
      "             \\centering\n",
      "                \\begin{tabular}{|l|c|c|c|}\n",
      "                        Meloni cancela su presenc... & No clasificado & politics & 0.0\\\\ \\hline\n",
      "                        Álex Palou, confirmado co... & No clasificado & sports & 0.0\\\\ \\hline\n",
      "                        La respuesta de Rafa Nada... & No clasificado & sports & 0.0\\\\ \\hline\n",
      "                        La dieta que reduce en un... & No clasificado & health & 0.0\\\\ \\hline\n",
      "                        Doncic se sale en la Meca... & No clasificado & sports & 0.0\\\\ \\hline\n",
      "                        El descalabro gigante de ... & No clasificado & sports & 0.0\\\\ \\hline\n",
      "                        La lesión de Juancho Hern... & No clasificado & sports & 0.0\\\\ \\hline\n",
      "                        Seis niños mueren en el R... & No clasificado & health & 0.0\\\\ \\hline\n",
      "                        El H2Med costará 2.500 mi... & No clasificado & politics & 0.0\\\\ \\hline\n",
      "                 \\end{tabular}\n",
      "              \\end{table}\n"
     ]
    }
   ],
   "source": [
    "noticias_res = noticias_res.sort_values('similarity', ascending=False)\n",
    "categorias = [\"sports\", \"health\", \"science\", \"politics\", \"No clasificado\"]\n",
    "nextline = \"\\\\\\ \\hline\"\n",
    "for c in categorias:\n",
    "    print()\n",
    "    print(\"            \\\\begin{table}[!h]\")\n",
    "    print(\"             \\centering\")\n",
    "    print(\"                \\\\begin{tabular}{|l|c|c|c|}\")\n",
    "    cat_df = noticias_res[noticias_res[\"preds\"]==c]\n",
    "    for index, row in cat_df.iterrows():\n",
    "        print(\"                        \" + row[\"title\"][0: 25] + \"... & \" + row[\"preds\"] + \" & \" + row[\"category\"] + \" & \" + str(round(row[\"similarity\"],3)) + nextline)\n",
    "    print(\"                 \\end{tabular}\")\n",
    "    print(\"              \\end{table}\")"
   ]
  },
  {
   "cell_type": "code",
   "execution_count": null,
   "id": "c41f905d",
   "metadata": {},
   "outputs": [],
   "source": []
  }
 ],
 "metadata": {
  "kernelspec": {
   "display_name": "Python 3 (ipykernel)",
   "language": "python",
   "name": "python3"
  },
  "language_info": {
   "codemirror_mode": {
    "name": "ipython",
    "version": 3
   },
   "file_extension": ".py",
   "mimetype": "text/x-python",
   "name": "python",
   "nbconvert_exporter": "python",
   "pygments_lexer": "ipython3",
   "version": "3.10.4"
  }
 },
 "nbformat": 4,
 "nbformat_minor": 5
}
